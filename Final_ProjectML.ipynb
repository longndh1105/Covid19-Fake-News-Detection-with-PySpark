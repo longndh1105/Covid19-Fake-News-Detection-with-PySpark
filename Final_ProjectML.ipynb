{
  "nbformat": 4,
  "nbformat_minor": 0,
  "metadata": {
    "colab": {
      "name": "Final_ProjectML.ipynb",
      "provenance": [],
      "collapsed_sections": [
        "nX39U0kg5Avo",
        "2bvneSa-brY_",
        "2OEpB1yAczLG",
        "uTQK7K4kdDEL",
        "zRTioRPG5Avr",
        "KCSj688FS5iW",
        "X9vgQV8XTCjF",
        "Ow1rru9SAQF2",
        "U-eXRrBfAQF2",
        "Bol0WWfyAQF3",
        "d6miDmfEAQF4",
        "J2x6LvZ_AQF5",
        "-L3qB_mQAQF6",
        "5XqPieBLAQF6",
        "V5PMILsqTLtd",
        "m-ciTllKHezJ",
        "sAwP89WbTPkN",
        "doTp3tunTkYH",
        "G-HlWrPaOqTw"
      ],
      "include_colab_link": true
    },
    "kernelspec": {
      "name": "python3",
      "display_name": "Python 3"
    },
    "language_info": {
      "name": "python"
    }
  },
  "cells": [
    {
      "cell_type": "markdown",
      "metadata": {
        "id": "view-in-github",
        "colab_type": "text"
      },
      "source": [
        "<a href=\"https://colab.research.google.com/github/longndh1105/Covid19-Fake-News-Detection-with-PySpark/blob/main/Final_ProjectML.ipynb\" target=\"_parent\"><img src=\"https://colab.research.google.com/assets/colab-badge.svg\" alt=\"Open In Colab\"/></a>"
      ]
    },
    {
      "cell_type": "markdown",
      "source": [
        "#Download"
      ],
      "metadata": {
        "id": "qpe5XZq-TYG9"
      }
    },
    {
      "cell_type": "code",
      "source": [
        "from google.colab import drive\n",
        "\n",
        "drive.mount('/content/gdrive')\n",
        "# drive._mount('/content/gdrive')"
      ],
      "metadata": {
        "id": "7luCtd3ew6Ib",
        "colab": {
          "base_uri": "https://localhost:8080/"
        },
        "outputId": "f5d2dcf2-7144-4e7a-cfcc-4ea248c877a8"
      },
      "execution_count": null,
      "outputs": [
        {
          "output_type": "stream",
          "name": "stdout",
          "text": [
            "Mounted at /content/gdrive\n"
          ]
        }
      ]
    },
    {
      "cell_type": "code",
      "source": [
        "!wget http://setup.johnsnowlabs.com/colab.sh -O - | bash"
      ],
      "metadata": {
        "colab": {
          "base_uri": "https://localhost:8080/"
        },
        "outputId": "c92f5453-1265-4c9a-e67a-d53cd7dd52a4",
        "id": "XUMCv5nH5Avn"
      },
      "execution_count": null,
      "outputs": [
        {
          "output_type": "stream",
          "name": "stdout",
          "text": [
            "--2022-01-27 13:55:29--  http://setup.johnsnowlabs.com/colab.sh\n",
            "Resolving setup.johnsnowlabs.com (setup.johnsnowlabs.com)... 51.158.130.125\n",
            "Connecting to setup.johnsnowlabs.com (setup.johnsnowlabs.com)|51.158.130.125|:80... connected.\n",
            "HTTP request sent, awaiting response... 302 Found\n",
            "Location: https://setup.johnsnowlabs.com/colab.sh [following]\n",
            "--2022-01-27 13:55:30--  https://setup.johnsnowlabs.com/colab.sh\n",
            "Connecting to setup.johnsnowlabs.com (setup.johnsnowlabs.com)|51.158.130.125|:443... connected.\n",
            "HTTP request sent, awaiting response... 302 Moved Temporarily\n",
            "Location: https://raw.githubusercontent.com/JohnSnowLabs/spark-nlp/master/scripts/colab_setup.sh [following]\n",
            "--2022-01-27 13:55:31--  https://raw.githubusercontent.com/JohnSnowLabs/spark-nlp/master/scripts/colab_setup.sh\n",
            "Resolving raw.githubusercontent.com (raw.githubusercontent.com)... 185.199.108.133, 185.199.109.133, 185.199.110.133, ...\n",
            "Connecting to raw.githubusercontent.com (raw.githubusercontent.com)|185.199.108.133|:443... failed: Connection timed out.\n",
            "Connecting to raw.githubusercontent.com (raw.githubusercontent.com)|185.199.109.133|:443... connected.\n",
            "HTTP request sent, awaiting response... 200 OK\n",
            "Length: 1453 (1.4K) [text/plain]\n",
            "Saving to: ‘STDOUT’\n",
            "\n",
            "-                   100%[===================>]   1.42K  --.-KB/s    in 0s      \n",
            "\n",
            "2022-01-27 13:57:42 (30.8 MB/s) - written to stdout [1453/1453]\n",
            "\n",
            "setup Colab for PySpark 3.0.3 and Spark NLP 3.4.0\n",
            "Installing PySpark 3.0.3 and Spark NLP 3.4.0\n",
            "\u001b[K     |████████████████████████████████| 209.1 MB 62 kB/s \n",
            "\u001b[K     |████████████████████████████████| 140 kB 63.6 MB/s \n",
            "\u001b[K     |████████████████████████████████| 198 kB 66.4 MB/s \n",
            "\u001b[?25h  Building wheel for pyspark (setup.py) ... \u001b[?25l\u001b[?25hdone\n"
          ]
        }
      ]
    },
    {
      "cell_type": "markdown",
      "source": [
        "## Data 1"
      ],
      "metadata": {
        "id": "BaP82R8f5Avn"
      }
    },
    {
      "cell_type": "code",
      "source": [
        "!mkdir data"
      ],
      "metadata": {
        "id": "FEXUyWmrcLfg"
      },
      "execution_count": null,
      "outputs": []
    },
    {
      "cell_type": "code",
      "source": [
        "!git clone https://github.com/diptamath/covid_fake_news.git\n",
        "!cp /content/covid_fake_news/data/Constraint_Test.csv -d /content/data/\n",
        "!cp /content/covid_fake_news/data/Constraint_Train.csv -d /content/data/\n",
        "!cp /content/covid_fake_news/data/Constraint_Val.csv -d /content/data/\n",
        "!cp /content/covid_fake_news/data/english_test_with_labels.csv -d /content/data/\n",
        "!rm -rf /content/covid_fake_news"
      ],
      "metadata": {
        "id": "W_50Ya0H3OjA",
        "colab": {
          "base_uri": "https://localhost:8080/"
        },
        "outputId": "87b46062-b8ca-401a-a71f-0bbf59676535"
      },
      "execution_count": null,
      "outputs": [
        {
          "output_type": "stream",
          "name": "stdout",
          "text": [
            "Cloning into 'covid_fake_news'...\n",
            "remote: Enumerating objects: 275, done.\u001b[K\n",
            "remote: Counting objects: 100% (275/275), done.\u001b[K\n",
            "remote: Compressing objects: 100% (182/182), done.\u001b[K\n",
            "remote: Total 275 (delta 160), reused 167 (delta 89), pack-reused 0\u001b[K\n",
            "Receiving objects: 100% (275/275), 4.75 MiB | 5.61 MiB/s, done.\n",
            "Resolving deltas: 100% (160/160), done.\n"
          ]
        }
      ]
    },
    {
      "cell_type": "markdown",
      "source": [
        "## Data 2"
      ],
      "metadata": {
        "id": "diRnm9LM5Avo"
      }
    },
    {
      "cell_type": "code",
      "source": [
        "#https://data.mendeley.com/datasets/zwfdmp5syg/1\n",
        "!wget https://md-datasets-cache-zipfiles-prod.s3.eu-west-1.amazonaws.com/zwfdmp5syg-1.zip\n",
        "!unzip '/content/zwfdmp5syg-1.zip' -d data\n",
        "!rm '/content/zwfdmp5syg-1.zip'"
      ],
      "metadata": {
        "id": "pACIh2IQEEci",
        "colab": {
          "base_uri": "https://localhost:8080/"
        },
        "outputId": "1ccc9c8c-c200-4ba7-aa2c-254b9bbc1641"
      },
      "execution_count": null,
      "outputs": [
        {
          "output_type": "stream",
          "name": "stdout",
          "text": [
            "--2022-01-27 13:58:25--  https://md-datasets-cache-zipfiles-prod.s3.eu-west-1.amazonaws.com/zwfdmp5syg-1.zip\n",
            "Resolving md-datasets-cache-zipfiles-prod.s3.eu-west-1.amazonaws.com (md-datasets-cache-zipfiles-prod.s3.eu-west-1.amazonaws.com)... 52.218.84.83\n",
            "Connecting to md-datasets-cache-zipfiles-prod.s3.eu-west-1.amazonaws.com (md-datasets-cache-zipfiles-prod.s3.eu-west-1.amazonaws.com)|52.218.84.83|:443... connected.\n",
            "HTTP request sent, awaiting response... 200 OK\n",
            "Length: 3640768 (3.5M) [application/octet-stream]\n",
            "Saving to: ‘zwfdmp5syg-1.zip’\n",
            "\n",
            "zwfdmp5syg-1.zip    100%[===================>]   3.47M   639KB/s    in 8.9s    \n",
            "\n",
            "2022-01-27 13:58:35 (400 KB/s) - ‘zwfdmp5syg-1.zip’ saved [3640768/3640768]\n",
            "\n",
            "Archive:  /content/zwfdmp5syg-1.zip\n",
            "  inflating: data/fake_new_dataset.xlsx  \n"
          ]
        }
      ]
    },
    {
      "cell_type": "markdown",
      "source": [
        "## Data 3"
      ],
      "metadata": {
        "id": "nX39U0kg5Avo"
      }
    },
    {
      "cell_type": "code",
      "source": [
        "!git clone https://github.com/VinAIResearch/COVID19Tweet.git\n",
        "!unzip '/content/COVID19Tweet/WNUT-2020-Task-2-Dataset.zip' -d data\n",
        "!rm -rf /content/COVID19Tweet"
      ],
      "metadata": {
        "colab": {
          "base_uri": "https://localhost:8080/"
        },
        "outputId": "5357732a-bd43-4686-c2bd-f297b4567f9d",
        "id": "2EVogIwf5Avo"
      },
      "execution_count": null,
      "outputs": [
        {
          "output_type": "stream",
          "name": "stdout",
          "text": [
            "Cloning into 'COVID19Tweet'...\n",
            "remote: Enumerating objects: 44, done.\u001b[K\n",
            "remote: Counting objects: 100% (44/44), done.\u001b[K\n",
            "remote: Compressing objects: 100% (37/37), done.\u001b[K\n",
            "remote: Total 44 (delta 13), reused 26 (delta 5), pack-reused 0\u001b[K\n",
            "Unpacking objects: 100% (44/44), done.\n",
            "Archive:  /content/COVID19Tweet/WNUT-2020-Task-2-Dataset.zip\n",
            "   creating: data/WNUT-2020-Task-2-Dataset/\n",
            "  inflating: data/WNUT-2020-Task-2-Dataset/train.tsv  \n",
            "  inflating: data/WNUT-2020-Task-2-Dataset/test.tsv  \n",
            "  inflating: data/WNUT-2020-Task-2-Dataset/unlabeled_test_with_noise.tsv  \n",
            "  inflating: data/WNUT-2020-Task-2-Dataset/valid.tsv  \n"
          ]
        }
      ]
    },
    {
      "cell_type": "code",
      "source": [
        "! kaggle competitions download -c 'real_or_fake'"
      ],
      "metadata": {
        "colab": {
          "base_uri": "https://localhost:8080/"
        },
        "outputId": "27f2dd74-23cb-4dc0-cc86-372c7e91ca80",
        "id": "gPUV2dtI5Avo"
      },
      "execution_count": null,
      "outputs": [
        {
          "output_type": "stream",
          "name": "stdout",
          "text": [
            "Traceback (most recent call last):\n",
            "  File \"/usr/local/bin/kaggle\", line 5, in <module>\n",
            "    from kaggle.cli import main\n",
            "  File \"/usr/local/lib/python2.7/dist-packages/kaggle/__init__.py\", line 23, in <module>\n",
            "    api.authenticate()\n",
            "  File \"/usr/local/lib/python2.7/dist-packages/kaggle/api/kaggle_api_extended.py\", line 146, in authenticate\n",
            "    self.config_file, self.config_dir))\n",
            "IOError: Could not find kaggle.json. Make sure it's located in /root/.kaggle. Or use the environment method.\n"
          ]
        }
      ]
    },
    {
      "cell_type": "markdown",
      "source": [
        "## Data 4"
      ],
      "metadata": {
        "id": "2bvneSa-brY_"
      }
    },
    {
      "cell_type": "code",
      "source": [
        "!gdown --id 1RkTMY0mMWEJrzY4E-F3utpwtc1iuXtcl\n",
        "!gdown --id 1xdkau8KwdU6taeR3Jf7n23kN4QQH1nHd\n",
        "!gdown --id 1KJO1xEEErPpQs6ApQNChhhP5J87QMXlS"
      ],
      "metadata": {
        "id": "oeHO6aR2bq1k"
      },
      "execution_count": null,
      "outputs": []
    },
    {
      "cell_type": "code",
      "source": [
        "!mv /content/train.csv /content/data\n",
        "!mv /content/test.csv /content/data\n",
        "!mv /content/submit.csv /content/data"
      ],
      "metadata": {
        "id": "MSDGUUnNcp_d"
      },
      "execution_count": null,
      "outputs": []
    },
    {
      "cell_type": "markdown",
      "source": [
        "## Data 5"
      ],
      "metadata": {
        "id": "2OEpB1yAczLG"
      }
    },
    {
      "cell_type": "code",
      "source": [
        "!gdown --id 1j5FBscldaLmbUo_y4FyqnpfA64V6DfCP\n",
        "!gdown --id 1guPX_2yy9CZ-kBJ_O5oJPDMyKVcwx41J"
      ],
      "metadata": {
        "id": "KR3JZIgLc0gS"
      },
      "execution_count": null,
      "outputs": []
    },
    {
      "cell_type": "code",
      "source": [
        "!mv /content/Fake.csv /content/data\n",
        "!mv /content/True.csv /content/data"
      ],
      "metadata": {
        "id": "v0lFVkNtdBcT"
      },
      "execution_count": null,
      "outputs": []
    },
    {
      "cell_type": "markdown",
      "source": [
        "## Data 6"
      ],
      "metadata": {
        "id": "uTQK7K4kdDEL"
      }
    },
    {
      "cell_type": "code",
      "source": [
        "!gdown --id 1Uu2oCCusHUKA-Oa8kug2GqU4F22eevP0"
      ],
      "metadata": {
        "id": "xImbN6vheO_m"
      },
      "execution_count": null,
      "outputs": []
    },
    {
      "cell_type": "code",
      "source": [
        "!mv /content/fake_or_real_news.csv /content/data"
      ],
      "metadata": {
        "id": "zjlKfilJeRM1"
      },
      "execution_count": null,
      "outputs": []
    },
    {
      "cell_type": "markdown",
      "source": [
        "## Data"
      ],
      "metadata": {
        "id": "zRTioRPG5Avr"
      }
    },
    {
      "cell_type": "code",
      "source": [
        "!wget -q https://raw.githubusercontent.com/mahavivo/vocabulary/master/lemmas/AntBNC_lemmas_ver_001.txt"
      ],
      "metadata": {
        "id": "SLGvnHXS6xoL"
      },
      "execution_count": null,
      "outputs": []
    },
    {
      "cell_type": "code",
      "source": [
        "# !wget https://nlp.stanford.edu/data/glove.840B.300d.zip\n",
        "# !unzip '/content/glove.840B.300d.zip' -d data\n",
        "# !rm '/content/glove.840B.300d.zip'"
      ],
      "metadata": {
        "id": "Sq87AqOM9qT-"
      },
      "execution_count": null,
      "outputs": []
    },
    {
      "cell_type": "code",
      "source": [
        "!gdown --id 1Qo7oTBtcc7McqK8dwC0aEyAAl4S0ju1B\n",
        "!mv /content/glove.840B.300d.txt /content/data"
      ],
      "metadata": {
        "colab": {
          "base_uri": "https://localhost:8080/"
        },
        "id": "4wZH2RgUeuil",
        "outputId": "ac1a9f52-d145-4a80-f64c-6756ca5978e8"
      },
      "execution_count": null,
      "outputs": [
        {
          "output_type": "stream",
          "name": "stdout",
          "text": [
            "Downloading...\n",
            "From: https://drive.google.com/uc?id=1Qo7oTBtcc7McqK8dwC0aEyAAl4S0ju1B\n",
            "To: /content/glove.840B.300d.txt\n",
            "100% 5.65G/5.65G [01:47<00:00, 52.7MB/s]\n"
          ]
        }
      ]
    },
    {
      "cell_type": "markdown",
      "source": [
        "# Final"
      ],
      "metadata": {
        "id": "bNhAq6Bv-N3M"
      }
    },
    {
      "cell_type": "markdown",
      "source": [
        "## Step 1"
      ],
      "metadata": {
        "id": "KCSj688FS5iW"
      }
    },
    {
      "cell_type": "code",
      "execution_count": null,
      "metadata": {
        "id": "PZxzAHFnz0Yo"
      },
      "outputs": [],
      "source": [
        "import json\n",
        "# import sparknlp\n",
        "import findspark\n",
        "import numpy as np\n",
        "import pandas as pd\n",
        "# from sparknlp.base import *\n",
        "from pyspark.ml import Pipeline, PipelineModel\n",
        "# from sparknlp.annotator import *\n",
        "import pyspark.sql.functions as f\n",
        "from pyspark.sql import SparkSession, Window\n",
        "from pyspark.ml.classification import LogisticRegression\n",
        "from pyspark.sql.types import DoubleType, LongType, IntegerType\n",
        "from pyspark.ml.evaluation import RegressionEvaluator, MulticlassClassificationEvaluator\n",
        "from pyspark.ml.feature import HashingTF, IDF, StringIndexer, SQLTransformer,IndexToString, CountVectorizer"
      ]
    },
    {
      "cell_type": "code",
      "source": [
        "from pyspark.ml.feature import (\n",
        "    StopWordsRemover,\n",
        "    Tokenizer,\n",
        "    HashingTF,\n",
        "    IDF,\n",
        "    Normalizer\n",
        ")\n",
        "from pyspark.ml.classification import LogisticRegression\n",
        "from pyspark.ml import Pipeline"
      ],
      "metadata": {
        "id": "cPnGvpD2Vz-h"
      },
      "execution_count": null,
      "outputs": []
    },
    {
      "cell_type": "markdown",
      "source": [
        "## Step 2"
      ],
      "metadata": {
        "id": "X9vgQV8XTCjF"
      }
    },
    {
      "cell_type": "code",
      "source": [
        "findspark.init()\n",
        "spark = SparkSession.builder.getOrCreate()"
      ],
      "metadata": {
        "id": "iAxPBLWi2p0I"
      },
      "execution_count": null,
      "outputs": []
    },
    {
      "cell_type": "markdown",
      "source": [
        "## Step 3"
      ],
      "metadata": {
        "id": "RYKBr4m_TJP1"
      }
    },
    {
      "cell_type": "markdown",
      "source": [
        "### Data 1"
      ],
      "metadata": {
        "id": "Ow1rru9SAQF2"
      }
    },
    {
      "cell_type": "code",
      "source": [
        "trainDataset = spark.createDataFrame(pd.read_csv(\"/content/data/Constraint_Train.csv\")).select('tweet', 'label')\n",
        "\n",
        "valDataset = spark.createDataFrame(pd.read_csv(\"/content/data/Constraint_Val.csv\")).select('tweet', 'label')\n",
        "\n",
        "# testDataset = spark.createDataFrame(pd.read_csv(\"/content/data/Constraint_Test.csv\")).select('tweet')\n",
        "testDataset = spark.createDataFrame(pd.read_csv(\"/content/data/english_test_with_labels.csv\")).select('tweet', 'label')"
      ],
      "metadata": {
        "id": "T1qU5qYp3EBr"
      },
      "execution_count": null,
      "outputs": []
    },
    {
      "cell_type": "code",
      "source": [
        "trainDataset.printSchema()\n",
        "valDataset.printSchema()\n",
        "testDataset.printSchema()\n",
        "print(trainDataset.count())\n",
        "print(valDataset.count())\n",
        "print(testDataset.count())"
      ],
      "metadata": {
        "colab": {
          "base_uri": "https://localhost:8080/"
        },
        "outputId": "620a2e4f-c2ae-4c9a-d9af-757e7c22693a",
        "id": "YtPglnj9AQF2"
      },
      "execution_count": null,
      "outputs": [
        {
          "output_type": "stream",
          "name": "stdout",
          "text": [
            "root\n",
            " |-- tweet: string (nullable = true)\n",
            " |-- label: string (nullable = true)\n",
            "\n",
            "root\n",
            " |-- tweet: string (nullable = true)\n",
            " |-- label: string (nullable = true)\n",
            "\n",
            "root\n",
            " |-- tweet: string (nullable = true)\n",
            " |-- label: string (nullable = true)\n",
            "\n",
            "6420\n",
            "2140\n",
            "2140\n"
          ]
        }
      ]
    },
    {
      "cell_type": "markdown",
      "source": [
        "\n",
        "### Data 2"
      ],
      "metadata": {
        "id": "U-eXRrBfAQF2"
      }
    },
    {
      "cell_type": "code",
      "source": [
        "udf = f.udf(lambda x: 'real' if x=='1' else 'fake')"
      ],
      "metadata": {
        "id": "Z6MaMN-vAQF3"
      },
      "execution_count": null,
      "outputs": []
    },
    {
      "cell_type": "code",
      "source": [
        "trainDataset1 = spark.createDataFrame(\n",
        "    pd.read_excel('/content/data/fake_new_dataset.xlsx', usecols=[2,4]), \n",
        "    schema=\"tweet string, label string \"\n",
        ")"
      ],
      "metadata": {
        "id": "46FR1PJgAQF3"
      },
      "execution_count": null,
      "outputs": []
    },
    {
      "cell_type": "code",
      "source": [
        "trainDataset1, valDataset1, testDataset1 = (\n",
        "    trainDataset1\n",
        "    .withColumn('label', udf(f.col('label')))\n",
        "    # .withColumn('id', f.row_number().over(Window.orderBy('id')))\n",
        "    .orderBy(f.rand())\n",
        "    .randomSplit([.8, .1, .1],seed=1234)\n",
        ")  "
      ],
      "metadata": {
        "id": "MnZy_gi6TjeS"
      },
      "execution_count": null,
      "outputs": []
    },
    {
      "cell_type": "code",
      "source": [
        "trainDataset1.printSchema()\n",
        "valDataset1.printSchema()\n",
        "testDataset1.printSchema()\n",
        "print(trainDataset1.count())\n",
        "print(valDataset1.count())\n",
        "print(testDataset1.count())"
      ],
      "metadata": {
        "colab": {
          "base_uri": "https://localhost:8080/"
        },
        "outputId": "4571d8a8-70c9-4253-b6fc-710a58154cf0",
        "id": "yrbdgEsfAQF3"
      },
      "execution_count": null,
      "outputs": [
        {
          "output_type": "stream",
          "name": "stdout",
          "text": [
            "root\n",
            " |-- tweet: string (nullable = true)\n",
            " |-- label: string (nullable = true)\n",
            "\n",
            "root\n",
            " |-- tweet: string (nullable = true)\n",
            " |-- label: string (nullable = true)\n",
            "\n",
            "root\n",
            " |-- tweet: string (nullable = true)\n",
            " |-- label: string (nullable = true)\n",
            "\n",
            "2513\n",
            "298\n",
            "308\n"
          ]
        }
      ]
    },
    {
      "cell_type": "markdown",
      "source": [
        "### Data 3"
      ],
      "metadata": {
        "id": "Bol0WWfyAQF3"
      }
    },
    {
      "cell_type": "code",
      "source": [
        "udf = f.udf(lambda x: 'real' if x=='INFORMATIVE' else 'fake')"
      ],
      "metadata": {
        "id": "eCBX56cEAQF3"
      },
      "execution_count": null,
      "outputs": []
    },
    {
      "cell_type": "code",
      "source": [
        "trainDataset2 = spark.read.csv(\n",
        "    path='/content/data/WNUT-2020-Task-2-Dataset/train.tsv',\n",
        "    sep='\\t',\n",
        "    header=True,\n",
        "    schema=\" id long, tweet string, label string \"\n",
        ")\n",
        "\n",
        "valDataset2 = spark.read.csv(\n",
        "    path='/content/data/WNUT-2020-Task-2-Dataset/valid.tsv',\n",
        "    sep='\\t',\n",
        "    schema=\" id long, tweet string, label string \"\n",
        ")\n",
        "\n",
        "testDataset2 = spark.read.csv(\n",
        "    path='/content/data/WNUT-2020-Task-2-Dataset/test.tsv',\n",
        "    sep='\\t',\n",
        "    schema=\" id long, tweet string, label string \"\n",
        ")\n",
        "\n",
        "# testDataset1 = spark.read.csv(\n",
        "#     path='/content/data/WNUT-2020-Task-2-Dataset/unlabeled_test_with_noise.tsv',\n",
        "#     sep='\\t',\n",
        "#     header=True,\n",
        "#     schema=' id long, tweet string '\n",
        "# )"
      ],
      "metadata": {
        "id": "aHDv2rPDAQF3"
      },
      "execution_count": null,
      "outputs": []
    },
    {
      "cell_type": "code",
      "source": [
        "trainDataset2 = (\n",
        "    trainDataset2\n",
        "    .withColumn('label', udf(f.col('label')))\n",
        "    .select('tweet', 'label')\n",
        "    # .withColumn('id', f.row_number().over(Window.orderBy('id')))\n",
        ")\n",
        "\n",
        "valDataset2 = (\n",
        "    valDataset2\n",
        "    .withColumn('label', udf(f.col('label')))\n",
        "    .select('tweet', 'label')\n",
        "    # .union(\n",
        "    #     valDataset2\n",
        "    #     .withColumn('label', udf(f.col('label')))\n",
        "    # )\n",
        "    # .withColumn('id', f.row_number().over(Window.orderBy('id')))\n",
        "    # .orderBy(f.rand())\n",
        "    # .randomSplit([.519, .481],seed=1234)[0]\n",
        ")\n",
        "\n",
        "testDataset2 = (\n",
        "    testDataset2\n",
        "    .withColumn('label', udf(f.col('label')))\n",
        "    .select('tweet', 'label')\n",
        "    # .withColumn('id', f.row_number().over(Window.orderBy('id'))) \\\n",
        "    # .orderBy(f.rand()) \\\n",
        "    # .randomSplit([.237, .763],seed=1234)[0]\n",
        ")"
      ],
      "metadata": {
        "id": "o9f_OOzBAQF4"
      },
      "execution_count": null,
      "outputs": []
    },
    {
      "cell_type": "code",
      "source": [
        "trainDataset2.printSchema()\n",
        "valDataset2.printSchema()\n",
        "testDataset2.printSchema()\n",
        "print(trainDataset2.count())\n",
        "print(valDataset2.count())\n",
        "print(testDataset2.count()) "
      ],
      "metadata": {
        "colab": {
          "base_uri": "https://localhost:8080/"
        },
        "outputId": "d96b6109-bcdf-42b0-e32b-5264f7440db2",
        "id": "XoEksqD3AQF4"
      },
      "execution_count": null,
      "outputs": [
        {
          "output_type": "stream",
          "name": "stdout",
          "text": [
            "root\n",
            " |-- tweet: string (nullable = true)\n",
            " |-- label: string (nullable = true)\n",
            "\n",
            "root\n",
            " |-- tweet: string (nullable = true)\n",
            " |-- label: string (nullable = true)\n",
            "\n",
            "root\n",
            " |-- tweet: string (nullable = true)\n",
            " |-- label: string (nullable = true)\n",
            "\n",
            "7000\n",
            "1000\n",
            "2000\n"
          ]
        }
      ]
    },
    {
      "cell_type": "markdown",
      "source": [
        "### Data 4"
      ],
      "metadata": {
        "id": "d6miDmfEAQF4"
      }
    },
    {
      "cell_type": "code",
      "source": [
        "trainDataset3 = pd.read_csv('/content/data/train.csv')\n",
        "valDataset3 = pd.read_csv('/content/data/test.csv')\n",
        "testDataset3 = pd.read_csv('/content/data/submit.csv')"
      ],
      "metadata": {
        "id": "5M14aLXnAQF4"
      },
      "execution_count": null,
      "outputs": []
    },
    {
      "cell_type": "code",
      "source": [
        "trainDataset3 = spark.createDataFrame(trainDataset3, schema=\" id long, title string, author string, tweet string, label long\")\n",
        "valDataset3 = spark.createDataFrame(valDataset3, schema=\" id long, title string, author string, tweet string\")\n",
        "testDataset3 = spark.createDataFrame(testDataset3, schema=\" id long, label long\")"
      ],
      "metadata": {
        "id": "Kq5pE9fMAQF4"
      },
      "execution_count": null,
      "outputs": []
    },
    {
      "cell_type": "code",
      "source": [
        "udf = f.udf(lambda x: 'real' if x==1 else 'fake')"
      ],
      "metadata": {
        "id": "zMhsUK6nAQF5"
      },
      "execution_count": null,
      "outputs": []
    },
    {
      "cell_type": "code",
      "source": [
        "trainDataset3 = (\n",
        "    trainDataset3\n",
        "    .select(\"tweet\", \"label\")\n",
        "    .withColumn('label', udf(f.col('label')))\n",
        ")\n",
        "valDataset3, testDataset3 = (\n",
        "    valDataset3\n",
        "    .join(testDataset3, \"id\", \"outer\")   \n",
        "    .select(\"tweet\", \"label\")\n",
        "    .withColumn('label', udf(f.col('label')))\n",
        "    .randomSplit([.5, .5],seed=1234)\n",
        ")"
      ],
      "metadata": {
        "id": "VjEVg2kCAQF5"
      },
      "execution_count": null,
      "outputs": []
    },
    {
      "cell_type": "code",
      "source": [
        "trainDataset3.printSchema()\n",
        "valDataset3.printSchema()\n",
        "testDataset3.printSchema()\n",
        "print(trainDataset3.count())\n",
        "print(valDataset3.count())\n",
        "print(testDataset3.count())"
      ],
      "metadata": {
        "colab": {
          "base_uri": "https://localhost:8080/"
        },
        "outputId": "52031d27-5e28-461e-8343-8e9881c392e7",
        "id": "aUTQUagbAQF5"
      },
      "execution_count": null,
      "outputs": [
        {
          "output_type": "stream",
          "name": "stdout",
          "text": [
            "root\n",
            " |-- tweet: string (nullable = true)\n",
            " |-- label: string (nullable = true)\n",
            "\n",
            "root\n",
            " |-- tweet: string (nullable = true)\n",
            " |-- label: string (nullable = true)\n",
            "\n",
            "root\n",
            " |-- tweet: string (nullable = true)\n",
            " |-- label: string (nullable = true)\n",
            "\n",
            "20800\n",
            "2554\n",
            "2646\n"
          ]
        }
      ]
    },
    {
      "cell_type": "markdown",
      "source": [
        "### Data 5"
      ],
      "metadata": {
        "id": "J2x6LvZ_AQF5"
      }
    },
    {
      "cell_type": "code",
      "source": [
        "trainDataset4 = pd.read_csv('/content/data/Fake.csv')\n",
        "valDataset4 = pd.read_csv('/content/data/True.csv')"
      ],
      "metadata": {
        "id": "zZ8sYCP-AQF5"
      },
      "execution_count": null,
      "outputs": []
    },
    {
      "cell_type": "code",
      "source": [
        "trainDataset4 = spark.createDataFrame(trainDataset4, schema=\"title string, tweet string, subject string, date string\")\n",
        "valDataset4 = spark.createDataFrame(valDataset4, schema=\"title string, tweet string, subject string, date string\")"
      ],
      "metadata": {
        "id": "km7bBEzrAQF5"
      },
      "execution_count": null,
      "outputs": []
    },
    {
      "cell_type": "code",
      "source": [
        "trainDataset4, valDataset4, testDataset4 = (\n",
        "    trainDataset4\n",
        "    .withColumn(\"label\", f.lit(\"fake\")).\n",
        "    union(\n",
        "        valDataset4\n",
        "        .withColumn(\"label\", f.lit(\"real\"))\n",
        "    )\n",
        "    .orderBy(f.rand())\n",
        "    .select([\"tweet\", \"label\"])\n",
        "    .randomSplit([.8, .1, .1],seed=1234)\n",
        ")"
      ],
      "metadata": {
        "id": "_DjgAmtMAQF5"
      },
      "execution_count": null,
      "outputs": []
    },
    {
      "cell_type": "code",
      "source": [
        "trainDataset4.printSchema()\n",
        "valDataset4.printSchema()\n",
        "testDataset4.printSchema()\n",
        "print(trainDataset4.count())\n",
        "print(valDataset4.count())\n",
        "print(testDataset4.count())"
      ],
      "metadata": {
        "colab": {
          "base_uri": "https://localhost:8080/"
        },
        "outputId": "1ed66992-a248-4817-fe28-fb70e7cdc7c7",
        "id": "d2meykEyAQF6"
      },
      "execution_count": null,
      "outputs": [
        {
          "output_type": "stream",
          "name": "stdout",
          "text": [
            "root\n",
            " |-- tweet: string (nullable = true)\n",
            " |-- label: string (nullable = false)\n",
            "\n",
            "root\n",
            " |-- tweet: string (nullable = true)\n",
            " |-- label: string (nullable = false)\n",
            "\n",
            "root\n",
            " |-- tweet: string (nullable = true)\n",
            " |-- label: string (nullable = false)\n",
            "\n",
            "35988\n",
            "4404\n",
            "4506\n"
          ]
        }
      ]
    },
    {
      "cell_type": "markdown",
      "source": [
        "### Data 6"
      ],
      "metadata": {
        "id": "-L3qB_mQAQF6"
      }
    },
    {
      "cell_type": "code",
      "source": [
        "trainDataset5 = pd.read_csv(\"/content/data/fake_or_real_news.csv\")"
      ],
      "metadata": {
        "id": "ovPdvoULAQF6"
      },
      "execution_count": null,
      "outputs": []
    },
    {
      "cell_type": "code",
      "source": [
        "trainDataset5 = spark.createDataFrame(trainDataset5, schema=\"id long, title string, tweet string, label string\").select([\"tweet\", \"label\"])"
      ],
      "metadata": {
        "id": "zfgRKtTZAQF6"
      },
      "execution_count": null,
      "outputs": []
    },
    {
      "cell_type": "code",
      "source": [
        "udf = f.udf(lambda x: 'fake' if x==\"FAKE\" else 'real')"
      ],
      "metadata": {
        "id": "EwfnapEgAQF6"
      },
      "execution_count": null,
      "outputs": []
    },
    {
      "cell_type": "code",
      "source": [
        "trainDataset5, valDataset5, testDataset5 = (\n",
        "    trainDataset5\n",
        "    .withColumn('label', udf(f.col('label')))\n",
        "    .randomSplit([.8, .1, .1],seed=1234)\n",
        ")"
      ],
      "metadata": {
        "id": "RfNx8wbTAQF6"
      },
      "execution_count": null,
      "outputs": []
    },
    {
      "cell_type": "code",
      "source": [
        "trainDataset5.printSchema()\n",
        "valDataset5.printSchema()\n",
        "testDataset5.printSchema()\n",
        "print(trainDataset5.count())\n",
        "print(valDataset5.count())\n",
        "print(testDataset5.count())"
      ],
      "metadata": {
        "colab": {
          "base_uri": "https://localhost:8080/"
        },
        "outputId": "3dbf4e67-7e76-416f-8b3c-93f7e9a5a223",
        "id": "69f8hGWFAQF6"
      },
      "execution_count": null,
      "outputs": [
        {
          "output_type": "stream",
          "name": "stdout",
          "text": [
            "root\n",
            " |-- tweet: string (nullable = true)\n",
            " |-- label: string (nullable = true)\n",
            "\n",
            "root\n",
            " |-- tweet: string (nullable = true)\n",
            " |-- label: string (nullable = true)\n",
            "\n",
            "root\n",
            " |-- tweet: string (nullable = true)\n",
            " |-- label: string (nullable = true)\n",
            "\n",
            "5109\n",
            "605\n",
            "621\n"
          ]
        }
      ]
    },
    {
      "cell_type": "markdown",
      "source": [
        "### Merge Data"
      ],
      "metadata": {
        "id": "5XqPieBLAQF6"
      }
    },
    {
      "cell_type": "code",
      "source": [
        "trainDataset = (\n",
        "    trainDataset\n",
        "    .union(trainDataset1)\n",
        "    .union(trainDataset2)\n",
        "    # .union(trainDataset3)\n",
        "    # .union(trainDataset4)\n",
        "    # .union(trainDataset5)\n",
        ")\n",
        "\n",
        "valDataset = (\n",
        "    valDataset\n",
        "    .union(valDataset1)\n",
        "    .union(valDataset2)\n",
        "    # .union(valDataset3)\n",
        "    # .union(valDataset4)\n",
        "    # .union(valDataset5)\n",
        ")\n",
        "\n",
        "testDataset = (\n",
        "    testDataset\n",
        "    .union(testDataset1)\n",
        "    .union(testDataset2)\n",
        "    # .union(testDataset3)\n",
        "    # .union(testDataset4)\n",
        "    # .union(testDataset5)\n",
        ")"
      ],
      "metadata": {
        "id": "82VUhWHxAQF7"
      },
      "execution_count": null,
      "outputs": []
    },
    {
      "cell_type": "code",
      "source": [
        "trainDataset.printSchema()\n",
        "valDataset.printSchema()\n",
        "testDataset.printSchema()\n",
        "print(trainDataset.count())\n",
        "print(valDataset.count())\n",
        "print(testDataset.count())"
      ],
      "metadata": {
        "colab": {
          "base_uri": "https://localhost:8080/"
        },
        "id": "oU7Tr2NslEgx",
        "outputId": "826797fe-7c28-407e-d598-4ab1b6e25246"
      },
      "execution_count": null,
      "outputs": [
        {
          "output_type": "stream",
          "name": "stdout",
          "text": [
            "root\n",
            " |-- tweet: string (nullable = true)\n",
            " |-- label: string (nullable = true)\n",
            "\n",
            "root\n",
            " |-- tweet: string (nullable = true)\n",
            " |-- label: string (nullable = true)\n",
            "\n",
            "root\n",
            " |-- tweet: string (nullable = true)\n",
            " |-- label: string (nullable = true)\n",
            "\n",
            "15933\n",
            "3438\n",
            "4448\n"
          ]
        }
      ]
    },
    {
      "cell_type": "code",
      "source": [
        "# #duc\n",
        "# udf = f.udf(lambda x: len(x.split()), IntegerType())\n",
        "# (\n",
        "#     trainDataset\n",
        "#     .withColumn('length of char', f.length('tweet'))\n",
        "#     .withColumn('length of word', udf(f.col('tweet')))\n",
        "#     .orderBy(f.col('length of char').desc(), f.col('length of word').desc())\n",
        "#     .select(f.mean(f.col(\"length of word\")), f.max(f.col(\"length of word\")), f.min(f.col(\"length of word\"))).show()\n",
        "# )"
      ],
      "metadata": {
        "id": "QSOHkxxOSkjE"
      },
      "execution_count": null,
      "outputs": []
    },
    {
      "cell_type": "code",
      "source": [
        "# #duc\n",
        "# udf = f.udf(lambda x: len(x.split()), IntegerType())\n",
        "# (\n",
        "#     trainDataset\n",
        "#     .withColumn('length of char', f.length('tweet'))\n",
        "#     .withColumn('length of word', udf(f.col('tweet')))\n",
        "#     .orderBy(f.col('length of char').desc(), f.col('length of word').desc())\n",
        "#     .select((f.col(\"length of word\")), f.max(f.col(\"length of word\")), f.min(f.col(\"length of word\"))).show()\n",
        "# )"
      ],
      "metadata": {
        "id": "vt-n6mrPunI5"
      },
      "execution_count": null,
      "outputs": []
    },
    {
      "cell_type": "code",
      "source": [
        "udf = f.udf(lambda x: len(x.split()), IntegerType())\n",
        "(\n",
        "    trainDataset\n",
        "    .withColumn('length of char', f.length('tweet'))\n",
        "    .withColumn('length of word', udf(f.col('tweet')))\n",
        "    .orderBy(f.col('length of char').desc(), f.col('length of word').desc())\n",
        "    .toPandas()\n",
        "    .head(5)\n",
        ")"
      ],
      "metadata": {
        "colab": {
          "base_uri": "https://localhost:8080/"
        },
        "id": "q_fF2fX4gaRi",
        "outputId": "19dd7a3e-4f7b-4594-e091-51aca008fc43"
      },
      "execution_count": null,
      "outputs": [
        {
          "output_type": "execute_result",
          "data": {
            "text/html": [
              "\n",
              "  <div id=\"df-06002d14-70d1-4905-901d-797a490e1081\">\n",
              "    <div class=\"colab-df-container\">\n",
              "      <div>\n",
              "<style scoped>\n",
              "    .dataframe tbody tr th:only-of-type {\n",
              "        vertical-align: middle;\n",
              "    }\n",
              "\n",
              "    .dataframe tbody tr th {\n",
              "        vertical-align: top;\n",
              "    }\n",
              "\n",
              "    .dataframe thead th {\n",
              "        text-align: right;\n",
              "    }\n",
              "</style>\n",
              "<table border=\"1\" class=\"dataframe\">\n",
              "  <thead>\n",
              "    <tr style=\"text-align: right;\">\n",
              "      <th></th>\n",
              "      <th>tweet</th>\n",
              "      <th>label</th>\n",
              "      <th>length of char</th>\n",
              "      <th>length of word</th>\n",
              "    </tr>\n",
              "  </thead>\n",
              "  <tbody>\n",
              "    <tr>\n",
              "      <th>0</th>\n",
              "      <td>This report discusses selected actions taken b...</td>\n",
              "      <td>real</td>\n",
              "      <td>32767</td>\n",
              "      <td>4874</td>\n",
              "    </tr>\n",
              "    <tr>\n",
              "      <th>1</th>\n",
              "      <td>I have been watching the continuing hysteria t...</td>\n",
              "      <td>fake</td>\n",
              "      <td>32564</td>\n",
              "      <td>5101</td>\n",
              "    </tr>\n",
              "    <tr>\n",
              "      <th>2</th>\n",
              "      <td>The temperature topped 100 degrees F (38 degre...</td>\n",
              "      <td>fake</td>\n",
              "      <td>32165</td>\n",
              "      <td>5469</td>\n",
              "    </tr>\n",
              "    <tr>\n",
              "      <th>3</th>\n",
              "      <td>Story by Celia Farber with research contributi...</td>\n",
              "      <td>fake</td>\n",
              "      <td>26296</td>\n",
              "      <td>4389</td>\n",
              "    </tr>\n",
              "    <tr>\n",
              "      <th>4</th>\n",
              "      <td>Just yesterday we predicted that it is only a ...</td>\n",
              "      <td>real</td>\n",
              "      <td>24665</td>\n",
              "      <td>4082</td>\n",
              "    </tr>\n",
              "  </tbody>\n",
              "</table>\n",
              "</div>\n",
              "      <button class=\"colab-df-convert\" onclick=\"convertToInteractive('df-06002d14-70d1-4905-901d-797a490e1081')\"\n",
              "              title=\"Convert this dataframe to an interactive table.\"\n",
              "              style=\"display:none;\">\n",
              "        \n",
              "  <svg xmlns=\"http://www.w3.org/2000/svg\" height=\"24px\"viewBox=\"0 0 24 24\"\n",
              "       width=\"24px\">\n",
              "    <path d=\"M0 0h24v24H0V0z\" fill=\"none\"/>\n",
              "    <path d=\"M18.56 5.44l.94 2.06.94-2.06 2.06-.94-2.06-.94-.94-2.06-.94 2.06-2.06.94zm-11 1L8.5 8.5l.94-2.06 2.06-.94-2.06-.94L8.5 2.5l-.94 2.06-2.06.94zm10 10l.94 2.06.94-2.06 2.06-.94-2.06-.94-.94-2.06-.94 2.06-2.06.94z\"/><path d=\"M17.41 7.96l-1.37-1.37c-.4-.4-.92-.59-1.43-.59-.52 0-1.04.2-1.43.59L10.3 9.45l-7.72 7.72c-.78.78-.78 2.05 0 2.83L4 21.41c.39.39.9.59 1.41.59.51 0 1.02-.2 1.41-.59l7.78-7.78 2.81-2.81c.8-.78.8-2.07 0-2.86zM5.41 20L4 18.59l7.72-7.72 1.47 1.35L5.41 20z\"/>\n",
              "  </svg>\n",
              "      </button>\n",
              "      \n",
              "  <style>\n",
              "    .colab-df-container {\n",
              "      display:flex;\n",
              "      flex-wrap:wrap;\n",
              "      gap: 12px;\n",
              "    }\n",
              "\n",
              "    .colab-df-convert {\n",
              "      background-color: #E8F0FE;\n",
              "      border: none;\n",
              "      border-radius: 50%;\n",
              "      cursor: pointer;\n",
              "      display: none;\n",
              "      fill: #1967D2;\n",
              "      height: 32px;\n",
              "      padding: 0 0 0 0;\n",
              "      width: 32px;\n",
              "    }\n",
              "\n",
              "    .colab-df-convert:hover {\n",
              "      background-color: #E2EBFA;\n",
              "      box-shadow: 0px 1px 2px rgba(60, 64, 67, 0.3), 0px 1px 3px 1px rgba(60, 64, 67, 0.15);\n",
              "      fill: #174EA6;\n",
              "    }\n",
              "\n",
              "    [theme=dark] .colab-df-convert {\n",
              "      background-color: #3B4455;\n",
              "      fill: #D2E3FC;\n",
              "    }\n",
              "\n",
              "    [theme=dark] .colab-df-convert:hover {\n",
              "      background-color: #434B5C;\n",
              "      box-shadow: 0px 1px 3px 1px rgba(0, 0, 0, 0.15);\n",
              "      filter: drop-shadow(0px 1px 2px rgba(0, 0, 0, 0.3));\n",
              "      fill: #FFFFFF;\n",
              "    }\n",
              "  </style>\n",
              "\n",
              "      <script>\n",
              "        const buttonEl =\n",
              "          document.querySelector('#df-06002d14-70d1-4905-901d-797a490e1081 button.colab-df-convert');\n",
              "        buttonEl.style.display =\n",
              "          google.colab.kernel.accessAllowed ? 'block' : 'none';\n",
              "\n",
              "        async function convertToInteractive(key) {\n",
              "          const element = document.querySelector('#df-06002d14-70d1-4905-901d-797a490e1081');\n",
              "          const dataTable =\n",
              "            await google.colab.kernel.invokeFunction('convertToInteractive',\n",
              "                                                     [key], {});\n",
              "          if (!dataTable) return;\n",
              "\n",
              "          const docLinkHtml = 'Like what you see? Visit the ' +\n",
              "            '<a target=\"_blank\" href=https://colab.research.google.com/notebooks/data_table.ipynb>data table notebook</a>'\n",
              "            + ' to learn more about interactive tables.';\n",
              "          element.innerHTML = '';\n",
              "          dataTable['output_type'] = 'display_data';\n",
              "          await google.colab.output.renderOutput(dataTable, element);\n",
              "          const docLink = document.createElement('div');\n",
              "          docLink.innerHTML = docLinkHtml;\n",
              "          element.appendChild(docLink);\n",
              "        }\n",
              "      </script>\n",
              "    </div>\n",
              "  </div>\n",
              "  "
            ],
            "text/plain": [
              "                                               tweet  ... length of word\n",
              "0  This report discusses selected actions taken b...  ...           4874\n",
              "1  I have been watching the continuing hysteria t...  ...           5101\n",
              "2  The temperature topped 100 degrees F (38 degre...  ...           5469\n",
              "3  Story by Celia Farber with research contributi...  ...           4389\n",
              "4  Just yesterday we predicted that it is only a ...  ...           4082\n",
              "\n",
              "[5 rows x 4 columns]"
            ]
          },
          "metadata": {},
          "execution_count": 26
        }
      ]
    },
    {
      "cell_type": "code",
      "source": [
        "(\n",
        "    trainDataset\n",
        "    .withColumn('length of word', udf(f.col('tweet')))\n",
        "    .withColumn('length of char', f.length('tweet'))\n",
        "    .orderBy(f.col('length of word').desc(), f.col('length of char').desc())\n",
        "    .toPandas()\n",
        "    .head(5)\n",
        ")"
      ],
      "metadata": {
        "colab": {
          "base_uri": "https://localhost:8080/"
        },
        "id": "ZBRMAbJRsHpa",
        "outputId": "d454238b-4bce-4394-afaf-b8a9a59d015f"
      },
      "execution_count": null,
      "outputs": [
        {
          "output_type": "execute_result",
          "data": {
            "text/html": [
              "\n",
              "  <div id=\"df-d66bdd69-2cc6-430c-8211-b53291d2f720\">\n",
              "    <div class=\"colab-df-container\">\n",
              "      <div>\n",
              "<style scoped>\n",
              "    .dataframe tbody tr th:only-of-type {\n",
              "        vertical-align: middle;\n",
              "    }\n",
              "\n",
              "    .dataframe tbody tr th {\n",
              "        vertical-align: top;\n",
              "    }\n",
              "\n",
              "    .dataframe thead th {\n",
              "        text-align: right;\n",
              "    }\n",
              "</style>\n",
              "<table border=\"1\" class=\"dataframe\">\n",
              "  <thead>\n",
              "    <tr style=\"text-align: right;\">\n",
              "      <th></th>\n",
              "      <th>tweet</th>\n",
              "      <th>label</th>\n",
              "      <th>length of word</th>\n",
              "      <th>length of char</th>\n",
              "    </tr>\n",
              "  </thead>\n",
              "  <tbody>\n",
              "    <tr>\n",
              "      <th>0</th>\n",
              "      <td>The temperature topped 100 degrees F (38 degre...</td>\n",
              "      <td>fake</td>\n",
              "      <td>5469</td>\n",
              "      <td>32165</td>\n",
              "    </tr>\n",
              "    <tr>\n",
              "      <th>1</th>\n",
              "      <td>I have been watching the continuing hysteria t...</td>\n",
              "      <td>fake</td>\n",
              "      <td>5101</td>\n",
              "      <td>32564</td>\n",
              "    </tr>\n",
              "    <tr>\n",
              "      <th>2</th>\n",
              "      <td>This report discusses selected actions taken b...</td>\n",
              "      <td>real</td>\n",
              "      <td>4874</td>\n",
              "      <td>32767</td>\n",
              "    </tr>\n",
              "    <tr>\n",
              "      <th>3</th>\n",
              "      <td>Story by Celia Farber with research contributi...</td>\n",
              "      <td>fake</td>\n",
              "      <td>4389</td>\n",
              "      <td>26296</td>\n",
              "    </tr>\n",
              "    <tr>\n",
              "      <th>4</th>\n",
              "      <td>Just yesterday we predicted that it is only a ...</td>\n",
              "      <td>real</td>\n",
              "      <td>4082</td>\n",
              "      <td>24665</td>\n",
              "    </tr>\n",
              "  </tbody>\n",
              "</table>\n",
              "</div>\n",
              "      <button class=\"colab-df-convert\" onclick=\"convertToInteractive('df-d66bdd69-2cc6-430c-8211-b53291d2f720')\"\n",
              "              title=\"Convert this dataframe to an interactive table.\"\n",
              "              style=\"display:none;\">\n",
              "        \n",
              "  <svg xmlns=\"http://www.w3.org/2000/svg\" height=\"24px\"viewBox=\"0 0 24 24\"\n",
              "       width=\"24px\">\n",
              "    <path d=\"M0 0h24v24H0V0z\" fill=\"none\"/>\n",
              "    <path d=\"M18.56 5.44l.94 2.06.94-2.06 2.06-.94-2.06-.94-.94-2.06-.94 2.06-2.06.94zm-11 1L8.5 8.5l.94-2.06 2.06-.94-2.06-.94L8.5 2.5l-.94 2.06-2.06.94zm10 10l.94 2.06.94-2.06 2.06-.94-2.06-.94-.94-2.06-.94 2.06-2.06.94z\"/><path d=\"M17.41 7.96l-1.37-1.37c-.4-.4-.92-.59-1.43-.59-.52 0-1.04.2-1.43.59L10.3 9.45l-7.72 7.72c-.78.78-.78 2.05 0 2.83L4 21.41c.39.39.9.59 1.41.59.51 0 1.02-.2 1.41-.59l7.78-7.78 2.81-2.81c.8-.78.8-2.07 0-2.86zM5.41 20L4 18.59l7.72-7.72 1.47 1.35L5.41 20z\"/>\n",
              "  </svg>\n",
              "      </button>\n",
              "      \n",
              "  <style>\n",
              "    .colab-df-container {\n",
              "      display:flex;\n",
              "      flex-wrap:wrap;\n",
              "      gap: 12px;\n",
              "    }\n",
              "\n",
              "    .colab-df-convert {\n",
              "      background-color: #E8F0FE;\n",
              "      border: none;\n",
              "      border-radius: 50%;\n",
              "      cursor: pointer;\n",
              "      display: none;\n",
              "      fill: #1967D2;\n",
              "      height: 32px;\n",
              "      padding: 0 0 0 0;\n",
              "      width: 32px;\n",
              "    }\n",
              "\n",
              "    .colab-df-convert:hover {\n",
              "      background-color: #E2EBFA;\n",
              "      box-shadow: 0px 1px 2px rgba(60, 64, 67, 0.3), 0px 1px 3px 1px rgba(60, 64, 67, 0.15);\n",
              "      fill: #174EA6;\n",
              "    }\n",
              "\n",
              "    [theme=dark] .colab-df-convert {\n",
              "      background-color: #3B4455;\n",
              "      fill: #D2E3FC;\n",
              "    }\n",
              "\n",
              "    [theme=dark] .colab-df-convert:hover {\n",
              "      background-color: #434B5C;\n",
              "      box-shadow: 0px 1px 3px 1px rgba(0, 0, 0, 0.15);\n",
              "      filter: drop-shadow(0px 1px 2px rgba(0, 0, 0, 0.3));\n",
              "      fill: #FFFFFF;\n",
              "    }\n",
              "  </style>\n",
              "\n",
              "      <script>\n",
              "        const buttonEl =\n",
              "          document.querySelector('#df-d66bdd69-2cc6-430c-8211-b53291d2f720 button.colab-df-convert');\n",
              "        buttonEl.style.display =\n",
              "          google.colab.kernel.accessAllowed ? 'block' : 'none';\n",
              "\n",
              "        async function convertToInteractive(key) {\n",
              "          const element = document.querySelector('#df-d66bdd69-2cc6-430c-8211-b53291d2f720');\n",
              "          const dataTable =\n",
              "            await google.colab.kernel.invokeFunction('convertToInteractive',\n",
              "                                                     [key], {});\n",
              "          if (!dataTable) return;\n",
              "\n",
              "          const docLinkHtml = 'Like what you see? Visit the ' +\n",
              "            '<a target=\"_blank\" href=https://colab.research.google.com/notebooks/data_table.ipynb>data table notebook</a>'\n",
              "            + ' to learn more about interactive tables.';\n",
              "          element.innerHTML = '';\n",
              "          dataTable['output_type'] = 'display_data';\n",
              "          await google.colab.output.renderOutput(dataTable, element);\n",
              "          const docLink = document.createElement('div');\n",
              "          docLink.innerHTML = docLinkHtml;\n",
              "          element.appendChild(docLink);\n",
              "        }\n",
              "      </script>\n",
              "    </div>\n",
              "  </div>\n",
              "  "
            ],
            "text/plain": [
              "                                               tweet  ... length of char\n",
              "0  The temperature topped 100 degrees F (38 degre...  ...          32165\n",
              "1  I have been watching the continuing hysteria t...  ...          32564\n",
              "2  This report discusses selected actions taken b...  ...          32767\n",
              "3  Story by Celia Farber with research contributi...  ...          26296\n",
              "4  Just yesterday we predicted that it is only a ...  ...          24665\n",
              "\n",
              "[5 rows x 4 columns]"
            ]
          },
          "metadata": {},
          "execution_count": 27
        }
      ]
    },
    {
      "cell_type": "code",
      "source": [
        "(\n",
        "    valDataset\n",
        "    .withColumn('length of char', f.length('tweet'))\n",
        "    .withColumn('length of word', udf(f.col('tweet')))\n",
        "    .orderBy(f.col('length of char').desc(), f.col('length of word').desc())\n",
        "    .toPandas()\n",
        "    .head(5)\n",
        ")"
      ],
      "metadata": {
        "colab": {
          "base_uri": "https://localhost:8080/"
        },
        "id": "vwdaQCfGsMBb",
        "outputId": "c5cb906c-594b-4844-c9fc-7bde6aec124c"
      },
      "execution_count": null,
      "outputs": [
        {
          "output_type": "execute_result",
          "data": {
            "text/html": [
              "\n",
              "  <div id=\"df-96bbf769-4fee-454d-bf37-902ae7e303e4\">\n",
              "    <div class=\"colab-df-container\">\n",
              "      <div>\n",
              "<style scoped>\n",
              "    .dataframe tbody tr th:only-of-type {\n",
              "        vertical-align: middle;\n",
              "    }\n",
              "\n",
              "    .dataframe tbody tr th {\n",
              "        vertical-align: top;\n",
              "    }\n",
              "\n",
              "    .dataframe thead th {\n",
              "        text-align: right;\n",
              "    }\n",
              "</style>\n",
              "<table border=\"1\" class=\"dataframe\">\n",
              "  <thead>\n",
              "    <tr style=\"text-align: right;\">\n",
              "      <th></th>\n",
              "      <th>tweet</th>\n",
              "      <th>label</th>\n",
              "      <th>length of char</th>\n",
              "      <th>length of word</th>\n",
              "    </tr>\n",
              "  </thead>\n",
              "  <tbody>\n",
              "    <tr>\n",
              "      <th>0</th>\n",
              "      <td>Coronavirus 2019-nCoV, able to enter and infec...</td>\n",
              "      <td>fake</td>\n",
              "      <td>32725</td>\n",
              "      <td>4970</td>\n",
              "    </tr>\n",
              "    <tr>\n",
              "      <th>1</th>\n",
              "      <td>LatinFinance is making some of its most import...</td>\n",
              "      <td>fake</td>\n",
              "      <td>28794</td>\n",
              "      <td>4655</td>\n",
              "    </tr>\n",
              "    <tr>\n",
              "      <th>2</th>\n",
              "      <td>And sure enough, less than 24 hours later, in ...</td>\n",
              "      <td>fake</td>\n",
              "      <td>24455</td>\n",
              "      <td>4045</td>\n",
              "    </tr>\n",
              "    <tr>\n",
              "      <th>3</th>\n",
              "      <td>First Covid-19 hotspot in Delhi declared non-c...</td>\n",
              "      <td>fake</td>\n",
              "      <td>20353</td>\n",
              "      <td>3352</td>\n",
              "    </tr>\n",
              "    <tr>\n",
              "      <th>4</th>\n",
              "      <td>CMAAO Update 8 th February on Corona 2019 nCoV...</td>\n",
              "      <td>real</td>\n",
              "      <td>17842</td>\n",
              "      <td>2865</td>\n",
              "    </tr>\n",
              "  </tbody>\n",
              "</table>\n",
              "</div>\n",
              "      <button class=\"colab-df-convert\" onclick=\"convertToInteractive('df-96bbf769-4fee-454d-bf37-902ae7e303e4')\"\n",
              "              title=\"Convert this dataframe to an interactive table.\"\n",
              "              style=\"display:none;\">\n",
              "        \n",
              "  <svg xmlns=\"http://www.w3.org/2000/svg\" height=\"24px\"viewBox=\"0 0 24 24\"\n",
              "       width=\"24px\">\n",
              "    <path d=\"M0 0h24v24H0V0z\" fill=\"none\"/>\n",
              "    <path d=\"M18.56 5.44l.94 2.06.94-2.06 2.06-.94-2.06-.94-.94-2.06-.94 2.06-2.06.94zm-11 1L8.5 8.5l.94-2.06 2.06-.94-2.06-.94L8.5 2.5l-.94 2.06-2.06.94zm10 10l.94 2.06.94-2.06 2.06-.94-2.06-.94-.94-2.06-.94 2.06-2.06.94z\"/><path d=\"M17.41 7.96l-1.37-1.37c-.4-.4-.92-.59-1.43-.59-.52 0-1.04.2-1.43.59L10.3 9.45l-7.72 7.72c-.78.78-.78 2.05 0 2.83L4 21.41c.39.39.9.59 1.41.59.51 0 1.02-.2 1.41-.59l7.78-7.78 2.81-2.81c.8-.78.8-2.07 0-2.86zM5.41 20L4 18.59l7.72-7.72 1.47 1.35L5.41 20z\"/>\n",
              "  </svg>\n",
              "      </button>\n",
              "      \n",
              "  <style>\n",
              "    .colab-df-container {\n",
              "      display:flex;\n",
              "      flex-wrap:wrap;\n",
              "      gap: 12px;\n",
              "    }\n",
              "\n",
              "    .colab-df-convert {\n",
              "      background-color: #E8F0FE;\n",
              "      border: none;\n",
              "      border-radius: 50%;\n",
              "      cursor: pointer;\n",
              "      display: none;\n",
              "      fill: #1967D2;\n",
              "      height: 32px;\n",
              "      padding: 0 0 0 0;\n",
              "      width: 32px;\n",
              "    }\n",
              "\n",
              "    .colab-df-convert:hover {\n",
              "      background-color: #E2EBFA;\n",
              "      box-shadow: 0px 1px 2px rgba(60, 64, 67, 0.3), 0px 1px 3px 1px rgba(60, 64, 67, 0.15);\n",
              "      fill: #174EA6;\n",
              "    }\n",
              "\n",
              "    [theme=dark] .colab-df-convert {\n",
              "      background-color: #3B4455;\n",
              "      fill: #D2E3FC;\n",
              "    }\n",
              "\n",
              "    [theme=dark] .colab-df-convert:hover {\n",
              "      background-color: #434B5C;\n",
              "      box-shadow: 0px 1px 3px 1px rgba(0, 0, 0, 0.15);\n",
              "      filter: drop-shadow(0px 1px 2px rgba(0, 0, 0, 0.3));\n",
              "      fill: #FFFFFF;\n",
              "    }\n",
              "  </style>\n",
              "\n",
              "      <script>\n",
              "        const buttonEl =\n",
              "          document.querySelector('#df-96bbf769-4fee-454d-bf37-902ae7e303e4 button.colab-df-convert');\n",
              "        buttonEl.style.display =\n",
              "          google.colab.kernel.accessAllowed ? 'block' : 'none';\n",
              "\n",
              "        async function convertToInteractive(key) {\n",
              "          const element = document.querySelector('#df-96bbf769-4fee-454d-bf37-902ae7e303e4');\n",
              "          const dataTable =\n",
              "            await google.colab.kernel.invokeFunction('convertToInteractive',\n",
              "                                                     [key], {});\n",
              "          if (!dataTable) return;\n",
              "\n",
              "          const docLinkHtml = 'Like what you see? Visit the ' +\n",
              "            '<a target=\"_blank\" href=https://colab.research.google.com/notebooks/data_table.ipynb>data table notebook</a>'\n",
              "            + ' to learn more about interactive tables.';\n",
              "          element.innerHTML = '';\n",
              "          dataTable['output_type'] = 'display_data';\n",
              "          await google.colab.output.renderOutput(dataTable, element);\n",
              "          const docLink = document.createElement('div');\n",
              "          docLink.innerHTML = docLinkHtml;\n",
              "          element.appendChild(docLink);\n",
              "        }\n",
              "      </script>\n",
              "    </div>\n",
              "  </div>\n",
              "  "
            ],
            "text/plain": [
              "                                               tweet  ... length of word\n",
              "0  Coronavirus 2019-nCoV, able to enter and infec...  ...           4970\n",
              "1  LatinFinance is making some of its most import...  ...           4655\n",
              "2  And sure enough, less than 24 hours later, in ...  ...           4045\n",
              "3  First Covid-19 hotspot in Delhi declared non-c...  ...           3352\n",
              "4  CMAAO Update 8 th February on Corona 2019 nCoV...  ...           2865\n",
              "\n",
              "[5 rows x 4 columns]"
            ]
          },
          "metadata": {},
          "execution_count": 28
        }
      ]
    },
    {
      "cell_type": "code",
      "source": [
        "(\n",
        "    valDataset\n",
        "    .withColumn('length of char', f.length('tweet'))\n",
        "    .withColumn('length of word', udf(f.col('tweet')))\n",
        "    .orderBy(f.col('length of word').desc(), f.col('length of char').desc())\n",
        "    .toPandas()\n",
        "    .head(5)\n",
        ")"
      ],
      "metadata": {
        "colab": {
          "base_uri": "https://localhost:8080/"
        },
        "id": "HVcL-pDlsOX-",
        "outputId": "8e5d37df-2dc3-463d-e8e8-6a133ab8895a"
      },
      "execution_count": null,
      "outputs": [
        {
          "output_type": "execute_result",
          "data": {
            "text/html": [
              "\n",
              "  <div id=\"df-01fb0640-97ba-4795-953a-84776ada48cf\">\n",
              "    <div class=\"colab-df-container\">\n",
              "      <div>\n",
              "<style scoped>\n",
              "    .dataframe tbody tr th:only-of-type {\n",
              "        vertical-align: middle;\n",
              "    }\n",
              "\n",
              "    .dataframe tbody tr th {\n",
              "        vertical-align: top;\n",
              "    }\n",
              "\n",
              "    .dataframe thead th {\n",
              "        text-align: right;\n",
              "    }\n",
              "</style>\n",
              "<table border=\"1\" class=\"dataframe\">\n",
              "  <thead>\n",
              "    <tr style=\"text-align: right;\">\n",
              "      <th></th>\n",
              "      <th>tweet</th>\n",
              "      <th>label</th>\n",
              "      <th>length of char</th>\n",
              "      <th>length of word</th>\n",
              "    </tr>\n",
              "  </thead>\n",
              "  <tbody>\n",
              "    <tr>\n",
              "      <th>0</th>\n",
              "      <td>Coronavirus 2019-nCoV, able to enter and infec...</td>\n",
              "      <td>fake</td>\n",
              "      <td>32725</td>\n",
              "      <td>4970</td>\n",
              "    </tr>\n",
              "    <tr>\n",
              "      <th>1</th>\n",
              "      <td>LatinFinance is making some of its most import...</td>\n",
              "      <td>fake</td>\n",
              "      <td>28794</td>\n",
              "      <td>4655</td>\n",
              "    </tr>\n",
              "    <tr>\n",
              "      <th>2</th>\n",
              "      <td>And sure enough, less than 24 hours later, in ...</td>\n",
              "      <td>fake</td>\n",
              "      <td>24455</td>\n",
              "      <td>4045</td>\n",
              "    </tr>\n",
              "    <tr>\n",
              "      <th>3</th>\n",
              "      <td>First Covid-19 hotspot in Delhi declared non-c...</td>\n",
              "      <td>fake</td>\n",
              "      <td>20353</td>\n",
              "      <td>3352</td>\n",
              "    </tr>\n",
              "    <tr>\n",
              "      <th>4</th>\n",
              "      <td>CMAAO Update 8 th February on Corona 2019 nCoV...</td>\n",
              "      <td>real</td>\n",
              "      <td>17842</td>\n",
              "      <td>2865</td>\n",
              "    </tr>\n",
              "  </tbody>\n",
              "</table>\n",
              "</div>\n",
              "      <button class=\"colab-df-convert\" onclick=\"convertToInteractive('df-01fb0640-97ba-4795-953a-84776ada48cf')\"\n",
              "              title=\"Convert this dataframe to an interactive table.\"\n",
              "              style=\"display:none;\">\n",
              "        \n",
              "  <svg xmlns=\"http://www.w3.org/2000/svg\" height=\"24px\"viewBox=\"0 0 24 24\"\n",
              "       width=\"24px\">\n",
              "    <path d=\"M0 0h24v24H0V0z\" fill=\"none\"/>\n",
              "    <path d=\"M18.56 5.44l.94 2.06.94-2.06 2.06-.94-2.06-.94-.94-2.06-.94 2.06-2.06.94zm-11 1L8.5 8.5l.94-2.06 2.06-.94-2.06-.94L8.5 2.5l-.94 2.06-2.06.94zm10 10l.94 2.06.94-2.06 2.06-.94-2.06-.94-.94-2.06-.94 2.06-2.06.94z\"/><path d=\"M17.41 7.96l-1.37-1.37c-.4-.4-.92-.59-1.43-.59-.52 0-1.04.2-1.43.59L10.3 9.45l-7.72 7.72c-.78.78-.78 2.05 0 2.83L4 21.41c.39.39.9.59 1.41.59.51 0 1.02-.2 1.41-.59l7.78-7.78 2.81-2.81c.8-.78.8-2.07 0-2.86zM5.41 20L4 18.59l7.72-7.72 1.47 1.35L5.41 20z\"/>\n",
              "  </svg>\n",
              "      </button>\n",
              "      \n",
              "  <style>\n",
              "    .colab-df-container {\n",
              "      display:flex;\n",
              "      flex-wrap:wrap;\n",
              "      gap: 12px;\n",
              "    }\n",
              "\n",
              "    .colab-df-convert {\n",
              "      background-color: #E8F0FE;\n",
              "      border: none;\n",
              "      border-radius: 50%;\n",
              "      cursor: pointer;\n",
              "      display: none;\n",
              "      fill: #1967D2;\n",
              "      height: 32px;\n",
              "      padding: 0 0 0 0;\n",
              "      width: 32px;\n",
              "    }\n",
              "\n",
              "    .colab-df-convert:hover {\n",
              "      background-color: #E2EBFA;\n",
              "      box-shadow: 0px 1px 2px rgba(60, 64, 67, 0.3), 0px 1px 3px 1px rgba(60, 64, 67, 0.15);\n",
              "      fill: #174EA6;\n",
              "    }\n",
              "\n",
              "    [theme=dark] .colab-df-convert {\n",
              "      background-color: #3B4455;\n",
              "      fill: #D2E3FC;\n",
              "    }\n",
              "\n",
              "    [theme=dark] .colab-df-convert:hover {\n",
              "      background-color: #434B5C;\n",
              "      box-shadow: 0px 1px 3px 1px rgba(0, 0, 0, 0.15);\n",
              "      filter: drop-shadow(0px 1px 2px rgba(0, 0, 0, 0.3));\n",
              "      fill: #FFFFFF;\n",
              "    }\n",
              "  </style>\n",
              "\n",
              "      <script>\n",
              "        const buttonEl =\n",
              "          document.querySelector('#df-01fb0640-97ba-4795-953a-84776ada48cf button.colab-df-convert');\n",
              "        buttonEl.style.display =\n",
              "          google.colab.kernel.accessAllowed ? 'block' : 'none';\n",
              "\n",
              "        async function convertToInteractive(key) {\n",
              "          const element = document.querySelector('#df-01fb0640-97ba-4795-953a-84776ada48cf');\n",
              "          const dataTable =\n",
              "            await google.colab.kernel.invokeFunction('convertToInteractive',\n",
              "                                                     [key], {});\n",
              "          if (!dataTable) return;\n",
              "\n",
              "          const docLinkHtml = 'Like what you see? Visit the ' +\n",
              "            '<a target=\"_blank\" href=https://colab.research.google.com/notebooks/data_table.ipynb>data table notebook</a>'\n",
              "            + ' to learn more about interactive tables.';\n",
              "          element.innerHTML = '';\n",
              "          dataTable['output_type'] = 'display_data';\n",
              "          await google.colab.output.renderOutput(dataTable, element);\n",
              "          const docLink = document.createElement('div');\n",
              "          docLink.innerHTML = docLinkHtml;\n",
              "          element.appendChild(docLink);\n",
              "        }\n",
              "      </script>\n",
              "    </div>\n",
              "  </div>\n",
              "  "
            ],
            "text/plain": [
              "                                               tweet  ... length of word\n",
              "0  Coronavirus 2019-nCoV, able to enter and infec...  ...           4970\n",
              "1  LatinFinance is making some of its most import...  ...           4655\n",
              "2  And sure enough, less than 24 hours later, in ...  ...           4045\n",
              "3  First Covid-19 hotspot in Delhi declared non-c...  ...           3352\n",
              "4  CMAAO Update 8 th February on Corona 2019 nCoV...  ...           2865\n",
              "\n",
              "[5 rows x 4 columns]"
            ]
          },
          "metadata": {},
          "execution_count": 29
        }
      ]
    },
    {
      "cell_type": "code",
      "source": [
        "(\n",
        "    testDataset\n",
        "    .withColumn('length of char', f.length('tweet'))\n",
        "    .withColumn('length of word', udf(f.col('tweet')))\n",
        "    .orderBy(f.col('length of char').desc(), f.col('length of word').desc())\n",
        "    .toPandas()\n",
        "    .head(5)\n",
        ")"
      ],
      "metadata": {
        "colab": {
          "base_uri": "https://localhost:8080/"
        },
        "id": "hRanc-NWsQzy",
        "outputId": "1eb03e44-9f7e-4f8d-be7e-379c9639d267"
      },
      "execution_count": null,
      "outputs": [
        {
          "output_type": "execute_result",
          "data": {
            "text/html": [
              "\n",
              "  <div id=\"df-1d5b9bf7-efb1-4dab-b4ec-62fabec27568\">\n",
              "    <div class=\"colab-df-container\">\n",
              "      <div>\n",
              "<style scoped>\n",
              "    .dataframe tbody tr th:only-of-type {\n",
              "        vertical-align: middle;\n",
              "    }\n",
              "\n",
              "    .dataframe tbody tr th {\n",
              "        vertical-align: top;\n",
              "    }\n",
              "\n",
              "    .dataframe thead th {\n",
              "        text-align: right;\n",
              "    }\n",
              "</style>\n",
              "<table border=\"1\" class=\"dataframe\">\n",
              "  <thead>\n",
              "    <tr style=\"text-align: right;\">\n",
              "      <th></th>\n",
              "      <th>tweet</th>\n",
              "      <th>label</th>\n",
              "      <th>length of char</th>\n",
              "      <th>length of word</th>\n",
              "    </tr>\n",
              "  </thead>\n",
              "  <tbody>\n",
              "    <tr>\n",
              "      <th>0</th>\n",
              "      <td>Another publication suggests that this coronav...</td>\n",
              "      <td>fake</td>\n",
              "      <td>32530</td>\n",
              "      <td>5241</td>\n",
              "    </tr>\n",
              "    <tr>\n",
              "      <th>1</th>\n",
              "      <td>Management of adult cardiac arrest in the COVI...</td>\n",
              "      <td>fake</td>\n",
              "      <td>23576</td>\n",
              "      <td>3474</td>\n",
              "    </tr>\n",
              "    <tr>\n",
              "      <th>2</th>\n",
              "      <td>1. Mr Speaker, Members. Many members of this h...</td>\n",
              "      <td>real</td>\n",
              "      <td>22091</td>\n",
              "      <td>3697</td>\n",
              "    </tr>\n",
              "    <tr>\n",
              "      <th>3</th>\n",
              "      <td>Kerala government declares coronavirus as a st...</td>\n",
              "      <td>real</td>\n",
              "      <td>18641</td>\n",
              "      <td>2958</td>\n",
              "    </tr>\n",
              "    <tr>\n",
              "      <th>4</th>\n",
              "      <td>In the wake of Ebola, NVD-68, and Zika, we sho...</td>\n",
              "      <td>real</td>\n",
              "      <td>17850</td>\n",
              "      <td>3087</td>\n",
              "    </tr>\n",
              "  </tbody>\n",
              "</table>\n",
              "</div>\n",
              "      <button class=\"colab-df-convert\" onclick=\"convertToInteractive('df-1d5b9bf7-efb1-4dab-b4ec-62fabec27568')\"\n",
              "              title=\"Convert this dataframe to an interactive table.\"\n",
              "              style=\"display:none;\">\n",
              "        \n",
              "  <svg xmlns=\"http://www.w3.org/2000/svg\" height=\"24px\"viewBox=\"0 0 24 24\"\n",
              "       width=\"24px\">\n",
              "    <path d=\"M0 0h24v24H0V0z\" fill=\"none\"/>\n",
              "    <path d=\"M18.56 5.44l.94 2.06.94-2.06 2.06-.94-2.06-.94-.94-2.06-.94 2.06-2.06.94zm-11 1L8.5 8.5l.94-2.06 2.06-.94-2.06-.94L8.5 2.5l-.94 2.06-2.06.94zm10 10l.94 2.06.94-2.06 2.06-.94-2.06-.94-.94-2.06-.94 2.06-2.06.94z\"/><path d=\"M17.41 7.96l-1.37-1.37c-.4-.4-.92-.59-1.43-.59-.52 0-1.04.2-1.43.59L10.3 9.45l-7.72 7.72c-.78.78-.78 2.05 0 2.83L4 21.41c.39.39.9.59 1.41.59.51 0 1.02-.2 1.41-.59l7.78-7.78 2.81-2.81c.8-.78.8-2.07 0-2.86zM5.41 20L4 18.59l7.72-7.72 1.47 1.35L5.41 20z\"/>\n",
              "  </svg>\n",
              "      </button>\n",
              "      \n",
              "  <style>\n",
              "    .colab-df-container {\n",
              "      display:flex;\n",
              "      flex-wrap:wrap;\n",
              "      gap: 12px;\n",
              "    }\n",
              "\n",
              "    .colab-df-convert {\n",
              "      background-color: #E8F0FE;\n",
              "      border: none;\n",
              "      border-radius: 50%;\n",
              "      cursor: pointer;\n",
              "      display: none;\n",
              "      fill: #1967D2;\n",
              "      height: 32px;\n",
              "      padding: 0 0 0 0;\n",
              "      width: 32px;\n",
              "    }\n",
              "\n",
              "    .colab-df-convert:hover {\n",
              "      background-color: #E2EBFA;\n",
              "      box-shadow: 0px 1px 2px rgba(60, 64, 67, 0.3), 0px 1px 3px 1px rgba(60, 64, 67, 0.15);\n",
              "      fill: #174EA6;\n",
              "    }\n",
              "\n",
              "    [theme=dark] .colab-df-convert {\n",
              "      background-color: #3B4455;\n",
              "      fill: #D2E3FC;\n",
              "    }\n",
              "\n",
              "    [theme=dark] .colab-df-convert:hover {\n",
              "      background-color: #434B5C;\n",
              "      box-shadow: 0px 1px 3px 1px rgba(0, 0, 0, 0.15);\n",
              "      filter: drop-shadow(0px 1px 2px rgba(0, 0, 0, 0.3));\n",
              "      fill: #FFFFFF;\n",
              "    }\n",
              "  </style>\n",
              "\n",
              "      <script>\n",
              "        const buttonEl =\n",
              "          document.querySelector('#df-1d5b9bf7-efb1-4dab-b4ec-62fabec27568 button.colab-df-convert');\n",
              "        buttonEl.style.display =\n",
              "          google.colab.kernel.accessAllowed ? 'block' : 'none';\n",
              "\n",
              "        async function convertToInteractive(key) {\n",
              "          const element = document.querySelector('#df-1d5b9bf7-efb1-4dab-b4ec-62fabec27568');\n",
              "          const dataTable =\n",
              "            await google.colab.kernel.invokeFunction('convertToInteractive',\n",
              "                                                     [key], {});\n",
              "          if (!dataTable) return;\n",
              "\n",
              "          const docLinkHtml = 'Like what you see? Visit the ' +\n",
              "            '<a target=\"_blank\" href=https://colab.research.google.com/notebooks/data_table.ipynb>data table notebook</a>'\n",
              "            + ' to learn more about interactive tables.';\n",
              "          element.innerHTML = '';\n",
              "          dataTable['output_type'] = 'display_data';\n",
              "          await google.colab.output.renderOutput(dataTable, element);\n",
              "          const docLink = document.createElement('div');\n",
              "          docLink.innerHTML = docLinkHtml;\n",
              "          element.appendChild(docLink);\n",
              "        }\n",
              "      </script>\n",
              "    </div>\n",
              "  </div>\n",
              "  "
            ],
            "text/plain": [
              "                                               tweet  ... length of word\n",
              "0  Another publication suggests that this coronav...  ...           5241\n",
              "1  Management of adult cardiac arrest in the COVI...  ...           3474\n",
              "2  1. Mr Speaker, Members. Many members of this h...  ...           3697\n",
              "3  Kerala government declares coronavirus as a st...  ...           2958\n",
              "4  In the wake of Ebola, NVD-68, and Zika, we sho...  ...           3087\n",
              "\n",
              "[5 rows x 4 columns]"
            ]
          },
          "metadata": {},
          "execution_count": 30
        }
      ]
    },
    {
      "cell_type": "code",
      "source": [
        "(\n",
        "   testDataset\n",
        "    .withColumn('length of char', f.length('tweet'))\n",
        "    .withColumn('length of word', udf(f.col('tweet')))\n",
        "    .orderBy(f.col('length of word').desc(), f.col('length of char').desc())\n",
        "    .toPandas()\n",
        "    .head(5)\n",
        ")"
      ],
      "metadata": {
        "colab": {
          "base_uri": "https://localhost:8080/"
        },
        "id": "HlVj3GjasUFX",
        "outputId": "2392b03d-1b70-4299-8c97-62c0412dc9e8"
      },
      "execution_count": null,
      "outputs": [
        {
          "output_type": "execute_result",
          "data": {
            "text/html": [
              "\n",
              "  <div id=\"df-abb9ac74-528f-45bd-8a2d-f8eaba312a52\">\n",
              "    <div class=\"colab-df-container\">\n",
              "      <div>\n",
              "<style scoped>\n",
              "    .dataframe tbody tr th:only-of-type {\n",
              "        vertical-align: middle;\n",
              "    }\n",
              "\n",
              "    .dataframe tbody tr th {\n",
              "        vertical-align: top;\n",
              "    }\n",
              "\n",
              "    .dataframe thead th {\n",
              "        text-align: right;\n",
              "    }\n",
              "</style>\n",
              "<table border=\"1\" class=\"dataframe\">\n",
              "  <thead>\n",
              "    <tr style=\"text-align: right;\">\n",
              "      <th></th>\n",
              "      <th>tweet</th>\n",
              "      <th>label</th>\n",
              "      <th>length of char</th>\n",
              "      <th>length of word</th>\n",
              "    </tr>\n",
              "  </thead>\n",
              "  <tbody>\n",
              "    <tr>\n",
              "      <th>0</th>\n",
              "      <td>Another publication suggests that this coronav...</td>\n",
              "      <td>fake</td>\n",
              "      <td>32530</td>\n",
              "      <td>5241</td>\n",
              "    </tr>\n",
              "    <tr>\n",
              "      <th>1</th>\n",
              "      <td>1. Mr Speaker, Members. Many members of this h...</td>\n",
              "      <td>real</td>\n",
              "      <td>22091</td>\n",
              "      <td>3697</td>\n",
              "    </tr>\n",
              "    <tr>\n",
              "      <th>2</th>\n",
              "      <td>Management of adult cardiac arrest in the COVI...</td>\n",
              "      <td>fake</td>\n",
              "      <td>23576</td>\n",
              "      <td>3474</td>\n",
              "    </tr>\n",
              "    <tr>\n",
              "      <th>3</th>\n",
              "      <td>In the wake of Ebola, NVD-68, and Zika, we sho...</td>\n",
              "      <td>real</td>\n",
              "      <td>17850</td>\n",
              "      <td>3087</td>\n",
              "    </tr>\n",
              "    <tr>\n",
              "      <th>4</th>\n",
              "      <td>Kerala government declares coronavirus as a st...</td>\n",
              "      <td>real</td>\n",
              "      <td>18641</td>\n",
              "      <td>2958</td>\n",
              "    </tr>\n",
              "  </tbody>\n",
              "</table>\n",
              "</div>\n",
              "      <button class=\"colab-df-convert\" onclick=\"convertToInteractive('df-abb9ac74-528f-45bd-8a2d-f8eaba312a52')\"\n",
              "              title=\"Convert this dataframe to an interactive table.\"\n",
              "              style=\"display:none;\">\n",
              "        \n",
              "  <svg xmlns=\"http://www.w3.org/2000/svg\" height=\"24px\"viewBox=\"0 0 24 24\"\n",
              "       width=\"24px\">\n",
              "    <path d=\"M0 0h24v24H0V0z\" fill=\"none\"/>\n",
              "    <path d=\"M18.56 5.44l.94 2.06.94-2.06 2.06-.94-2.06-.94-.94-2.06-.94 2.06-2.06.94zm-11 1L8.5 8.5l.94-2.06 2.06-.94-2.06-.94L8.5 2.5l-.94 2.06-2.06.94zm10 10l.94 2.06.94-2.06 2.06-.94-2.06-.94-.94-2.06-.94 2.06-2.06.94z\"/><path d=\"M17.41 7.96l-1.37-1.37c-.4-.4-.92-.59-1.43-.59-.52 0-1.04.2-1.43.59L10.3 9.45l-7.72 7.72c-.78.78-.78 2.05 0 2.83L4 21.41c.39.39.9.59 1.41.59.51 0 1.02-.2 1.41-.59l7.78-7.78 2.81-2.81c.8-.78.8-2.07 0-2.86zM5.41 20L4 18.59l7.72-7.72 1.47 1.35L5.41 20z\"/>\n",
              "  </svg>\n",
              "      </button>\n",
              "      \n",
              "  <style>\n",
              "    .colab-df-container {\n",
              "      display:flex;\n",
              "      flex-wrap:wrap;\n",
              "      gap: 12px;\n",
              "    }\n",
              "\n",
              "    .colab-df-convert {\n",
              "      background-color: #E8F0FE;\n",
              "      border: none;\n",
              "      border-radius: 50%;\n",
              "      cursor: pointer;\n",
              "      display: none;\n",
              "      fill: #1967D2;\n",
              "      height: 32px;\n",
              "      padding: 0 0 0 0;\n",
              "      width: 32px;\n",
              "    }\n",
              "\n",
              "    .colab-df-convert:hover {\n",
              "      background-color: #E2EBFA;\n",
              "      box-shadow: 0px 1px 2px rgba(60, 64, 67, 0.3), 0px 1px 3px 1px rgba(60, 64, 67, 0.15);\n",
              "      fill: #174EA6;\n",
              "    }\n",
              "\n",
              "    [theme=dark] .colab-df-convert {\n",
              "      background-color: #3B4455;\n",
              "      fill: #D2E3FC;\n",
              "    }\n",
              "\n",
              "    [theme=dark] .colab-df-convert:hover {\n",
              "      background-color: #434B5C;\n",
              "      box-shadow: 0px 1px 3px 1px rgba(0, 0, 0, 0.15);\n",
              "      filter: drop-shadow(0px 1px 2px rgba(0, 0, 0, 0.3));\n",
              "      fill: #FFFFFF;\n",
              "    }\n",
              "  </style>\n",
              "\n",
              "      <script>\n",
              "        const buttonEl =\n",
              "          document.querySelector('#df-abb9ac74-528f-45bd-8a2d-f8eaba312a52 button.colab-df-convert');\n",
              "        buttonEl.style.display =\n",
              "          google.colab.kernel.accessAllowed ? 'block' : 'none';\n",
              "\n",
              "        async function convertToInteractive(key) {\n",
              "          const element = document.querySelector('#df-abb9ac74-528f-45bd-8a2d-f8eaba312a52');\n",
              "          const dataTable =\n",
              "            await google.colab.kernel.invokeFunction('convertToInteractive',\n",
              "                                                     [key], {});\n",
              "          if (!dataTable) return;\n",
              "\n",
              "          const docLinkHtml = 'Like what you see? Visit the ' +\n",
              "            '<a target=\"_blank\" href=https://colab.research.google.com/notebooks/data_table.ipynb>data table notebook</a>'\n",
              "            + ' to learn more about interactive tables.';\n",
              "          element.innerHTML = '';\n",
              "          dataTable['output_type'] = 'display_data';\n",
              "          await google.colab.output.renderOutput(dataTable, element);\n",
              "          const docLink = document.createElement('div');\n",
              "          docLink.innerHTML = docLinkHtml;\n",
              "          element.appendChild(docLink);\n",
              "        }\n",
              "      </script>\n",
              "    </div>\n",
              "  </div>\n",
              "  "
            ],
            "text/plain": [
              "                                               tweet  ... length of word\n",
              "0  Another publication suggests that this coronav...  ...           5241\n",
              "1  1. Mr Speaker, Members. Many members of this h...  ...           3697\n",
              "2  Management of adult cardiac arrest in the COVI...  ...           3474\n",
              "3  In the wake of Ebola, NVD-68, and Zika, we sho...  ...           3087\n",
              "4  Kerala government declares coronavirus as a st...  ...           2958\n",
              "\n",
              "[5 rows x 4 columns]"
            ]
          },
          "metadata": {},
          "execution_count": 31
        }
      ]
    },
    {
      "cell_type": "markdown",
      "source": [
        "## Step 4"
      ],
      "metadata": {
        "id": "V5PMILsqTLtd"
      }
    },
    {
      "cell_type": "code",
      "source": [
        "trainDataset = (\n",
        "    trainDataset\n",
        "    .withColumn(\"tweet\", f.regexp_replace(f.col(\"tweet\"), \"[^a-zA-Z]\", \" \"))\n",
        "    .withColumn(\"tweet\", f.regexp_replace(f.col(\"tweet\"), \" +\", \" \"))\n",
        "    .withColumn(\"tweet\", f.trim(f.col(\"tweet\")))\n",
        "    .filter(\"tweet != ''\")\n",
        ")\n",
        "\n",
        "valDataset = (\n",
        "    valDataset\n",
        "    .withColumn(\"tweet\", f.regexp_replace(f.col(\"tweet\"), \"[^a-zA-Z]\", \" \"))\n",
        "    .withColumn(\"tweet\", f.regexp_replace(f.col(\"tweet\"), \" +\", \" \"))\n",
        "    .withColumn(\"tweet\", f.trim(f.col(\"tweet\")))\n",
        "    .filter(\"tweet != ''\")\n",
        ")\n",
        "\n",
        "testDataset = (\n",
        "    testDataset\n",
        "    .withColumn(\"tweet\", f.regexp_replace(f.col(\"tweet\"), \"[^a-zA-Z]\", \" \"))\n",
        "    .withColumn(\"tweet\", f.regexp_replace(f.col(\"tweet\"), \" +\", \" \"))\n",
        "    .withColumn(\"tweet\", f.trim(f.col(\"tweet\")))\n",
        "    .filter(\"tweet != ''\")\n",
        ")"
      ],
      "metadata": {
        "id": "DHriKmx2C3FH"
      },
      "execution_count": null,
      "outputs": []
    },
    {
      "cell_type": "code",
      "source": [
        "batch_size = 64\n",
        "epochs = 500\n",
        "lr = 5e-3\n",
        "dropout = 0.5"
      ],
      "metadata": {
        "id": "CXUDJYFJbZek"
      },
      "execution_count": null,
      "outputs": []
    },
    {
      "cell_type": "markdown",
      "source": [
        "## Step 5"
      ],
      "metadata": {
        "id": "m-ciTllKHezJ"
      }
    },
    {
      "cell_type": "code",
      "source": [
        "%%time\n",
        "tokenizer = Tokenizer(inputCol=\"tweet\", outputCol=\"words1\")\n",
        "stopwords_remover = StopWordsRemover(\n",
        "    inputCol=\"words1\",\n",
        "    outputCol=\"words3\",\n",
        "    stopWords=StopWordsRemover.loadDefaultStopWords(\"english\")\n",
        ")\n",
        "hashing_tf = HashingTF(\n",
        "    inputCol=\"words3\",\n",
        "    outputCol=\"term_frequency\",\n",
        ")\n",
        "\n",
        "vectorizer = CountVectorizer(\n",
        "    inputCol='words3',\n",
        "    outputCol='term_frequency'\n",
        ")\n",
        "\n",
        "idf = IDF(\n",
        "    inputCol=\"term_frequency\",\n",
        "    outputCol=\"features\",\n",
        "    minDocFreq=5\n",
        ")\n",
        "\n",
        "indexer = StringIndexer(inputCol=\"label\", outputCol=\"labelIndex\")\n",
        "\n",
        "lr = LogisticRegression(labelCol=\"labelIndex\")\n",
        "\n",
        "semantic_analysis_pipeline = Pipeline(\n",
        "    stages=[tokenizer, stopwords_remover, vectorizer, idf, indexer, lr]\n",
        ")"
      ],
      "metadata": {
        "colab": {
          "base_uri": "https://localhost:8080/"
        },
        "id": "mCFASvkuVwne",
        "outputId": "a5fb8ad4-95f1-42a6-8515-1f3fce61aa83"
      },
      "execution_count": null,
      "outputs": [
        {
          "output_type": "stream",
          "name": "stdout",
          "text": [
            "CPU times: user 39.8 ms, sys: 7.83 ms, total: 47.7 ms\n",
            "Wall time: 342 ms\n"
          ]
        }
      ]
    },
    {
      "cell_type": "code",
      "source": [
        "%%time\n",
        "pipelineModel = semantic_analysis_pipeline.fit(trainDataset)"
      ],
      "metadata": {
        "id": "RCfsdv0IbwjD",
        "colab": {
          "base_uri": "https://localhost:8080/"
        },
        "outputId": "ad652438-9440-410e-e729-9f4bbf2ac78d"
      },
      "execution_count": null,
      "outputs": [
        {
          "output_type": "stream",
          "name": "stdout",
          "text": [
            "CPU times: user 424 ms, sys: 58.4 ms, total: 482 ms\n",
            "Wall time: 59.9 s\n"
          ]
        }
      ]
    },
    {
      "cell_type": "code",
      "source": [
        "print(pipelineModel.stages[4].labels)\n",
        "\n",
        "label_to_stringIdx = IndexToString(\n",
        "    inputCol=\"prediction\", \n",
        "    outputCol=\"text_prediction\",\n",
        "    labels=pipelineModel.stages[4].labels\n",
        ")"
      ],
      "metadata": {
        "id": "qXDDaJK6GsjI",
        "colab": {
          "base_uri": "https://localhost:8080/"
        },
        "outputId": "687cff58-d181-4192-8d45-684ae37bbb41"
      },
      "execution_count": null,
      "outputs": [
        {
          "output_type": "stream",
          "name": "stdout",
          "text": [
            "['real', 'fake']\n"
          ]
        }
      ]
    },
    {
      "cell_type": "markdown",
      "source": [
        "## Step 6"
      ],
      "metadata": {
        "id": "sAwP89WbTPkN"
      }
    },
    {
      "cell_type": "code",
      "source": [
        "def Validation(model, dataset):\n",
        "  DF = model.transform(dataset)\n",
        "  DF = DF.select(\n",
        "    'labelIndex',\n",
        "    # f.col('document.result').alias('document'),\n",
        "    'prediction'\n",
        "  )\n",
        "  DF.show(5)\n",
        "\n",
        "  # udf = f.udf(lambda x: float(x[0]), DoubleType())\n",
        "\n",
        "  # DF = DF.withColumn('prediction', udf(f.col('prediction')))\n",
        "\n",
        "  evaluator = MulticlassClassificationEvaluator(labelCol='labelIndex', metricName='accuracy')\n",
        "  accuracy = evaluator.evaluate(DF)\n",
        "  print(accuracy)"
      ],
      "metadata": {
        "id": "tLL7NPGmksAk"
      },
      "execution_count": null,
      "outputs": []
    },
    {
      "cell_type": "code",
      "source": [
        "%%time\n",
        "Validation(pipelineModel, trainDataset)"
      ],
      "metadata": {
        "id": "-an-aTr5lsdy",
        "colab": {
          "base_uri": "https://localhost:8080/"
        },
        "outputId": "fba0d23f-268e-449b-902e-7d9b3fae2ea9"
      },
      "execution_count": null,
      "outputs": [
        {
          "output_type": "stream",
          "name": "stdout",
          "text": [
            "+----------+----------+\n",
            "|labelIndex|prediction|\n",
            "+----------+----------+\n",
            "|       0.0|       0.0|\n",
            "|       0.0|       0.0|\n",
            "|       1.0|       1.0|\n",
            "|       0.0|       0.0|\n",
            "|       0.0|       0.0|\n",
            "+----------+----------+\n",
            "only showing top 5 rows\n",
            "\n",
            "0.9963597564802611\n",
            "CPU times: user 105 ms, sys: 14.2 ms, total: 119 ms\n",
            "Wall time: 7.55 s\n"
          ]
        }
      ]
    },
    {
      "cell_type": "code",
      "source": [
        "%%time\n",
        "Validation(pipelineModel, valDataset)"
      ],
      "metadata": {
        "id": "KfOFT-rOm5P-",
        "colab": {
          "base_uri": "https://localhost:8080/"
        },
        "outputId": "02bb3f6a-1909-438b-f5a9-d7ef8ff54547"
      },
      "execution_count": null,
      "outputs": [
        {
          "output_type": "stream",
          "name": "stdout",
          "text": [
            "+----------+----------+\n",
            "|labelIndex|prediction|\n",
            "+----------+----------+\n",
            "|       1.0|       1.0|\n",
            "|       1.0|       0.0|\n",
            "|       1.0|       1.0|\n",
            "|       1.0|       1.0|\n",
            "|       0.0|       0.0|\n",
            "+----------+----------+\n",
            "only showing top 5 rows\n",
            "\n",
            "0.7923211169284468\n",
            "CPU times: user 81.1 ms, sys: 12.8 ms, total: 93.9 ms\n",
            "Wall time: 2.31 s\n"
          ]
        }
      ]
    },
    {
      "cell_type": "code",
      "source": [
        "%%time\n",
        "Validation(pipelineModel, testDataset)"
      ],
      "metadata": {
        "id": "SEDDalZgL6nL",
        "colab": {
          "base_uri": "https://localhost:8080/"
        },
        "outputId": "273e7c79-79ec-4eff-e0c9-c3fa731cb910"
      },
      "execution_count": null,
      "outputs": [
        {
          "output_type": "stream",
          "name": "stdout",
          "text": [
            "+----------+----------+\n",
            "|labelIndex|prediction|\n",
            "+----------+----------+\n",
            "|       0.0|       0.0|\n",
            "|       1.0|       1.0|\n",
            "|       1.0|       1.0|\n",
            "|       0.0|       0.0|\n",
            "|       0.0|       0.0|\n",
            "+----------+----------+\n",
            "only showing top 5 rows\n",
            "\n",
            "0.7535971223021583\n",
            "CPU times: user 79.5 ms, sys: 6.96 ms, total: 86.5 ms\n",
            "Wall time: 2.14 s\n"
          ]
        }
      ]
    },
    {
      "cell_type": "markdown",
      "source": [
        "## Step 7"
      ],
      "metadata": {
        "id": "doTp3tunTkYH"
      }
    },
    {
      "cell_type": "code",
      "source": [
        "testDF = pipelineModel.transform(testDataset)\n",
        "testDF.show(5)"
      ],
      "metadata": {
        "id": "HaMqZOMr36I5",
        "colab": {
          "base_uri": "https://localhost:8080/"
        },
        "outputId": "2d316fc6-e04f-4956-a4bc-b5ce4fbf52e9"
      },
      "execution_count": null,
      "outputs": [
        {
          "output_type": "stream",
          "name": "stdout",
          "text": [
            "+---+--------------------+--------------------+--------------------+--------------------+--------------------+--------------------+--------------------+----------+\n",
            "| id|               tweet|              words1|              words3|      term_frequency|            features|       rawPrediction|         probability|prediction|\n",
            "+---+--------------------+--------------------+--------------------+--------------------+--------------------+--------------------+--------------------+----------+\n",
            "|  1|Our daily update ...|[our, daily, upda...|[daily, update, p...|(262144,[2564,154...|(262144,[2564,154...|[216.765438342817...|           [1.0,0.0]|       0.0|\n",
            "|  2|Alfalfa is the on...|[alfalfa, is, the...|[alfalfa, cure, c...|(262144,[11395,70...|(262144,[11395,70...|[-92.086336032358...|[1.01721417258140...|       1.0|\n",
            "|  3|President Trump A...|[president, trump...|[president, trump...|(262144,[15423,24...|(262144,[15423,24...|[-311.17381812750...|[7.22649779429957...|       1.0|\n",
            "|  4|States reported d...|[states, reported...|[states, reported...|(262144,[2564,114...|(262144,[2564,114...|[299.420104164998...|           [1.0,0.0]|       0.0|\n",
            "|  5|This is the sixth...|[this, is, the, s...|[sixth, time, glo...|(262144,[15263,15...|(262144,[15263,15...|[124.663444978592...|           [1.0,0.0]|       0.0|\n",
            "+---+--------------------+--------------------+--------------------+--------------------+--------------------+--------------------+--------------------+----------+\n",
            "only showing top 5 rows\n",
            "\n"
          ]
        }
      ]
    },
    {
      "cell_type": "code",
      "source": [
        "udf = f.udf(lambda x: float(x[0]), DoubleType())\n",
        "testDF = testDF.withColumn('prediction', udf(f.col('prediction')))\n",
        "testDF = label_to_stringIdx.transform(testDF)\n",
        "testDF.select('id', 'tweet', 'text_prediction').show(5, truncate=False)"
      ],
      "metadata": {
        "id": "hVxYmt_YRgAr",
        "colab": {
          "base_uri": "https://localhost:8080/"
        },
        "outputId": "4bb853f8-fa57-4201-d6b7-bc38d64172ad"
      },
      "execution_count": null,
      "outputs": [
        {
          "output_type": "stream",
          "name": "stdout",
          "text": [
            "+---+------------------------------------------------------------------------------------------------------------------------------------------------------------------------------------------------------------------------------------------------------------------------+---------------+\n",
            "|id |tweet                                                                                                                                                                                                                                                                   |text_prediction|\n",
            "+---+------------------------------------------------------------------------------------------------------------------------------------------------------------------------------------------------------------------------------------------------------------------------+---------------+\n",
            "|1  |Our daily update is published. States reported 734k tests 39k new cases and 532 deaths. Current hospitalizations fell below 30k for the first time since June 22. https://t.co/wzSYMe0Sht                                                                               |real           |\n",
            "|2  |Alfalfa is the only cure for COVID-19.                                                                                                                                                                                                                                  |fake           |\n",
            "|3  |President Trump Asked What He Would Do If He Were To Catch The Coronavirus https://t.co/3MEWhusRZI #donaldtrump #coronavirus                                                                                                                                            |fake           |\n",
            "|4  |States reported 630 deaths. We are still seeing a solid national decline. Death reporting lags approximately 28 days from symptom onset according to CDC models that consider lags in symptoms time in hospital and the death reporting process. https://t.co/LBmcot3h9a|real           |\n",
            "|5  |This is the sixth time a global health emergency has been declared under the International Health Regulations but it is easily the most severe-@DrTedros https://t.co/JvKC0PTett                                                                                        |real           |\n",
            "+---+------------------------------------------------------------------------------------------------------------------------------------------------------------------------------------------------------------------------------------------------------------------------+---------------+\n",
            "only showing top 5 rows\n",
            "\n"
          ]
        }
      ]
    },
    {
      "cell_type": "markdown",
      "source": [
        "## Step 8"
      ],
      "metadata": {
        "id": "2DE3cok8wW4g"
      }
    },
    {
      "cell_type": "markdown",
      "source": [
        "### Save model"
      ],
      "metadata": {
        "id": "G-HlWrPaOqTw"
      }
    },
    {
      "cell_type": "code",
      "source": [
        "pipelineModel.write().overwrite().save('FakeNewsCovidML')"
      ],
      "metadata": {
        "id": "NPNE4snHwZIO"
      },
      "execution_count": null,
      "outputs": []
    },
    {
      "cell_type": "code",
      "source": [
        "!cp -av '/content/FakeNewsCovidML' '/content/gdrive/MyDrive/Colab Notebooks/BigData/models/'"
      ],
      "metadata": {
        "id": "lb66_tW2yvjW",
        "colab": {
          "base_uri": "https://localhost:8080/"
        },
        "outputId": "7dfc6d29-55c3-4545-d658-6aa2562791d4"
      },
      "execution_count": null,
      "outputs": [
        {
          "output_type": "stream",
          "name": "stdout",
          "text": [
            "'/content/FakeNewsCovidML' -> '/content/gdrive/MyDrive/Colab Notebooks/BigData/models/FakeNewsCovidML'\n",
            "'/content/FakeNewsCovidML/metadata' -> '/content/gdrive/MyDrive/Colab Notebooks/BigData/models/FakeNewsCovidML/metadata'\n",
            "'/content/FakeNewsCovidML/metadata/_SUCCESS' -> '/content/gdrive/MyDrive/Colab Notebooks/BigData/models/FakeNewsCovidML/metadata/_SUCCESS'\n",
            "'/content/FakeNewsCovidML/metadata/._SUCCESS.crc' -> '/content/gdrive/MyDrive/Colab Notebooks/BigData/models/FakeNewsCovidML/metadata/._SUCCESS.crc'\n",
            "'/content/FakeNewsCovidML/metadata/part-00000' -> '/content/gdrive/MyDrive/Colab Notebooks/BigData/models/FakeNewsCovidML/metadata/part-00000'\n",
            "'/content/FakeNewsCovidML/metadata/.part-00000.crc' -> '/content/gdrive/MyDrive/Colab Notebooks/BigData/models/FakeNewsCovidML/metadata/.part-00000.crc'\n",
            "'/content/FakeNewsCovidML/stages' -> '/content/gdrive/MyDrive/Colab Notebooks/BigData/models/FakeNewsCovidML/stages'\n",
            "'/content/FakeNewsCovidML/stages/4_StringIndexer_248dcdc255ea' -> '/content/gdrive/MyDrive/Colab Notebooks/BigData/models/FakeNewsCovidML/stages/4_StringIndexer_248dcdc255ea'\n",
            "'/content/FakeNewsCovidML/stages/4_StringIndexer_248dcdc255ea/metadata' -> '/content/gdrive/MyDrive/Colab Notebooks/BigData/models/FakeNewsCovidML/stages/4_StringIndexer_248dcdc255ea/metadata'\n",
            "'/content/FakeNewsCovidML/stages/4_StringIndexer_248dcdc255ea/metadata/_SUCCESS' -> '/content/gdrive/MyDrive/Colab Notebooks/BigData/models/FakeNewsCovidML/stages/4_StringIndexer_248dcdc255ea/metadata/_SUCCESS'\n",
            "'/content/FakeNewsCovidML/stages/4_StringIndexer_248dcdc255ea/metadata/._SUCCESS.crc' -> '/content/gdrive/MyDrive/Colab Notebooks/BigData/models/FakeNewsCovidML/stages/4_StringIndexer_248dcdc255ea/metadata/._SUCCESS.crc'\n",
            "'/content/FakeNewsCovidML/stages/4_StringIndexer_248dcdc255ea/metadata/part-00000' -> '/content/gdrive/MyDrive/Colab Notebooks/BigData/models/FakeNewsCovidML/stages/4_StringIndexer_248dcdc255ea/metadata/part-00000'\n",
            "'/content/FakeNewsCovidML/stages/4_StringIndexer_248dcdc255ea/metadata/.part-00000.crc' -> '/content/gdrive/MyDrive/Colab Notebooks/BigData/models/FakeNewsCovidML/stages/4_StringIndexer_248dcdc255ea/metadata/.part-00000.crc'\n",
            "'/content/FakeNewsCovidML/stages/4_StringIndexer_248dcdc255ea/data' -> '/content/gdrive/MyDrive/Colab Notebooks/BigData/models/FakeNewsCovidML/stages/4_StringIndexer_248dcdc255ea/data'\n",
            "'/content/FakeNewsCovidML/stages/4_StringIndexer_248dcdc255ea/data/_SUCCESS' -> '/content/gdrive/MyDrive/Colab Notebooks/BigData/models/FakeNewsCovidML/stages/4_StringIndexer_248dcdc255ea/data/_SUCCESS'\n",
            "'/content/FakeNewsCovidML/stages/4_StringIndexer_248dcdc255ea/data/._SUCCESS.crc' -> '/content/gdrive/MyDrive/Colab Notebooks/BigData/models/FakeNewsCovidML/stages/4_StringIndexer_248dcdc255ea/data/._SUCCESS.crc'\n",
            "'/content/FakeNewsCovidML/stages/4_StringIndexer_248dcdc255ea/data/part-00000-839b6a4a-8d5a-4dd2-aeba-63e81ba9522d-c000.snappy.parquet' -> '/content/gdrive/MyDrive/Colab Notebooks/BigData/models/FakeNewsCovidML/stages/4_StringIndexer_248dcdc255ea/data/part-00000-839b6a4a-8d5a-4dd2-aeba-63e81ba9522d-c000.snappy.parquet'\n",
            "'/content/FakeNewsCovidML/stages/4_StringIndexer_248dcdc255ea/data/.part-00000-839b6a4a-8d5a-4dd2-aeba-63e81ba9522d-c000.snappy.parquet.crc' -> '/content/gdrive/MyDrive/Colab Notebooks/BigData/models/FakeNewsCovidML/stages/4_StringIndexer_248dcdc255ea/data/.part-00000-839b6a4a-8d5a-4dd2-aeba-63e81ba9522d-c000.snappy.parquet.crc'\n",
            "'/content/FakeNewsCovidML/stages/5_LogisticRegression_7cdc99a68390' -> '/content/gdrive/MyDrive/Colab Notebooks/BigData/models/FakeNewsCovidML/stages/5_LogisticRegression_7cdc99a68390'\n",
            "'/content/FakeNewsCovidML/stages/5_LogisticRegression_7cdc99a68390/metadata' -> '/content/gdrive/MyDrive/Colab Notebooks/BigData/models/FakeNewsCovidML/stages/5_LogisticRegression_7cdc99a68390/metadata'\n",
            "'/content/FakeNewsCovidML/stages/5_LogisticRegression_7cdc99a68390/metadata/_SUCCESS' -> '/content/gdrive/MyDrive/Colab Notebooks/BigData/models/FakeNewsCovidML/stages/5_LogisticRegression_7cdc99a68390/metadata/_SUCCESS'\n",
            "'/content/FakeNewsCovidML/stages/5_LogisticRegression_7cdc99a68390/metadata/._SUCCESS.crc' -> '/content/gdrive/MyDrive/Colab Notebooks/BigData/models/FakeNewsCovidML/stages/5_LogisticRegression_7cdc99a68390/metadata/._SUCCESS.crc'\n",
            "'/content/FakeNewsCovidML/stages/5_LogisticRegression_7cdc99a68390/metadata/part-00000' -> '/content/gdrive/MyDrive/Colab Notebooks/BigData/models/FakeNewsCovidML/stages/5_LogisticRegression_7cdc99a68390/metadata/part-00000'\n",
            "'/content/FakeNewsCovidML/stages/5_LogisticRegression_7cdc99a68390/metadata/.part-00000.crc' -> '/content/gdrive/MyDrive/Colab Notebooks/BigData/models/FakeNewsCovidML/stages/5_LogisticRegression_7cdc99a68390/metadata/.part-00000.crc'\n",
            "'/content/FakeNewsCovidML/stages/5_LogisticRegression_7cdc99a68390/data' -> '/content/gdrive/MyDrive/Colab Notebooks/BigData/models/FakeNewsCovidML/stages/5_LogisticRegression_7cdc99a68390/data'\n",
            "'/content/FakeNewsCovidML/stages/5_LogisticRegression_7cdc99a68390/data/_SUCCESS' -> '/content/gdrive/MyDrive/Colab Notebooks/BigData/models/FakeNewsCovidML/stages/5_LogisticRegression_7cdc99a68390/data/_SUCCESS'\n",
            "'/content/FakeNewsCovidML/stages/5_LogisticRegression_7cdc99a68390/data/._SUCCESS.crc' -> '/content/gdrive/MyDrive/Colab Notebooks/BigData/models/FakeNewsCovidML/stages/5_LogisticRegression_7cdc99a68390/data/._SUCCESS.crc'\n",
            "'/content/FakeNewsCovidML/stages/5_LogisticRegression_7cdc99a68390/data/part-00000-9b27ba0a-036b-4af3-9ba5-1dc489ddc511-c000.snappy.parquet' -> '/content/gdrive/MyDrive/Colab Notebooks/BigData/models/FakeNewsCovidML/stages/5_LogisticRegression_7cdc99a68390/data/part-00000-9b27ba0a-036b-4af3-9ba5-1dc489ddc511-c000.snappy.parquet'\n",
            "'/content/FakeNewsCovidML/stages/5_LogisticRegression_7cdc99a68390/data/.part-00000-9b27ba0a-036b-4af3-9ba5-1dc489ddc511-c000.snappy.parquet.crc' -> '/content/gdrive/MyDrive/Colab Notebooks/BigData/models/FakeNewsCovidML/stages/5_LogisticRegression_7cdc99a68390/data/.part-00000-9b27ba0a-036b-4af3-9ba5-1dc489ddc511-c000.snappy.parquet.crc'\n",
            "'/content/FakeNewsCovidML/stages/0_Tokenizer_bc9c34cb9a36' -> '/content/gdrive/MyDrive/Colab Notebooks/BigData/models/FakeNewsCovidML/stages/0_Tokenizer_bc9c34cb9a36'\n",
            "'/content/FakeNewsCovidML/stages/0_Tokenizer_bc9c34cb9a36/metadata' -> '/content/gdrive/MyDrive/Colab Notebooks/BigData/models/FakeNewsCovidML/stages/0_Tokenizer_bc9c34cb9a36/metadata'\n",
            "'/content/FakeNewsCovidML/stages/0_Tokenizer_bc9c34cb9a36/metadata/_SUCCESS' -> '/content/gdrive/MyDrive/Colab Notebooks/BigData/models/FakeNewsCovidML/stages/0_Tokenizer_bc9c34cb9a36/metadata/_SUCCESS'\n",
            "'/content/FakeNewsCovidML/stages/0_Tokenizer_bc9c34cb9a36/metadata/._SUCCESS.crc' -> '/content/gdrive/MyDrive/Colab Notebooks/BigData/models/FakeNewsCovidML/stages/0_Tokenizer_bc9c34cb9a36/metadata/._SUCCESS.crc'\n",
            "'/content/FakeNewsCovidML/stages/0_Tokenizer_bc9c34cb9a36/metadata/part-00000' -> '/content/gdrive/MyDrive/Colab Notebooks/BigData/models/FakeNewsCovidML/stages/0_Tokenizer_bc9c34cb9a36/metadata/part-00000'\n",
            "'/content/FakeNewsCovidML/stages/0_Tokenizer_bc9c34cb9a36/metadata/.part-00000.crc' -> '/content/gdrive/MyDrive/Colab Notebooks/BigData/models/FakeNewsCovidML/stages/0_Tokenizer_bc9c34cb9a36/metadata/.part-00000.crc'\n",
            "'/content/FakeNewsCovidML/stages/1_StopWordsRemover_12dc914565c2' -> '/content/gdrive/MyDrive/Colab Notebooks/BigData/models/FakeNewsCovidML/stages/1_StopWordsRemover_12dc914565c2'\n",
            "'/content/FakeNewsCovidML/stages/1_StopWordsRemover_12dc914565c2/metadata' -> '/content/gdrive/MyDrive/Colab Notebooks/BigData/models/FakeNewsCovidML/stages/1_StopWordsRemover_12dc914565c2/metadata'\n",
            "'/content/FakeNewsCovidML/stages/1_StopWordsRemover_12dc914565c2/metadata/_SUCCESS' -> '/content/gdrive/MyDrive/Colab Notebooks/BigData/models/FakeNewsCovidML/stages/1_StopWordsRemover_12dc914565c2/metadata/_SUCCESS'\n",
            "'/content/FakeNewsCovidML/stages/1_StopWordsRemover_12dc914565c2/metadata/._SUCCESS.crc' -> '/content/gdrive/MyDrive/Colab Notebooks/BigData/models/FakeNewsCovidML/stages/1_StopWordsRemover_12dc914565c2/metadata/._SUCCESS.crc'\n",
            "'/content/FakeNewsCovidML/stages/1_StopWordsRemover_12dc914565c2/metadata/part-00000' -> '/content/gdrive/MyDrive/Colab Notebooks/BigData/models/FakeNewsCovidML/stages/1_StopWordsRemover_12dc914565c2/metadata/part-00000'\n",
            "'/content/FakeNewsCovidML/stages/1_StopWordsRemover_12dc914565c2/metadata/.part-00000.crc' -> '/content/gdrive/MyDrive/Colab Notebooks/BigData/models/FakeNewsCovidML/stages/1_StopWordsRemover_12dc914565c2/metadata/.part-00000.crc'\n",
            "'/content/FakeNewsCovidML/stages/2_CountVectorizer_1b6f2a152b31' -> '/content/gdrive/MyDrive/Colab Notebooks/BigData/models/FakeNewsCovidML/stages/2_CountVectorizer_1b6f2a152b31'\n",
            "'/content/FakeNewsCovidML/stages/2_CountVectorizer_1b6f2a152b31/metadata' -> '/content/gdrive/MyDrive/Colab Notebooks/BigData/models/FakeNewsCovidML/stages/2_CountVectorizer_1b6f2a152b31/metadata'\n",
            "'/content/FakeNewsCovidML/stages/2_CountVectorizer_1b6f2a152b31/metadata/_SUCCESS' -> '/content/gdrive/MyDrive/Colab Notebooks/BigData/models/FakeNewsCovidML/stages/2_CountVectorizer_1b6f2a152b31/metadata/_SUCCESS'\n",
            "'/content/FakeNewsCovidML/stages/2_CountVectorizer_1b6f2a152b31/metadata/._SUCCESS.crc' -> '/content/gdrive/MyDrive/Colab Notebooks/BigData/models/FakeNewsCovidML/stages/2_CountVectorizer_1b6f2a152b31/metadata/._SUCCESS.crc'\n",
            "'/content/FakeNewsCovidML/stages/2_CountVectorizer_1b6f2a152b31/metadata/part-00000' -> '/content/gdrive/MyDrive/Colab Notebooks/BigData/models/FakeNewsCovidML/stages/2_CountVectorizer_1b6f2a152b31/metadata/part-00000'\n",
            "'/content/FakeNewsCovidML/stages/2_CountVectorizer_1b6f2a152b31/metadata/.part-00000.crc' -> '/content/gdrive/MyDrive/Colab Notebooks/BigData/models/FakeNewsCovidML/stages/2_CountVectorizer_1b6f2a152b31/metadata/.part-00000.crc'\n",
            "'/content/FakeNewsCovidML/stages/2_CountVectorizer_1b6f2a152b31/data' -> '/content/gdrive/MyDrive/Colab Notebooks/BigData/models/FakeNewsCovidML/stages/2_CountVectorizer_1b6f2a152b31/data'\n",
            "'/content/FakeNewsCovidML/stages/2_CountVectorizer_1b6f2a152b31/data/_SUCCESS' -> '/content/gdrive/MyDrive/Colab Notebooks/BigData/models/FakeNewsCovidML/stages/2_CountVectorizer_1b6f2a152b31/data/_SUCCESS'\n",
            "'/content/FakeNewsCovidML/stages/2_CountVectorizer_1b6f2a152b31/data/._SUCCESS.crc' -> '/content/gdrive/MyDrive/Colab Notebooks/BigData/models/FakeNewsCovidML/stages/2_CountVectorizer_1b6f2a152b31/data/._SUCCESS.crc'\n",
            "'/content/FakeNewsCovidML/stages/2_CountVectorizer_1b6f2a152b31/data/part-00000-044ff20d-2244-4c52-9947-282473e0c365-c000.snappy.parquet' -> '/content/gdrive/MyDrive/Colab Notebooks/BigData/models/FakeNewsCovidML/stages/2_CountVectorizer_1b6f2a152b31/data/part-00000-044ff20d-2244-4c52-9947-282473e0c365-c000.snappy.parquet'\n",
            "'/content/FakeNewsCovidML/stages/2_CountVectorizer_1b6f2a152b31/data/.part-00000-044ff20d-2244-4c52-9947-282473e0c365-c000.snappy.parquet.crc' -> '/content/gdrive/MyDrive/Colab Notebooks/BigData/models/FakeNewsCovidML/stages/2_CountVectorizer_1b6f2a152b31/data/.part-00000-044ff20d-2244-4c52-9947-282473e0c365-c000.snappy.parquet.crc'\n",
            "'/content/FakeNewsCovidML/stages/3_IDF_5b34ab4f4415' -> '/content/gdrive/MyDrive/Colab Notebooks/BigData/models/FakeNewsCovidML/stages/3_IDF_5b34ab4f4415'\n",
            "'/content/FakeNewsCovidML/stages/3_IDF_5b34ab4f4415/metadata' -> '/content/gdrive/MyDrive/Colab Notebooks/BigData/models/FakeNewsCovidML/stages/3_IDF_5b34ab4f4415/metadata'\n",
            "'/content/FakeNewsCovidML/stages/3_IDF_5b34ab4f4415/metadata/_SUCCESS' -> '/content/gdrive/MyDrive/Colab Notebooks/BigData/models/FakeNewsCovidML/stages/3_IDF_5b34ab4f4415/metadata/_SUCCESS'\n",
            "'/content/FakeNewsCovidML/stages/3_IDF_5b34ab4f4415/metadata/._SUCCESS.crc' -> '/content/gdrive/MyDrive/Colab Notebooks/BigData/models/FakeNewsCovidML/stages/3_IDF_5b34ab4f4415/metadata/._SUCCESS.crc'\n",
            "'/content/FakeNewsCovidML/stages/3_IDF_5b34ab4f4415/metadata/part-00000' -> '/content/gdrive/MyDrive/Colab Notebooks/BigData/models/FakeNewsCovidML/stages/3_IDF_5b34ab4f4415/metadata/part-00000'\n",
            "'/content/FakeNewsCovidML/stages/3_IDF_5b34ab4f4415/metadata/.part-00000.crc' -> '/content/gdrive/MyDrive/Colab Notebooks/BigData/models/FakeNewsCovidML/stages/3_IDF_5b34ab4f4415/metadata/.part-00000.crc'\n",
            "'/content/FakeNewsCovidML/stages/3_IDF_5b34ab4f4415/data' -> '/content/gdrive/MyDrive/Colab Notebooks/BigData/models/FakeNewsCovidML/stages/3_IDF_5b34ab4f4415/data'\n",
            "'/content/FakeNewsCovidML/stages/3_IDF_5b34ab4f4415/data/_SUCCESS' -> '/content/gdrive/MyDrive/Colab Notebooks/BigData/models/FakeNewsCovidML/stages/3_IDF_5b34ab4f4415/data/_SUCCESS'\n",
            "'/content/FakeNewsCovidML/stages/3_IDF_5b34ab4f4415/data/._SUCCESS.crc' -> '/content/gdrive/MyDrive/Colab Notebooks/BigData/models/FakeNewsCovidML/stages/3_IDF_5b34ab4f4415/data/._SUCCESS.crc'\n",
            "'/content/FakeNewsCovidML/stages/3_IDF_5b34ab4f4415/data/part-00000-62d70678-8821-4833-884f-526ecd09e4d5-c000.snappy.parquet' -> '/content/gdrive/MyDrive/Colab Notebooks/BigData/models/FakeNewsCovidML/stages/3_IDF_5b34ab4f4415/data/part-00000-62d70678-8821-4833-884f-526ecd09e4d5-c000.snappy.parquet'\n",
            "'/content/FakeNewsCovidML/stages/3_IDF_5b34ab4f4415/data/.part-00000-62d70678-8821-4833-884f-526ecd09e4d5-c000.snappy.parquet.crc' -> '/content/gdrive/MyDrive/Colab Notebooks/BigData/models/FakeNewsCovidML/stages/3_IDF_5b34ab4f4415/data/.part-00000-62d70678-8821-4833-884f-526ecd09e4d5-c000.snappy.parquet.crc'\n"
          ]
        }
      ]
    },
    {
      "cell_type": "code",
      "source": [
        "!rm -rf '/content/FakeNewsCovidML'"
      ],
      "metadata": {
        "id": "PjSSRR8u0jrc"
      },
      "execution_count": null,
      "outputs": []
    },
    {
      "cell_type": "markdown",
      "source": [
        "### Load model"
      ],
      "metadata": {
        "id": "l-JWqQucOusT"
      }
    },
    {
      "cell_type": "code",
      "source": [
        "!cp -av '/content/gdrive/MyDrive/Colab Notebooks/BigData/models/FakeNewsCovidML' '/content/models'"
      ],
      "metadata": {
        "id": "bqUJY4zE0qF-"
      },
      "execution_count": null,
      "outputs": []
    },
    {
      "cell_type": "code",
      "source": [
        "# from pyspark.ml.pipeline import PipelineModel\n",
        "# model = PipelineModel.read().load('/content/gdrive/MyDrive/Colab Notebooks/BigData/models/SparkFakeNewsCovid')\n",
        "model = PipelineModel.read().load('/content/models')"
      ],
      "metadata": {
        "id": "VNj0dTABw1U2"
      },
      "execution_count": null,
      "outputs": []
    },
    {
      "cell_type": "code",
      "source": [
        "%%time\n",
        "Validation(model, trainDataset)"
      ],
      "metadata": {
        "id": "M0r2MAF61R44",
        "colab": {
          "base_uri": "https://localhost:8080/"
        },
        "outputId": "0ca184d3-88eb-4d7d-b852-e29faaede176"
      },
      "execution_count": null,
      "outputs": [
        {
          "output_type": "stream",
          "name": "stdout",
          "text": [
            "+----------+----------+\n",
            "|labelIndex|prediction|\n",
            "+----------+----------+\n",
            "|       0.0|       0.0|\n",
            "|       0.0|       0.0|\n",
            "|       1.0|       1.0|\n",
            "|       0.0|       0.0|\n",
            "|       0.0|       0.0|\n",
            "+----------+----------+\n",
            "only showing top 5 rows\n",
            "\n",
            "0.9963597564802611\n",
            "CPU times: user 98.5 ms, sys: 11.6 ms, total: 110 ms\n",
            "Wall time: 6.35 s\n"
          ]
        }
      ]
    },
    {
      "cell_type": "code",
      "source": [
        "%%time\n",
        "Validation(model, valDataset)"
      ],
      "metadata": {
        "id": "g-r2IVn0wdom",
        "colab": {
          "base_uri": "https://localhost:8080/"
        },
        "outputId": "a4a475ec-9862-4217-c7a9-f3d1d9f93e32"
      },
      "execution_count": null,
      "outputs": [
        {
          "output_type": "stream",
          "name": "stdout",
          "text": [
            "+----------+----------+\n",
            "|labelIndex|prediction|\n",
            "+----------+----------+\n",
            "|       1.0|       1.0|\n",
            "|       1.0|       0.0|\n",
            "|       1.0|       1.0|\n",
            "|       1.0|       1.0|\n",
            "|       0.0|       0.0|\n",
            "+----------+----------+\n",
            "only showing top 5 rows\n",
            "\n",
            "0.7923211169284468\n",
            "CPU times: user 77.2 ms, sys: 12.9 ms, total: 90.1 ms\n",
            "Wall time: 2.28 s\n"
          ]
        }
      ]
    },
    {
      "cell_type": "code",
      "source": [
        "%%time\n",
        "Validation(model, testDataset)"
      ],
      "metadata": {
        "id": "oVypl7Eum52a",
        "colab": {
          "base_uri": "https://localhost:8080/"
        },
        "outputId": "ec32a56e-7b10-4eeb-f60c-00936c94891b"
      },
      "execution_count": null,
      "outputs": [
        {
          "output_type": "stream",
          "name": "stdout",
          "text": [
            "+----------+----------+\n",
            "|labelIndex|prediction|\n",
            "+----------+----------+\n",
            "|       0.0|       0.0|\n",
            "|       1.0|       1.0|\n",
            "|       1.0|       1.0|\n",
            "|       0.0|       0.0|\n",
            "|       0.0|       0.0|\n",
            "+----------+----------+\n",
            "only showing top 5 rows\n",
            "\n",
            "0.7535971223021583\n",
            "CPU times: user 86.5 ms, sys: 12.8 ms, total: 99.3 ms\n",
            "Wall time: 2.37 s\n"
          ]
        }
      ]
    },
    {
      "cell_type": "code",
      "source": [
        "print(model.stages[4].labels)\n",
        "\n",
        "label_to_stringIdx = IndexToString(\n",
        "    inputCol=\"prediction\", \n",
        "    outputCol=\"text_prediction\",\n",
        "    labels=model.stages[4].labels\n",
        ")"
      ],
      "metadata": {
        "colab": {
          "base_uri": "https://localhost:8080/"
        },
        "id": "bAqE0DNSLh4E",
        "outputId": "9dfceeb1-7cc6-42f6-8660-8ca4fba0375c"
      },
      "execution_count": null,
      "outputs": [
        {
          "output_type": "stream",
          "name": "stdout",
          "text": [
            "['real', 'fake']\n"
          ]
        }
      ]
    },
    {
      "cell_type": "code",
      "source": [
        "data = [('Protect yourself and others from COVID when using public transport by practicing social distancing, avoiding touching surfaces, and practicing hand hygiene',),]\n",
        "df = spark.createDataFrame(data=data, schema='tweet string')\n",
        "df.show(truncate=False)"
      ],
      "metadata": {
        "colab": {
          "base_uri": "https://localhost:8080/"
        },
        "id": "3z7GAtlvKnpb",
        "outputId": "0189bdb5-997c-494c-c1af-77cf89e35348"
      },
      "execution_count": null,
      "outputs": [
        {
          "output_type": "stream",
          "name": "stdout",
          "text": [
            "+-----------------------------------------------------------------------------------------------------------------------------------------------------------+\n",
            "|tweet                                                                                                                                                      |\n",
            "+-----------------------------------------------------------------------------------------------------------------------------------------------------------+\n",
            "|Protect yourself and others from COVID when using public transport by practicing social distancing, avoiding touching surfaces, and practicing hand hygiene|\n",
            "+-----------------------------------------------------------------------------------------------------------------------------------------------------------+\n",
            "\n"
          ]
        }
      ]
    },
    {
      "cell_type": "code",
      "source": [
        "label_to_stringIdx.transform(model.transform(df)).show()"
      ],
      "metadata": {
        "colab": {
          "base_uri": "https://localhost:8080/"
        },
        "id": "Y3sxTcROLAZC",
        "outputId": "4186b054-288d-4ffc-8bde-7ebc4a6fa34a"
      },
      "execution_count": null,
      "outputs": [
        {
          "output_type": "stream",
          "name": "stdout",
          "text": [
            "+--------------------+--------------------+--------------------+--------------------+--------------------+--------------------+--------------------+----------+---------------+\n",
            "|               tweet|              words1|              words3|      term_frequency|            features|       rawPrediction|         probability|prediction|text_prediction|\n",
            "+--------------------+--------------------+--------------------+--------------------+--------------------+--------------------+--------------------+----------+---------------+\n",
            "|Protect yourself ...|[protect, yoursel...|[protect, others,...|(47645,[2,30,179,...|(47645,[2,30,179,...|[3.95681143238724...|[0.98123486894809...|       0.0|           real|\n",
            "+--------------------+--------------------+--------------------+--------------------+--------------------+--------------------+--------------------+----------+---------------+\n",
            "\n"
          ]
        }
      ]
    },
    {
      "cell_type": "code",
      "source": [
        "data = [('Covid is good',),]\n",
        "df = spark.createDataFrame(data=data, schema='tweet string')\n",
        "df.show(truncate=False)"
      ],
      "metadata": {
        "colab": {
          "base_uri": "https://localhost:8080/"
        },
        "id": "SGMhvFPCLGG6",
        "outputId": "1d5c30fd-cf5e-4a28-a884-225bd0cab6c1"
      },
      "execution_count": null,
      "outputs": [
        {
          "output_type": "stream",
          "name": "stdout",
          "text": [
            "+-------------+\n",
            "|tweet        |\n",
            "+-------------+\n",
            "|Covid is good|\n",
            "+-------------+\n",
            "\n"
          ]
        }
      ]
    },
    {
      "cell_type": "code",
      "source": [
        "label_to_stringIdx.transform(model.transform(df)).show()"
      ],
      "metadata": {
        "colab": {
          "base_uri": "https://localhost:8080/"
        },
        "id": "jINovpHuMl_y",
        "outputId": "7f14af84-5cbf-42a2-8a21-2b39e98fd70c"
      },
      "execution_count": null,
      "outputs": [
        {
          "output_type": "stream",
          "name": "stdout",
          "text": [
            "+-------------+-----------------+-------------+--------------------+--------------------+--------------------+--------------------+----------+---------------+\n",
            "|        tweet|           words1|       words3|      term_frequency|            features|       rawPrediction|         probability|prediction|text_prediction|\n",
            "+-------------+-----------------+-------------+--------------------+--------------------+--------------------+--------------------+----------+---------------+\n",
            "|Covid is good|[covid, is, good]|[covid, good]|(47645,[2,178],[1...|(47645,[2,178],[0...|[-3.4789180444161...|[0.02991806540722...|       1.0|           fake|\n",
            "+-------------+-----------------+-------------+--------------------+--------------------+--------------------+--------------------+----------+---------------+\n",
            "\n"
          ]
        }
      ]
    },
    {
      "cell_type": "code",
      "source": [
        "data = [('Covid is good and bad',),]\n",
        "df = spark.createDataFrame(data=data, schema='tweet string')\n",
        "df.show(truncate=False)"
      ],
      "metadata": {
        "id": "T3-_DcP6Moh3",
        "colab": {
          "base_uri": "https://localhost:8080/"
        },
        "outputId": "755f8713-2f2b-4eb2-d0b2-525ceed70a1b"
      },
      "execution_count": null,
      "outputs": [
        {
          "output_type": "stream",
          "name": "stdout",
          "text": [
            "+---------------------+\n",
            "|tweet                |\n",
            "+---------------------+\n",
            "|Covid is good and bad|\n",
            "+---------------------+\n",
            "\n"
          ]
        }
      ]
    },
    {
      "cell_type": "code",
      "source": [
        "label_to_stringIdx.transform(model.transform(df)).show()"
      ],
      "metadata": {
        "colab": {
          "base_uri": "https://localhost:8080/"
        },
        "id": "HNZDaT45xGSx",
        "outputId": "37565e86-f95d-40a4-d6a4-ccc2a5a10f38"
      },
      "execution_count": null,
      "outputs": [
        {
          "output_type": "stream",
          "name": "stdout",
          "text": [
            "+--------------------+--------------------+------------------+--------------------+--------------------+--------------------+--------------------+----------+---------------+\n",
            "|               tweet|              words1|            words3|      term_frequency|            features|       rawPrediction|         probability|prediction|text_prediction|\n",
            "+--------------------+--------------------+------------------+--------------------+--------------------+--------------------+--------------------+----------+---------------+\n",
            "|Covid is good and...|[covid, is, good,...|[covid, good, bad]|(47645,[2,178,824...|(47645,[2,178,824...|[-3.9080677985655...|[0.01968402020540...|       1.0|           fake|\n",
            "+--------------------+--------------------+------------------+--------------------+--------------------+--------------------+--------------------+----------+---------------+\n",
            "\n"
          ]
        }
      ]
    },
    {
      "cell_type": "code",
      "source": [
        ""
      ],
      "metadata": {
        "id": "RPIFXzO0T7wY"
      },
      "execution_count": null,
      "outputs": []
    }
  ]
}