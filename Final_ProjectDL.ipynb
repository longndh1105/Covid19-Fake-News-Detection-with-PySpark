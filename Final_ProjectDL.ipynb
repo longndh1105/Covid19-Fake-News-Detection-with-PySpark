{
  "nbformat": 4,
  "nbformat_minor": 0,
  "metadata": {
    "colab": {
      "name": "Final_ProjectDL.ipynb",
      "provenance": [],
      "collapsed_sections": [
        "D2mbKVG5oISl",
        "EUD53z7yoMNo",
        "nmVB8bu2oTUk",
        "2bvneSa-brY_",
        "2OEpB1yAczLG",
        "uTQK7K4kdDEL",
        "Z4PguDfxp7DA",
        "KCSj688FS5iW",
        "X9vgQV8XTCjF",
        "o3bbSbw0kyWK",
        "tiaiL8K-k3D9",
        "_QJRBZUZk6y_",
        "-Hhs13fCk96y",
        "zC8BBgbnk_Tg",
        "PioM3Fi_lDwR",
        "aga_Yt56lGQg",
        "_HLxzZCnDx80",
        "V5PMILsqTLtd",
        "m-ciTllKHezJ",
        "sAwP89WbTPkN",
        "doTp3tunTkYH"
      ],
      "include_colab_link": true
    },
    "kernelspec": {
      "name": "python3",
      "display_name": "Python 3"
    },
    "language_info": {
      "name": "python"
    },
    "accelerator": "GPU"
  },
  "cells": [
    {
      "cell_type": "markdown",
      "metadata": {
        "id": "view-in-github",
        "colab_type": "text"
      },
      "source": [
        "<a href=\"https://colab.research.google.com/github/longndh1105/Covid19-Fake-News-Detection-with-PySpark/blob/main/Final_ProjectDL.ipynb\" target=\"_parent\"><img src=\"https://colab.research.google.com/assets/colab-badge.svg\" alt=\"Open In Colab\"/></a>"
      ]
    },
    {
      "cell_type": "markdown",
      "source": [
        "#Download"
      ],
      "metadata": {
        "id": "qpe5XZq-TYG9"
      }
    },
    {
      "cell_type": "code",
      "source": [
        "from google.colab import drive\n",
        "\n",
        "drive.mount('/content/gdrive')\n",
        "# drive._mount('/content/gdrive')"
      ],
      "metadata": {
        "id": "7luCtd3ew6Ib",
        "colab": {
          "base_uri": "https://localhost:8080/"
        },
        "outputId": "27ef0ee6-4999-4161-afd4-530b7d84c5bc"
      },
      "execution_count": null,
      "outputs": [
        {
          "output_type": "stream",
          "name": "stdout",
          "text": [
            "Mounted at /content/gdrive\n"
          ]
        }
      ]
    },
    {
      "cell_type": "code",
      "source": [
        "!wget http://setup.johnsnowlabs.com/colab.sh -O - | bash"
      ],
      "metadata": {
        "id": "JKyjORNr2pLg",
        "colab": {
          "base_uri": "https://localhost:8080/"
        },
        "outputId": "5bc18ab3-d7fc-4c6d-eed9-43fd5fef87b9"
      },
      "execution_count": null,
      "outputs": [
        {
          "output_type": "stream",
          "name": "stdout",
          "text": [
            "--2022-01-26 07:33:28--  http://setup.johnsnowlabs.com/colab.sh\n",
            "Resolving setup.johnsnowlabs.com (setup.johnsnowlabs.com)... 51.158.130.125\n",
            "Connecting to setup.johnsnowlabs.com (setup.johnsnowlabs.com)|51.158.130.125|:80... connected.\n",
            "HTTP request sent, awaiting response... 302 Found\n",
            "Location: https://setup.johnsnowlabs.com/colab.sh [following]\n",
            "--2022-01-26 07:33:28--  https://setup.johnsnowlabs.com/colab.sh\n",
            "Connecting to setup.johnsnowlabs.com (setup.johnsnowlabs.com)|51.158.130.125|:443... connected.\n",
            "HTTP request sent, awaiting response... 302 Moved Temporarily\n",
            "Location: https://raw.githubusercontent.com/JohnSnowLabs/spark-nlp/master/scripts/colab_setup.sh [following]\n",
            "--2022-01-26 07:33:29--  https://raw.githubusercontent.com/JohnSnowLabs/spark-nlp/master/scripts/colab_setup.sh\n",
            "Resolving raw.githubusercontent.com (raw.githubusercontent.com)... 185.199.108.133, 185.199.109.133, 185.199.110.133, ...\n",
            "Connecting to raw.githubusercontent.com (raw.githubusercontent.com)|185.199.108.133|:443... connected.\n",
            "HTTP request sent, awaiting response... 200 OK\n",
            "Length: 1453 (1.4K) [text/plain]\n",
            "Saving to: ‘STDOUT’\n",
            "\n",
            "-                   100%[===================>]   1.42K  --.-KB/s    in 0s      \n",
            "\n",
            "2022-01-26 07:33:29 (26.2 MB/s) - written to stdout [1453/1453]\n",
            "\n",
            "setup Colab for PySpark 3.0.3 and Spark NLP 3.4.0\n",
            "Installing PySpark 3.0.3 and Spark NLP 3.4.0\n",
            "\u001b[K     |████████████████████████████████| 209.1 MB 64 kB/s \n",
            "\u001b[K     |████████████████████████████████| 140 kB 30.4 MB/s \n",
            "\u001b[K     |████████████████████████████████| 198 kB 9.0 MB/s \n",
            "\u001b[?25h  Building wheel for pyspark (setup.py) ... \u001b[?25l\u001b[?25hdone\n"
          ]
        }
      ]
    },
    {
      "cell_type": "markdown",
      "source": [
        "## Data 1"
      ],
      "metadata": {
        "id": "D2mbKVG5oISl"
      }
    },
    {
      "cell_type": "code",
      "source": [
        "!mkdir data"
      ],
      "metadata": {
        "id": "FEXUyWmrcLfg"
      },
      "execution_count": null,
      "outputs": []
    },
    {
      "cell_type": "code",
      "source": [
        "!git clone https://github.com/diptamath/covid_fake_news.git\n",
        "!cp /content/covid_fake_news/data/Constraint_Test.csv -d /content/data/\n",
        "!cp /content/covid_fake_news/data/Constraint_Train.csv -d /content/data/\n",
        "!cp /content/covid_fake_news/data/Constraint_Val.csv -d /content/data/\n",
        "!cp /content/covid_fake_news/data/english_test_with_labels.csv -d /content/data/\n",
        "!rm -rf /content/covid_fake_news"
      ],
      "metadata": {
        "id": "W_50Ya0H3OjA",
        "colab": {
          "base_uri": "https://localhost:8080/"
        },
        "outputId": "db007e75-2db5-4a7f-8970-8459270096a0"
      },
      "execution_count": null,
      "outputs": [
        {
          "output_type": "stream",
          "name": "stdout",
          "text": [
            "Cloning into 'covid_fake_news'...\n",
            "remote: Enumerating objects: 275, done.\u001b[K\n",
            "remote: Counting objects: 100% (275/275), done.\u001b[K\n",
            "remote: Compressing objects: 100% (182/182), done.\u001b[K\n",
            "remote: Total 275 (delta 160), reused 167 (delta 89), pack-reused 0\u001b[K\n",
            "Receiving objects: 100% (275/275), 4.75 MiB | 18.56 MiB/s, done.\n",
            "Resolving deltas: 100% (160/160), done.\n"
          ]
        }
      ]
    },
    {
      "cell_type": "markdown",
      "source": [
        "## Data 2"
      ],
      "metadata": {
        "id": "EUD53z7yoMNo"
      }
    },
    {
      "cell_type": "code",
      "source": [
        "#https://data.mendeley.com/datasets/zwfdmp5syg/1\n",
        "!wget https://md-datasets-cache-zipfiles-prod.s3.eu-west-1.amazonaws.com/zwfdmp5syg-1.zip\n",
        "!unzip '/content/zwfdmp5syg-1.zip' -d data\n",
        "!rm '/content/zwfdmp5syg-1.zip'"
      ],
      "metadata": {
        "id": "pACIh2IQEEci",
        "colab": {
          "base_uri": "https://localhost:8080/"
        },
        "outputId": "14ce4242-1835-49cf-b016-c9fbc1746177"
      },
      "execution_count": null,
      "outputs": [
        {
          "output_type": "stream",
          "name": "stdout",
          "text": [
            "--2022-01-26 07:34:16--  https://md-datasets-cache-zipfiles-prod.s3.eu-west-1.amazonaws.com/zwfdmp5syg-1.zip\n",
            "Resolving md-datasets-cache-zipfiles-prod.s3.eu-west-1.amazonaws.com (md-datasets-cache-zipfiles-prod.s3.eu-west-1.amazonaws.com)... 52.218.88.112\n",
            "Connecting to md-datasets-cache-zipfiles-prod.s3.eu-west-1.amazonaws.com (md-datasets-cache-zipfiles-prod.s3.eu-west-1.amazonaws.com)|52.218.88.112|:443... connected.\n",
            "HTTP request sent, awaiting response... 200 OK\n",
            "Length: 3640768 (3.5M) [application/octet-stream]\n",
            "Saving to: ‘zwfdmp5syg-1.zip’\n",
            "\n",
            "zwfdmp5syg-1.zip    100%[===================>]   3.47M  4.72MB/s    in 0.7s    \n",
            "\n",
            "2022-01-26 07:34:17 (4.72 MB/s) - ‘zwfdmp5syg-1.zip’ saved [3640768/3640768]\n",
            "\n",
            "Archive:  /content/zwfdmp5syg-1.zip\n",
            "  inflating: data/fake_new_dataset.xlsx  \n"
          ]
        }
      ]
    },
    {
      "cell_type": "markdown",
      "source": [
        "## Data 3"
      ],
      "metadata": {
        "id": "nmVB8bu2oTUk"
      }
    },
    {
      "cell_type": "code",
      "source": [
        "!git clone https://github.com/VinAIResearch/COVID19Tweet.git\n",
        "!unzip '/content/COVID19Tweet/WNUT-2020-Task-2-Dataset.zip' -d data\n",
        "!rm -rf /content/COVID19Tweet"
      ],
      "metadata": {
        "id": "pyujWFjpoUcY",
        "colab": {
          "base_uri": "https://localhost:8080/"
        },
        "outputId": "8becde3a-9801-4d87-f2d5-f0bcf2b8788a"
      },
      "execution_count": null,
      "outputs": [
        {
          "output_type": "stream",
          "name": "stdout",
          "text": [
            "Cloning into 'COVID19Tweet'...\n",
            "remote: Enumerating objects: 44, done.\u001b[K\n",
            "remote: Counting objects: 100% (44/44), done.\u001b[K\n",
            "remote: Compressing objects: 100% (37/37), done.\u001b[K\n",
            "remote: Total 44 (delta 13), reused 26 (delta 5), pack-reused 0\u001b[K\n",
            "Unpacking objects: 100% (44/44), done.\n",
            "Archive:  /content/COVID19Tweet/WNUT-2020-Task-2-Dataset.zip\n",
            "   creating: data/WNUT-2020-Task-2-Dataset/\n",
            "  inflating: data/WNUT-2020-Task-2-Dataset/train.tsv  \n",
            "  inflating: data/WNUT-2020-Task-2-Dataset/test.tsv  \n",
            "  inflating: data/WNUT-2020-Task-2-Dataset/unlabeled_test_with_noise.tsv  \n",
            "  inflating: data/WNUT-2020-Task-2-Dataset/valid.tsv  \n"
          ]
        }
      ]
    },
    {
      "cell_type": "code",
      "source": [
        "! kaggle competitions download -c 'real_or_fake'"
      ],
      "metadata": {
        "id": "STcBB8sfwxVv",
        "colab": {
          "base_uri": "https://localhost:8080/"
        },
        "outputId": "46c9d70e-5af2-4263-9f81-2ede3210b3cd"
      },
      "execution_count": null,
      "outputs": [
        {
          "output_type": "stream",
          "name": "stdout",
          "text": [
            "Traceback (most recent call last):\n",
            "  File \"/usr/local/bin/kaggle\", line 5, in <module>\n",
            "    from kaggle.cli import main\n",
            "  File \"/usr/local/lib/python2.7/dist-packages/kaggle/__init__.py\", line 23, in <module>\n",
            "    api.authenticate()\n",
            "  File \"/usr/local/lib/python2.7/dist-packages/kaggle/api/kaggle_api_extended.py\", line 146, in authenticate\n",
            "    self.config_file, self.config_dir))\n",
            "IOError: Could not find kaggle.json. Make sure it's located in /root/.kaggle. Or use the environment method.\n"
          ]
        }
      ]
    },
    {
      "cell_type": "markdown",
      "source": [
        "## Data 4"
      ],
      "metadata": {
        "id": "2bvneSa-brY_"
      }
    },
    {
      "cell_type": "code",
      "source": [
        "!gdown --id 1RkTMY0mMWEJrzY4E-F3utpwtc1iuXtcl\n",
        "!gdown --id 1xdkau8KwdU6taeR3Jf7n23kN4QQH1nHd\n",
        "!gdown --id 1KJO1xEEErPpQs6ApQNChhhP5J87QMXlS"
      ],
      "metadata": {
        "colab": {
          "base_uri": "https://localhost:8080/"
        },
        "id": "oeHO6aR2bq1k",
        "outputId": "fbc8c2e1-80b6-406d-90cd-df64bc552c77"
      },
      "execution_count": null,
      "outputs": [
        {
          "output_type": "stream",
          "name": "stdout",
          "text": [
            "Downloading...\n",
            "From: https://drive.google.com/uc?id=1RkTMY0mMWEJrzY4E-F3utpwtc1iuXtcl\n",
            "To: /content/train.csv\n",
            "100% 98.6M/98.6M [00:00<00:00, 108MB/s] \n",
            "Downloading...\n",
            "From: https://drive.google.com/uc?id=1xdkau8KwdU6taeR3Jf7n23kN4QQH1nHd\n",
            "To: /content/test.csv\n",
            "100% 25.1M/25.1M [00:00<00:00, 79.7MB/s]\n",
            "Downloading...\n",
            "From: https://drive.google.com/uc?id=1KJO1xEEErPpQs6ApQNChhhP5J87QMXlS\n",
            "To: /content/submit.csv\n",
            "100% 41.6k/41.6k [00:00<00:00, 66.5MB/s]\n"
          ]
        }
      ]
    },
    {
      "cell_type": "code",
      "source": [
        "!mv /content/train.csv /content/data\n",
        "!mv /content/test.csv /content/data\n",
        "!mv /content/submit.csv /content/data"
      ],
      "metadata": {
        "id": "MSDGUUnNcp_d"
      },
      "execution_count": null,
      "outputs": []
    },
    {
      "cell_type": "markdown",
      "source": [
        "## Data 5"
      ],
      "metadata": {
        "id": "2OEpB1yAczLG"
      }
    },
    {
      "cell_type": "code",
      "source": [
        "!gdown --id 1j5FBscldaLmbUo_y4FyqnpfA64V6DfCP\n",
        "!gdown --id 1guPX_2yy9CZ-kBJ_O5oJPDMyKVcwx41J"
      ],
      "metadata": {
        "colab": {
          "base_uri": "https://localhost:8080/"
        },
        "id": "KR3JZIgLc0gS",
        "outputId": "124c277e-138b-4e26-abbd-7a73e8d0bef0"
      },
      "execution_count": null,
      "outputs": [
        {
          "output_type": "stream",
          "name": "stdout",
          "text": [
            "Downloading...\n",
            "From: https://drive.google.com/uc?id=1j5FBscldaLmbUo_y4FyqnpfA64V6DfCP\n",
            "To: /content/Fake.csv\n",
            "100% 62.8M/62.8M [00:01<00:00, 41.4MB/s]\n",
            "Downloading...\n",
            "From: https://drive.google.com/uc?id=1guPX_2yy9CZ-kBJ_O5oJPDMyKVcwx41J\n",
            "To: /content/True.csv\n",
            "100% 53.6M/53.6M [00:00<00:00, 104MB/s] \n"
          ]
        }
      ]
    },
    {
      "cell_type": "code",
      "source": [
        "!mv /content/Fake.csv /content/data\n",
        "!mv /content/True.csv /content/data"
      ],
      "metadata": {
        "id": "v0lFVkNtdBcT"
      },
      "execution_count": null,
      "outputs": []
    },
    {
      "cell_type": "markdown",
      "source": [
        "## Data 6"
      ],
      "metadata": {
        "id": "uTQK7K4kdDEL"
      }
    },
    {
      "cell_type": "code",
      "source": [
        "!gdown --id 1Uu2oCCusHUKA-Oa8kug2GqU4F22eevP0"
      ],
      "metadata": {
        "colab": {
          "base_uri": "https://localhost:8080/"
        },
        "id": "xImbN6vheO_m",
        "outputId": "d5eda64b-2b69-4117-f179-b4a28e84b482"
      },
      "execution_count": null,
      "outputs": [
        {
          "output_type": "stream",
          "name": "stdout",
          "text": [
            "Downloading...\n",
            "From: https://drive.google.com/uc?id=1Uu2oCCusHUKA-Oa8kug2GqU4F22eevP0\n",
            "To: /content/fake_or_real_news.csv\n",
            "100% 30.7M/30.7M [00:00<00:00, 97.8MB/s]\n"
          ]
        }
      ]
    },
    {
      "cell_type": "code",
      "source": [
        "!mv /content/fake_or_real_news.csv /content/data"
      ],
      "metadata": {
        "id": "zjlKfilJeRM1"
      },
      "execution_count": null,
      "outputs": []
    },
    {
      "cell_type": "markdown",
      "source": [
        "## Data"
      ],
      "metadata": {
        "id": "Z4PguDfxp7DA"
      }
    },
    {
      "cell_type": "code",
      "source": [
        "!wget -q https://raw.githubusercontent.com/mahavivo/vocabulary/master/lemmas/AntBNC_lemmas_ver_001.txt"
      ],
      "metadata": {
        "id": "SLGvnHXS6xoL"
      },
      "execution_count": null,
      "outputs": []
    },
    {
      "cell_type": "code",
      "source": [
        "# !wget https://nlp.stanford.edu/data/glove.840B.300d.zip\n",
        "# !unzip '/content/glove.840B.300d.zip' -d data\n",
        "# !rm '/content/glove.840B.300d.zip'"
      ],
      "metadata": {
        "id": "Sq87AqOM9qT-"
      },
      "execution_count": null,
      "outputs": []
    },
    {
      "cell_type": "code",
      "source": [
        "!gdown --id 1Qo7oTBtcc7McqK8dwC0aEyAAl4S0ju1B\n",
        "!mv /content/glove.840B.300d.txt /content/data"
      ],
      "metadata": {
        "colab": {
          "base_uri": "https://localhost:8080/"
        },
        "id": "4wZH2RgUeuil",
        "outputId": "cdc671ba-84f5-4161-f3a0-4baab0957931"
      },
      "execution_count": null,
      "outputs": [
        {
          "output_type": "stream",
          "name": "stdout",
          "text": [
            "Downloading...\n",
            "From: https://drive.google.com/uc?id=1Qo7oTBtcc7McqK8dwC0aEyAAl4S0ju1B\n",
            "To: /content/glove.840B.300d.txt\n",
            "100% 5.65G/5.65G [01:40<00:00, 56.0MB/s]\n"
          ]
        }
      ]
    },
    {
      "cell_type": "markdown",
      "source": [
        "# Final"
      ],
      "metadata": {
        "id": "bNhAq6Bv-N3M"
      }
    },
    {
      "cell_type": "markdown",
      "source": [
        "## Step 1"
      ],
      "metadata": {
        "id": "KCSj688FS5iW"
      }
    },
    {
      "cell_type": "code",
      "execution_count": null,
      "metadata": {
        "id": "PZxzAHFnz0Yo"
      },
      "outputs": [],
      "source": [
        "import json\n",
        "import sparknlp\n",
        "import numpy as np\n",
        "import pandas as pd\n",
        "from sparknlp.base import *\n",
        "from sparknlp.annotator import *\n",
        "import pyspark.sql.functions as f\n",
        "from pyspark.sql import SparkSession, Window\n",
        "from pyspark.ml import Pipeline, PipelineModel\n",
        "from pyspark.ml.classification import LogisticRegression\n",
        "from pyspark.sql.types import DoubleType, LongType, IntegerType\n",
        "from pyspark.ml.evaluation import RegressionEvaluator, MulticlassClassificationEvaluator\n",
        "from pyspark.ml.feature import HashingTF, IDF, StringIndexer, SQLTransformer,IndexToString"
      ]
    },
    {
      "cell_type": "markdown",
      "source": [
        "## Step 2"
      ],
      "metadata": {
        "id": "X9vgQV8XTCjF"
      }
    },
    {
      "cell_type": "code",
      "source": [
        "spark = sparknlp.start(gpu=True)"
      ],
      "metadata": {
        "id": "iAxPBLWi2p0I"
      },
      "execution_count": null,
      "outputs": []
    },
    {
      "cell_type": "markdown",
      "source": [
        "## Step 3"
      ],
      "metadata": {
        "id": "RYKBr4m_TJP1"
      }
    },
    {
      "cell_type": "markdown",
      "source": [
        "### Data 1"
      ],
      "metadata": {
        "id": "o3bbSbw0kyWK"
      }
    },
    {
      "cell_type": "code",
      "source": [
        "trainDataset = spark.createDataFrame(pd.read_csv(\"/content/data/Constraint_Train.csv\")).select('tweet', 'label')\n",
        "\n",
        "valDataset = spark.createDataFrame(pd.read_csv(\"/content/data/Constraint_Val.csv\")).select('tweet', 'label')\n",
        "\n",
        "# testDataset = spark.createDataFrame(pd.read_csv(\"/content/data/Constraint_Test.csv\")).select('tweet')\n",
        "testDataset = spark.createDataFrame(pd.read_csv(\"/content/data/english_test_with_labels.csv\")).select('tweet', 'label')"
      ],
      "metadata": {
        "id": "T1qU5qYp3EBr"
      },
      "execution_count": null,
      "outputs": []
    },
    {
      "cell_type": "code",
      "source": [
        "trainDataset.printSchema()\n",
        "valDataset.printSchema()\n",
        "testDataset.printSchema()\n",
        "print(trainDataset.count())\n",
        "print(valDataset.count())\n",
        "print(testDataset.count())"
      ],
      "metadata": {
        "colab": {
          "base_uri": "https://localhost:8080/"
        },
        "id": "zYAtQ6sJ5c5F",
        "outputId": "97b84d51-4b66-4da2-d06f-40c79f44420e"
      },
      "execution_count": null,
      "outputs": [
        {
          "output_type": "stream",
          "name": "stdout",
          "text": [
            "root\n",
            " |-- tweet: string (nullable = true)\n",
            " |-- label: string (nullable = true)\n",
            "\n",
            "root\n",
            " |-- tweet: string (nullable = true)\n",
            " |-- label: string (nullable = true)\n",
            "\n",
            "root\n",
            " |-- tweet: string (nullable = true)\n",
            " |-- label: string (nullable = true)\n",
            "\n",
            "6420\n",
            "2140\n",
            "2140\n"
          ]
        }
      ]
    },
    {
      "cell_type": "markdown",
      "source": [
        "\n",
        "### Data 2"
      ],
      "metadata": {
        "id": "tiaiL8K-k3D9"
      }
    },
    {
      "cell_type": "code",
      "source": [
        "udf = f.udf(lambda x: 'real' if x=='1' else 'fake')"
      ],
      "metadata": {
        "id": "3dUKBpyIlNJp"
      },
      "execution_count": null,
      "outputs": []
    },
    {
      "cell_type": "code",
      "source": [
        "trainDataset1 = spark.createDataFrame(\n",
        "    pd.read_excel('/content/data/fake_new_dataset.xlsx', usecols=[2,4]), \n",
        "    schema=\"tweet string, label string \"\n",
        ")"
      ],
      "metadata": {
        "id": "ITtMmz3BlPyY"
      },
      "execution_count": null,
      "outputs": []
    },
    {
      "cell_type": "code",
      "source": [
        "trainDataset1, valDataset1, testDataset1 = (\n",
        "    trainDataset1\n",
        "    .withColumn('label', udf(f.col('label')))\n",
        "    # .withColumn('id', f.row_number().over(Window.orderBy('id')))\n",
        "    .orderBy(f.rand())\n",
        "    .randomSplit([.8, .1, .1],seed=1234)\n",
        ")  "
      ],
      "metadata": {
        "id": "MnZy_gi6TjeS"
      },
      "execution_count": null,
      "outputs": []
    },
    {
      "cell_type": "code",
      "source": [
        "trainDataset1.printSchema()\n",
        "valDataset1.printSchema()\n",
        "testDataset1.printSchema()\n",
        "print(trainDataset1.count())\n",
        "print(valDataset1.count())\n",
        "print(testDataset1.count())"
      ],
      "metadata": {
        "colab": {
          "base_uri": "https://localhost:8080/"
        },
        "id": "XAi3HjO353l2",
        "outputId": "97ee4b85-18a6-483e-ac3a-8346f50bf324"
      },
      "execution_count": null,
      "outputs": [
        {
          "output_type": "stream",
          "name": "stdout",
          "text": [
            "root\n",
            " |-- tweet: string (nullable = true)\n",
            " |-- label: string (nullable = true)\n",
            "\n",
            "root\n",
            " |-- tweet: string (nullable = true)\n",
            " |-- label: string (nullable = true)\n",
            "\n",
            "root\n",
            " |-- tweet: string (nullable = true)\n",
            " |-- label: string (nullable = true)\n",
            "\n",
            "2513\n",
            "298\n",
            "308\n"
          ]
        }
      ]
    },
    {
      "cell_type": "markdown",
      "source": [
        "### Data 3"
      ],
      "metadata": {
        "id": "_QJRBZUZk6y_"
      }
    },
    {
      "cell_type": "code",
      "source": [
        "udf = f.udf(lambda x: 'real' if x=='INFORMATIVE' else 'fake')"
      ],
      "metadata": {
        "id": "4MmfEfSKljYw"
      },
      "execution_count": null,
      "outputs": []
    },
    {
      "cell_type": "code",
      "source": [
        "trainDataset2 = spark.read.csv(\n",
        "    path='/content/data/WNUT-2020-Task-2-Dataset/train.tsv',\n",
        "    sep='\\t',\n",
        "    header=True,\n",
        "    schema=\" id long, tweet string, label string \"\n",
        ")\n",
        "\n",
        "valDataset2 = spark.read.csv(\n",
        "    path='/content/data/WNUT-2020-Task-2-Dataset/valid.tsv',\n",
        "    sep='\\t',\n",
        "    schema=\" id long, tweet string, label string \"\n",
        ")\n",
        "\n",
        "testDataset2 = spark.read.csv(\n",
        "    path='/content/data/WNUT-2020-Task-2-Dataset/test.tsv',\n",
        "    sep='\\t',\n",
        "    schema=\" id long, tweet string, label string \"\n",
        ")\n",
        "\n",
        "# testDataset1 = spark.read.csv(\n",
        "#     path='/content/data/WNUT-2020-Task-2-Dataset/unlabeled_test_with_noise.tsv',\n",
        "#     sep='\\t',\n",
        "#     header=True,\n",
        "#     schema=' id long, tweet string '\n",
        "# )"
      ],
      "metadata": {
        "id": "DE820T__loFG"
      },
      "execution_count": null,
      "outputs": []
    },
    {
      "cell_type": "code",
      "source": [
        "trainDataset2 = (\n",
        "    trainDataset2\n",
        "    .withColumn('label', udf(f.col('label')))\n",
        "    .select('tweet', 'label')\n",
        "    # .withColumn('id', f.row_number().over(Window.orderBy('id')))\n",
        ")\n",
        "\n",
        "valDataset2 = (\n",
        "    valDataset2\n",
        "    .withColumn('label', udf(f.col('label')))\n",
        "    .select('tweet', 'label')\n",
        "    # .union(\n",
        "    #     valDataset2\n",
        "    #     .withColumn('label', udf(f.col('label')))\n",
        "    # )\n",
        "    # .withColumn('id', f.row_number().over(Window.orderBy('id')))\n",
        "    # .orderBy(f.rand())\n",
        "    # .randomSplit([.519, .481],seed=1234)[0]\n",
        ")\n",
        "\n",
        "testDataset2 = (\n",
        "    testDataset2\n",
        "    .withColumn('label', udf(f.col('label')))\n",
        "    .select('tweet', 'label')\n",
        "    # .withColumn('id', f.row_number().over(Window.orderBy('id'))) \\\n",
        "    # .orderBy(f.rand()) \\\n",
        "    # .randomSplit([.237, .763],seed=1234)[0]\n",
        ")"
      ],
      "metadata": {
        "id": "K7U_Fu5mmAlm"
      },
      "execution_count": null,
      "outputs": []
    },
    {
      "cell_type": "code",
      "source": [
        "trainDataset2.printSchema()\n",
        "valDataset2.printSchema()\n",
        "testDataset2.printSchema()\n",
        "print(trainDataset2.count())\n",
        "print(valDataset2.count())\n",
        "print(testDataset2.count()) "
      ],
      "metadata": {
        "colab": {
          "base_uri": "https://localhost:8080/"
        },
        "id": "yHwyl5XH6bWk",
        "outputId": "444323a8-048b-485f-d3ad-62756d9c236c"
      },
      "execution_count": null,
      "outputs": [
        {
          "output_type": "stream",
          "name": "stdout",
          "text": [
            "root\n",
            " |-- tweet: string (nullable = true)\n",
            " |-- label: string (nullable = true)\n",
            "\n",
            "root\n",
            " |-- tweet: string (nullable = true)\n",
            " |-- label: string (nullable = true)\n",
            "\n",
            "root\n",
            " |-- tweet: string (nullable = true)\n",
            " |-- label: string (nullable = true)\n",
            "\n",
            "7000\n",
            "1000\n",
            "2000\n"
          ]
        }
      ]
    },
    {
      "cell_type": "markdown",
      "source": [
        "### Data 4"
      ],
      "metadata": {
        "id": "-Hhs13fCk96y"
      }
    },
    {
      "cell_type": "code",
      "source": [
        "trainDataset3 = pd.read_csv('/content/data/train.csv')\n",
        "valDataset3 = pd.read_csv('/content/data/test.csv')\n",
        "testDataset3 = pd.read_csv('/content/data/submit.csv')"
      ],
      "metadata": {
        "id": "ZlkdfgjxnXQH"
      },
      "execution_count": null,
      "outputs": []
    },
    {
      "cell_type": "code",
      "source": [
        "trainDataset3 = spark.createDataFrame(trainDataset3, schema=\" id long, title string, author string, tweet string, label long\")\n",
        "valDataset3 = spark.createDataFrame(valDataset3, schema=\" id long, title string, author string, tweet string\")\n",
        "testDataset3 = spark.createDataFrame(testDataset3, schema=\" id long, label long\")"
      ],
      "metadata": {
        "id": "EOlhsjoMnaa6"
      },
      "execution_count": null,
      "outputs": []
    },
    {
      "cell_type": "code",
      "source": [
        "udf = f.udf(lambda x: 'real' if x==1 else 'fake')"
      ],
      "metadata": {
        "id": "n8LXOcNI94P4"
      },
      "execution_count": null,
      "outputs": []
    },
    {
      "cell_type": "code",
      "source": [
        "trainDataset3 = (\n",
        "    trainDataset3\n",
        "    .select(\"tweet\", \"label\")\n",
        "    .withColumn('label', udf(f.col('label')))\n",
        ")\n",
        "valDataset3, testDataset3 = (\n",
        "    valDataset3\n",
        "    .join(testDataset3, \"id\", \"outer\")   \n",
        "    .select(\"tweet\", \"label\")\n",
        "    .withColumn('label', udf(f.col('label')))\n",
        "    .randomSplit([.5, .5],seed=1234)\n",
        ")"
      ],
      "metadata": {
        "id": "AtLI1XMJnbno"
      },
      "execution_count": null,
      "outputs": []
    },
    {
      "cell_type": "code",
      "source": [
        "trainDataset3.printSchema()\n",
        "valDataset3.printSchema()\n",
        "testDataset3.printSchema()\n",
        "print(trainDataset3.count())\n",
        "print(valDataset3.count())\n",
        "print(testDataset3.count())"
      ],
      "metadata": {
        "colab": {
          "base_uri": "https://localhost:8080/"
        },
        "id": "PEcHyE88-Egh",
        "outputId": "9f1f15db-936f-4748-cd88-ce3d31cff4cf"
      },
      "execution_count": null,
      "outputs": [
        {
          "output_type": "stream",
          "name": "stdout",
          "text": [
            "root\n",
            " |-- tweet: string (nullable = true)\n",
            " |-- label: string (nullable = true)\n",
            "\n",
            "root\n",
            " |-- tweet: string (nullable = true)\n",
            " |-- label: string (nullable = true)\n",
            "\n",
            "root\n",
            " |-- tweet: string (nullable = true)\n",
            " |-- label: string (nullable = true)\n",
            "\n",
            "20800\n",
            "2554\n",
            "2646\n"
          ]
        }
      ]
    },
    {
      "cell_type": "markdown",
      "source": [
        "### Data 5"
      ],
      "metadata": {
        "id": "zC8BBgbnk_Tg"
      }
    },
    {
      "cell_type": "code",
      "source": [
        "trainDataset4 = pd.read_csv('/content/data/Fake.csv')\n",
        "valDataset4 = pd.read_csv('/content/data/True.csv')"
      ],
      "metadata": {
        "id": "6f7Gf9yUng80",
        "colab": {
          "base_uri": "https://localhost:8080/",
          "height": 397
        },
        "outputId": "98d0aa40-0378-4706-f3c7-a42c6b13c995"
      },
      "execution_count": null,
      "outputs": [
        {
          "output_type": "error",
          "ename": "FileNotFoundError",
          "evalue": "ignored",
          "traceback": [
            "\u001b[0;31m---------------------------------------------------------------------------\u001b[0m",
            "\u001b[0;31mFileNotFoundError\u001b[0m                         Traceback (most recent call last)",
            "\u001b[0;32m<ipython-input-18-f3d0bba70e75>\u001b[0m in \u001b[0;36m<module>\u001b[0;34m()\u001b[0m\n\u001b[0;32m----> 1\u001b[0;31m \u001b[0mtrainDataset4\u001b[0m \u001b[0;34m=\u001b[0m \u001b[0mpd\u001b[0m\u001b[0;34m.\u001b[0m\u001b[0mread_csv\u001b[0m\u001b[0;34m(\u001b[0m\u001b[0;34m'/content/data/Fake.csv'\u001b[0m\u001b[0;34m)\u001b[0m\u001b[0;34m\u001b[0m\u001b[0;34m\u001b[0m\u001b[0m\n\u001b[0m\u001b[1;32m      2\u001b[0m \u001b[0mvalDataset4\u001b[0m \u001b[0;34m=\u001b[0m \u001b[0mpd\u001b[0m\u001b[0;34m.\u001b[0m\u001b[0mread_csv\u001b[0m\u001b[0;34m(\u001b[0m\u001b[0;34m'/content/data/True.csv'\u001b[0m\u001b[0;34m)\u001b[0m\u001b[0;34m\u001b[0m\u001b[0;34m\u001b[0m\u001b[0m\n",
            "\u001b[0;32m/usr/local/lib/python3.7/dist-packages/pandas/io/parsers.py\u001b[0m in \u001b[0;36mread_csv\u001b[0;34m(filepath_or_buffer, sep, delimiter, header, names, index_col, usecols, squeeze, prefix, mangle_dupe_cols, dtype, engine, converters, true_values, false_values, skipinitialspace, skiprows, skipfooter, nrows, na_values, keep_default_na, na_filter, verbose, skip_blank_lines, parse_dates, infer_datetime_format, keep_date_col, date_parser, dayfirst, cache_dates, iterator, chunksize, compression, thousands, decimal, lineterminator, quotechar, quoting, doublequote, escapechar, comment, encoding, dialect, error_bad_lines, warn_bad_lines, delim_whitespace, low_memory, memory_map, float_precision)\u001b[0m\n\u001b[1;32m    686\u001b[0m     )\n\u001b[1;32m    687\u001b[0m \u001b[0;34m\u001b[0m\u001b[0m\n\u001b[0;32m--> 688\u001b[0;31m     \u001b[0;32mreturn\u001b[0m \u001b[0m_read\u001b[0m\u001b[0;34m(\u001b[0m\u001b[0mfilepath_or_buffer\u001b[0m\u001b[0;34m,\u001b[0m \u001b[0mkwds\u001b[0m\u001b[0;34m)\u001b[0m\u001b[0;34m\u001b[0m\u001b[0;34m\u001b[0m\u001b[0m\n\u001b[0m\u001b[1;32m    689\u001b[0m \u001b[0;34m\u001b[0m\u001b[0m\n\u001b[1;32m    690\u001b[0m \u001b[0;34m\u001b[0m\u001b[0m\n",
            "\u001b[0;32m/usr/local/lib/python3.7/dist-packages/pandas/io/parsers.py\u001b[0m in \u001b[0;36m_read\u001b[0;34m(filepath_or_buffer, kwds)\u001b[0m\n\u001b[1;32m    452\u001b[0m \u001b[0;34m\u001b[0m\u001b[0m\n\u001b[1;32m    453\u001b[0m     \u001b[0;31m# Create the parser.\u001b[0m\u001b[0;34m\u001b[0m\u001b[0;34m\u001b[0m\u001b[0;34m\u001b[0m\u001b[0m\n\u001b[0;32m--> 454\u001b[0;31m     \u001b[0mparser\u001b[0m \u001b[0;34m=\u001b[0m \u001b[0mTextFileReader\u001b[0m\u001b[0;34m(\u001b[0m\u001b[0mfp_or_buf\u001b[0m\u001b[0;34m,\u001b[0m \u001b[0;34m**\u001b[0m\u001b[0mkwds\u001b[0m\u001b[0;34m)\u001b[0m\u001b[0;34m\u001b[0m\u001b[0;34m\u001b[0m\u001b[0m\n\u001b[0m\u001b[1;32m    455\u001b[0m \u001b[0;34m\u001b[0m\u001b[0m\n\u001b[1;32m    456\u001b[0m     \u001b[0;32mif\u001b[0m \u001b[0mchunksize\u001b[0m \u001b[0;32mor\u001b[0m \u001b[0miterator\u001b[0m\u001b[0;34m:\u001b[0m\u001b[0;34m\u001b[0m\u001b[0;34m\u001b[0m\u001b[0m\n",
            "\u001b[0;32m/usr/local/lib/python3.7/dist-packages/pandas/io/parsers.py\u001b[0m in \u001b[0;36m__init__\u001b[0;34m(self, f, engine, **kwds)\u001b[0m\n\u001b[1;32m    946\u001b[0m             \u001b[0mself\u001b[0m\u001b[0;34m.\u001b[0m\u001b[0moptions\u001b[0m\u001b[0;34m[\u001b[0m\u001b[0;34m\"has_index_names\"\u001b[0m\u001b[0;34m]\u001b[0m \u001b[0;34m=\u001b[0m \u001b[0mkwds\u001b[0m\u001b[0;34m[\u001b[0m\u001b[0;34m\"has_index_names\"\u001b[0m\u001b[0;34m]\u001b[0m\u001b[0;34m\u001b[0m\u001b[0;34m\u001b[0m\u001b[0m\n\u001b[1;32m    947\u001b[0m \u001b[0;34m\u001b[0m\u001b[0m\n\u001b[0;32m--> 948\u001b[0;31m         \u001b[0mself\u001b[0m\u001b[0;34m.\u001b[0m\u001b[0m_make_engine\u001b[0m\u001b[0;34m(\u001b[0m\u001b[0mself\u001b[0m\u001b[0;34m.\u001b[0m\u001b[0mengine\u001b[0m\u001b[0;34m)\u001b[0m\u001b[0;34m\u001b[0m\u001b[0;34m\u001b[0m\u001b[0m\n\u001b[0m\u001b[1;32m    949\u001b[0m \u001b[0;34m\u001b[0m\u001b[0m\n\u001b[1;32m    950\u001b[0m     \u001b[0;32mdef\u001b[0m \u001b[0mclose\u001b[0m\u001b[0;34m(\u001b[0m\u001b[0mself\u001b[0m\u001b[0;34m)\u001b[0m\u001b[0;34m:\u001b[0m\u001b[0;34m\u001b[0m\u001b[0;34m\u001b[0m\u001b[0m\n",
            "\u001b[0;32m/usr/local/lib/python3.7/dist-packages/pandas/io/parsers.py\u001b[0m in \u001b[0;36m_make_engine\u001b[0;34m(self, engine)\u001b[0m\n\u001b[1;32m   1178\u001b[0m     \u001b[0;32mdef\u001b[0m \u001b[0m_make_engine\u001b[0m\u001b[0;34m(\u001b[0m\u001b[0mself\u001b[0m\u001b[0;34m,\u001b[0m \u001b[0mengine\u001b[0m\u001b[0;34m=\u001b[0m\u001b[0;34m\"c\"\u001b[0m\u001b[0;34m)\u001b[0m\u001b[0;34m:\u001b[0m\u001b[0;34m\u001b[0m\u001b[0;34m\u001b[0m\u001b[0m\n\u001b[1;32m   1179\u001b[0m         \u001b[0;32mif\u001b[0m \u001b[0mengine\u001b[0m \u001b[0;34m==\u001b[0m \u001b[0;34m\"c\"\u001b[0m\u001b[0;34m:\u001b[0m\u001b[0;34m\u001b[0m\u001b[0;34m\u001b[0m\u001b[0m\n\u001b[0;32m-> 1180\u001b[0;31m             \u001b[0mself\u001b[0m\u001b[0;34m.\u001b[0m\u001b[0m_engine\u001b[0m \u001b[0;34m=\u001b[0m \u001b[0mCParserWrapper\u001b[0m\u001b[0;34m(\u001b[0m\u001b[0mself\u001b[0m\u001b[0;34m.\u001b[0m\u001b[0mf\u001b[0m\u001b[0;34m,\u001b[0m \u001b[0;34m**\u001b[0m\u001b[0mself\u001b[0m\u001b[0;34m.\u001b[0m\u001b[0moptions\u001b[0m\u001b[0;34m)\u001b[0m\u001b[0;34m\u001b[0m\u001b[0;34m\u001b[0m\u001b[0m\n\u001b[0m\u001b[1;32m   1181\u001b[0m         \u001b[0;32melse\u001b[0m\u001b[0;34m:\u001b[0m\u001b[0;34m\u001b[0m\u001b[0;34m\u001b[0m\u001b[0m\n\u001b[1;32m   1182\u001b[0m             \u001b[0;32mif\u001b[0m \u001b[0mengine\u001b[0m \u001b[0;34m==\u001b[0m \u001b[0;34m\"python\"\u001b[0m\u001b[0;34m:\u001b[0m\u001b[0;34m\u001b[0m\u001b[0;34m\u001b[0m\u001b[0m\n",
            "\u001b[0;32m/usr/local/lib/python3.7/dist-packages/pandas/io/parsers.py\u001b[0m in \u001b[0;36m__init__\u001b[0;34m(self, src, **kwds)\u001b[0m\n\u001b[1;32m   2008\u001b[0m         \u001b[0mkwds\u001b[0m\u001b[0;34m[\u001b[0m\u001b[0;34m\"usecols\"\u001b[0m\u001b[0;34m]\u001b[0m \u001b[0;34m=\u001b[0m \u001b[0mself\u001b[0m\u001b[0;34m.\u001b[0m\u001b[0musecols\u001b[0m\u001b[0;34m\u001b[0m\u001b[0;34m\u001b[0m\u001b[0m\n\u001b[1;32m   2009\u001b[0m \u001b[0;34m\u001b[0m\u001b[0m\n\u001b[0;32m-> 2010\u001b[0;31m         \u001b[0mself\u001b[0m\u001b[0;34m.\u001b[0m\u001b[0m_reader\u001b[0m \u001b[0;34m=\u001b[0m \u001b[0mparsers\u001b[0m\u001b[0;34m.\u001b[0m\u001b[0mTextReader\u001b[0m\u001b[0;34m(\u001b[0m\u001b[0msrc\u001b[0m\u001b[0;34m,\u001b[0m \u001b[0;34m**\u001b[0m\u001b[0mkwds\u001b[0m\u001b[0;34m)\u001b[0m\u001b[0;34m\u001b[0m\u001b[0;34m\u001b[0m\u001b[0m\n\u001b[0m\u001b[1;32m   2011\u001b[0m         \u001b[0mself\u001b[0m\u001b[0;34m.\u001b[0m\u001b[0munnamed_cols\u001b[0m \u001b[0;34m=\u001b[0m \u001b[0mself\u001b[0m\u001b[0;34m.\u001b[0m\u001b[0m_reader\u001b[0m\u001b[0;34m.\u001b[0m\u001b[0munnamed_cols\u001b[0m\u001b[0;34m\u001b[0m\u001b[0;34m\u001b[0m\u001b[0m\n\u001b[1;32m   2012\u001b[0m \u001b[0;34m\u001b[0m\u001b[0m\n",
            "\u001b[0;32mpandas/_libs/parsers.pyx\u001b[0m in \u001b[0;36mpandas._libs.parsers.TextReader.__cinit__\u001b[0;34m()\u001b[0m\n",
            "\u001b[0;32mpandas/_libs/parsers.pyx\u001b[0m in \u001b[0;36mpandas._libs.parsers.TextReader._setup_parser_source\u001b[0;34m()\u001b[0m\n",
            "\u001b[0;31mFileNotFoundError\u001b[0m: [Errno 2] No such file or directory: '/content/data/Fake.csv'"
          ]
        }
      ]
    },
    {
      "cell_type": "code",
      "source": [
        "trainDataset4 = spark.createDataFrame(trainDataset4, schema=\"title string, tweet string, subject string, date string\")\n",
        "valDataset4 = spark.createDataFrame(valDataset4, schema=\"title string, tweet string, subject string, date string\")"
      ],
      "metadata": {
        "id": "Ic-ixZOfniP2"
      },
      "execution_count": null,
      "outputs": []
    },
    {
      "cell_type": "code",
      "source": [
        "trainDataset4, valDataset4, testDataset4 = (\n",
        "    trainDataset4\n",
        "    .withColumn(\"label\", f.lit(\"fake\")).\n",
        "    union(\n",
        "        valDataset4\n",
        "        .withColumn(\"label\", f.lit(\"real\"))\n",
        "    )\n",
        "    .orderBy(f.rand())\n",
        "    .select([\"tweet\", \"label\"])\n",
        "    .randomSplit([.8, .1, .1],seed=1234)\n",
        ")"
      ],
      "metadata": {
        "id": "blmQwC1pnkzw"
      },
      "execution_count": null,
      "outputs": []
    },
    {
      "cell_type": "code",
      "source": [
        "trainDataset4.printSchema()\n",
        "valDataset4.printSchema()\n",
        "testDataset4.printSchema()\n",
        "print(trainDataset4.count())\n",
        "print(valDataset4.count())\n",
        "print(testDataset4.count())"
      ],
      "metadata": {
        "id": "qQ5lCJsqAgLg"
      },
      "execution_count": null,
      "outputs": []
    },
    {
      "cell_type": "markdown",
      "source": [
        "### Data 6"
      ],
      "metadata": {
        "id": "PioM3Fi_lDwR"
      }
    },
    {
      "cell_type": "code",
      "source": [
        "trainDataset5 = pd.read_csv(\"/content/data/fake_or_real_news.csv\")"
      ],
      "metadata": {
        "id": "oGKSYcDCnpoq"
      },
      "execution_count": null,
      "outputs": []
    },
    {
      "cell_type": "code",
      "source": [
        "trainDataset5 = spark.createDataFrame(trainDataset5, schema=\"id long, title string, tweet string, label string\").select([\"tweet\", \"label\"])"
      ],
      "metadata": {
        "id": "dGsJCyDonsEs"
      },
      "execution_count": null,
      "outputs": []
    },
    {
      "cell_type": "code",
      "source": [
        "udf = f.udf(lambda x: 'fake' if x==\"FAKE\" else 'real')"
      ],
      "metadata": {
        "id": "BBACSzF2AuEJ"
      },
      "execution_count": null,
      "outputs": []
    },
    {
      "cell_type": "code",
      "source": [
        "trainDataset5, valDataset5, testDataset5 = (\n",
        "    trainDataset5\n",
        "    .withColumn('label', udf(f.col('label')))\n",
        "    .randomSplit([.8, .1, .1],seed=1234)\n",
        ")"
      ],
      "metadata": {
        "id": "AyBo7r-0ntFV"
      },
      "execution_count": null,
      "outputs": []
    },
    {
      "cell_type": "code",
      "source": [
        "trainDataset5.printSchema()\n",
        "valDataset5.printSchema()\n",
        "testDataset5.printSchema()\n",
        "print(trainDataset5.count())\n",
        "print(valDataset5.count())\n",
        "print(testDataset5.count())"
      ],
      "metadata": {
        "id": "5eE1ygQVERFM"
      },
      "execution_count": null,
      "outputs": []
    },
    {
      "cell_type": "markdown",
      "source": [
        "### Merge Data"
      ],
      "metadata": {
        "id": "aga_Yt56lGQg"
      }
    },
    {
      "cell_type": "code",
      "source": [
        "trainDataset = (\n",
        "    trainDataset\n",
        "    .union(trainDataset1)\n",
        "    .union(trainDataset2)\n",
        "    # .union(trainDataset3)\n",
        "    # .union(trainDataset4)\n",
        "    # .union(trainDataset5)\n",
        ")\n",
        "\n",
        "valDataset = (\n",
        "    valDataset\n",
        "    .union(valDataset1)\n",
        "    .union(valDataset2)\n",
        "    # .union(valDataset3)\n",
        "    # .union(valDataset4)\n",
        "    # .union(valDataset5)\n",
        ")\n",
        "\n",
        "testDataset = (\n",
        "    testDataset\n",
        "    .union(testDataset1)\n",
        "    .union(testDataset2)\n",
        "    # .union(testDataset3)\n",
        "    # .union(testDataset4)\n",
        "    # .union(testDataset5)\n",
        ")"
      ],
      "metadata": {
        "id": "3f-qneoAEmGu"
      },
      "execution_count": null,
      "outputs": []
    },
    {
      "cell_type": "markdown",
      "source": [
        "### Check Data"
      ],
      "metadata": {
        "id": "_HLxzZCnDx80"
      }
    },
    {
      "cell_type": "code",
      "source": [
        "trainDataset.printSchema()\n",
        "valDataset.printSchema()\n",
        "testDataset.printSchema()\n",
        "print(trainDataset.count())\n",
        "print(valDataset.count())\n",
        "print(testDataset.count())"
      ],
      "metadata": {
        "colab": {
          "base_uri": "https://localhost:8080/"
        },
        "id": "oU7Tr2NslEgx",
        "outputId": "62c41b57-eb94-4cd4-8a52-e91f221d7d75"
      },
      "execution_count": null,
      "outputs": [
        {
          "output_type": "stream",
          "name": "stdout",
          "text": [
            "root\n",
            " |-- tweet: string (nullable = true)\n",
            " |-- label: string (nullable = true)\n",
            "\n",
            "root\n",
            " |-- tweet: string (nullable = true)\n",
            " |-- label: string (nullable = true)\n",
            "\n",
            "root\n",
            " |-- tweet: string (nullable = true)\n",
            " |-- label: string (nullable = true)\n",
            "\n",
            "15933\n",
            "3438\n",
            "4448\n"
          ]
        }
      ]
    },
    {
      "cell_type": "code",
      "source": [
        "udf = f.udf(lambda x: len(x.split()), IntegerType())\n",
        "(\n",
        "    trainDataset\n",
        "    .withColumn('length of char', f.length('tweet'))\n",
        "    .withColumn('length of word', udf(f.col('tweet')))\n",
        "    .orderBy(f.col('length of char').desc(), f.col('length of word').desc())\n",
        "    .toPandas()\n",
        "    .head(5)\n",
        ")"
      ],
      "metadata": {
        "colab": {
          "base_uri": "https://localhost:8080/"
        },
        "id": "q_fF2fX4gaRi",
        "outputId": "e28f4932-7449-484b-9f8d-02113d2dbc4a"
      },
      "execution_count": null,
      "outputs": [
        {
          "output_type": "execute_result",
          "data": {
            "text/html": [
              "\n",
              "  <div id=\"df-6ce3589a-41be-4583-b078-d6d2469cdc3d\">\n",
              "    <div class=\"colab-df-container\">\n",
              "      <div>\n",
              "<style scoped>\n",
              "    .dataframe tbody tr th:only-of-type {\n",
              "        vertical-align: middle;\n",
              "    }\n",
              "\n",
              "    .dataframe tbody tr th {\n",
              "        vertical-align: top;\n",
              "    }\n",
              "\n",
              "    .dataframe thead th {\n",
              "        text-align: right;\n",
              "    }\n",
              "</style>\n",
              "<table border=\"1\" class=\"dataframe\">\n",
              "  <thead>\n",
              "    <tr style=\"text-align: right;\">\n",
              "      <th></th>\n",
              "      <th>tweet</th>\n",
              "      <th>label</th>\n",
              "      <th>length of char</th>\n",
              "      <th>length of word</th>\n",
              "    </tr>\n",
              "  </thead>\n",
              "  <tbody>\n",
              "    <tr>\n",
              "      <th>0</th>\n",
              "      <td>This report discusses selected actions taken b...</td>\n",
              "      <td>real</td>\n",
              "      <td>32767</td>\n",
              "      <td>4874</td>\n",
              "    </tr>\n",
              "    <tr>\n",
              "      <th>1</th>\n",
              "      <td>I have been watching the continuing hysteria t...</td>\n",
              "      <td>fake</td>\n",
              "      <td>32564</td>\n",
              "      <td>5101</td>\n",
              "    </tr>\n",
              "    <tr>\n",
              "      <th>2</th>\n",
              "      <td>The temperature topped 100 degrees F (38 degre...</td>\n",
              "      <td>fake</td>\n",
              "      <td>32165</td>\n",
              "      <td>5469</td>\n",
              "    </tr>\n",
              "    <tr>\n",
              "      <th>3</th>\n",
              "      <td>Story by Celia Farber with research contributi...</td>\n",
              "      <td>fake</td>\n",
              "      <td>26296</td>\n",
              "      <td>4389</td>\n",
              "    </tr>\n",
              "    <tr>\n",
              "      <th>4</th>\n",
              "      <td>Just yesterday we predicted that it is only a ...</td>\n",
              "      <td>real</td>\n",
              "      <td>24665</td>\n",
              "      <td>4082</td>\n",
              "    </tr>\n",
              "  </tbody>\n",
              "</table>\n",
              "</div>\n",
              "      <button class=\"colab-df-convert\" onclick=\"convertToInteractive('df-6ce3589a-41be-4583-b078-d6d2469cdc3d')\"\n",
              "              title=\"Convert this dataframe to an interactive table.\"\n",
              "              style=\"display:none;\">\n",
              "        \n",
              "  <svg xmlns=\"http://www.w3.org/2000/svg\" height=\"24px\"viewBox=\"0 0 24 24\"\n",
              "       width=\"24px\">\n",
              "    <path d=\"M0 0h24v24H0V0z\" fill=\"none\"/>\n",
              "    <path d=\"M18.56 5.44l.94 2.06.94-2.06 2.06-.94-2.06-.94-.94-2.06-.94 2.06-2.06.94zm-11 1L8.5 8.5l.94-2.06 2.06-.94-2.06-.94L8.5 2.5l-.94 2.06-2.06.94zm10 10l.94 2.06.94-2.06 2.06-.94-2.06-.94-.94-2.06-.94 2.06-2.06.94z\"/><path d=\"M17.41 7.96l-1.37-1.37c-.4-.4-.92-.59-1.43-.59-.52 0-1.04.2-1.43.59L10.3 9.45l-7.72 7.72c-.78.78-.78 2.05 0 2.83L4 21.41c.39.39.9.59 1.41.59.51 0 1.02-.2 1.41-.59l7.78-7.78 2.81-2.81c.8-.78.8-2.07 0-2.86zM5.41 20L4 18.59l7.72-7.72 1.47 1.35L5.41 20z\"/>\n",
              "  </svg>\n",
              "      </button>\n",
              "      \n",
              "  <style>\n",
              "    .colab-df-container {\n",
              "      display:flex;\n",
              "      flex-wrap:wrap;\n",
              "      gap: 12px;\n",
              "    }\n",
              "\n",
              "    .colab-df-convert {\n",
              "      background-color: #E8F0FE;\n",
              "      border: none;\n",
              "      border-radius: 50%;\n",
              "      cursor: pointer;\n",
              "      display: none;\n",
              "      fill: #1967D2;\n",
              "      height: 32px;\n",
              "      padding: 0 0 0 0;\n",
              "      width: 32px;\n",
              "    }\n",
              "\n",
              "    .colab-df-convert:hover {\n",
              "      background-color: #E2EBFA;\n",
              "      box-shadow: 0px 1px 2px rgba(60, 64, 67, 0.3), 0px 1px 3px 1px rgba(60, 64, 67, 0.15);\n",
              "      fill: #174EA6;\n",
              "    }\n",
              "\n",
              "    [theme=dark] .colab-df-convert {\n",
              "      background-color: #3B4455;\n",
              "      fill: #D2E3FC;\n",
              "    }\n",
              "\n",
              "    [theme=dark] .colab-df-convert:hover {\n",
              "      background-color: #434B5C;\n",
              "      box-shadow: 0px 1px 3px 1px rgba(0, 0, 0, 0.15);\n",
              "      filter: drop-shadow(0px 1px 2px rgba(0, 0, 0, 0.3));\n",
              "      fill: #FFFFFF;\n",
              "    }\n",
              "  </style>\n",
              "\n",
              "      <script>\n",
              "        const buttonEl =\n",
              "          document.querySelector('#df-6ce3589a-41be-4583-b078-d6d2469cdc3d button.colab-df-convert');\n",
              "        buttonEl.style.display =\n",
              "          google.colab.kernel.accessAllowed ? 'block' : 'none';\n",
              "\n",
              "        async function convertToInteractive(key) {\n",
              "          const element = document.querySelector('#df-6ce3589a-41be-4583-b078-d6d2469cdc3d');\n",
              "          const dataTable =\n",
              "            await google.colab.kernel.invokeFunction('convertToInteractive',\n",
              "                                                     [key], {});\n",
              "          if (!dataTable) return;\n",
              "\n",
              "          const docLinkHtml = 'Like what you see? Visit the ' +\n",
              "            '<a target=\"_blank\" href=https://colab.research.google.com/notebooks/data_table.ipynb>data table notebook</a>'\n",
              "            + ' to learn more about interactive tables.';\n",
              "          element.innerHTML = '';\n",
              "          dataTable['output_type'] = 'display_data';\n",
              "          await google.colab.output.renderOutput(dataTable, element);\n",
              "          const docLink = document.createElement('div');\n",
              "          docLink.innerHTML = docLinkHtml;\n",
              "          element.appendChild(docLink);\n",
              "        }\n",
              "      </script>\n",
              "    </div>\n",
              "  </div>\n",
              "  "
            ],
            "text/plain": [
              "                                               tweet  ... length of word\n",
              "0  This report discusses selected actions taken b...  ...           4874\n",
              "1  I have been watching the continuing hysteria t...  ...           5101\n",
              "2  The temperature topped 100 degrees F (38 degre...  ...           5469\n",
              "3  Story by Celia Farber with research contributi...  ...           4389\n",
              "4  Just yesterday we predicted that it is only a ...  ...           4082\n",
              "\n",
              "[5 rows x 4 columns]"
            ]
          },
          "metadata": {},
          "execution_count": 25
        }
      ]
    },
    {
      "cell_type": "code",
      "source": [
        "(\n",
        "    trainDataset\n",
        "    .withColumn('length of word', udf(f.col('tweet')))\n",
        "    .withColumn('length of char', f.length('tweet'))\n",
        "    .orderBy(f.col('length of word').desc(), f.col('length of char').desc())\n",
        "    .toPandas()\n",
        "    .head(5)\n",
        ")"
      ],
      "metadata": {
        "colab": {
          "base_uri": "https://localhost:8080/"
        },
        "id": "ZBRMAbJRsHpa",
        "outputId": "68bc5c0e-ad45-4089-e86b-88f336abe3e5"
      },
      "execution_count": null,
      "outputs": [
        {
          "output_type": "execute_result",
          "data": {
            "text/html": [
              "\n",
              "  <div id=\"df-4462098b-2805-4754-8158-d83b49f0b99f\">\n",
              "    <div class=\"colab-df-container\">\n",
              "      <div>\n",
              "<style scoped>\n",
              "    .dataframe tbody tr th:only-of-type {\n",
              "        vertical-align: middle;\n",
              "    }\n",
              "\n",
              "    .dataframe tbody tr th {\n",
              "        vertical-align: top;\n",
              "    }\n",
              "\n",
              "    .dataframe thead th {\n",
              "        text-align: right;\n",
              "    }\n",
              "</style>\n",
              "<table border=\"1\" class=\"dataframe\">\n",
              "  <thead>\n",
              "    <tr style=\"text-align: right;\">\n",
              "      <th></th>\n",
              "      <th>tweet</th>\n",
              "      <th>label</th>\n",
              "      <th>length of word</th>\n",
              "      <th>length of char</th>\n",
              "    </tr>\n",
              "  </thead>\n",
              "  <tbody>\n",
              "    <tr>\n",
              "      <th>0</th>\n",
              "      <td>The temperature topped 100 degrees F (38 degre...</td>\n",
              "      <td>fake</td>\n",
              "      <td>5469</td>\n",
              "      <td>32165</td>\n",
              "    </tr>\n",
              "    <tr>\n",
              "      <th>1</th>\n",
              "      <td>I have been watching the continuing hysteria t...</td>\n",
              "      <td>fake</td>\n",
              "      <td>5101</td>\n",
              "      <td>32564</td>\n",
              "    </tr>\n",
              "    <tr>\n",
              "      <th>2</th>\n",
              "      <td>This report discusses selected actions taken b...</td>\n",
              "      <td>real</td>\n",
              "      <td>4874</td>\n",
              "      <td>32767</td>\n",
              "    </tr>\n",
              "    <tr>\n",
              "      <th>3</th>\n",
              "      <td>Story by Celia Farber with research contributi...</td>\n",
              "      <td>fake</td>\n",
              "      <td>4389</td>\n",
              "      <td>26296</td>\n",
              "    </tr>\n",
              "    <tr>\n",
              "      <th>4</th>\n",
              "      <td>Just yesterday we predicted that it is only a ...</td>\n",
              "      <td>real</td>\n",
              "      <td>4082</td>\n",
              "      <td>24665</td>\n",
              "    </tr>\n",
              "  </tbody>\n",
              "</table>\n",
              "</div>\n",
              "      <button class=\"colab-df-convert\" onclick=\"convertToInteractive('df-4462098b-2805-4754-8158-d83b49f0b99f')\"\n",
              "              title=\"Convert this dataframe to an interactive table.\"\n",
              "              style=\"display:none;\">\n",
              "        \n",
              "  <svg xmlns=\"http://www.w3.org/2000/svg\" height=\"24px\"viewBox=\"0 0 24 24\"\n",
              "       width=\"24px\">\n",
              "    <path d=\"M0 0h24v24H0V0z\" fill=\"none\"/>\n",
              "    <path d=\"M18.56 5.44l.94 2.06.94-2.06 2.06-.94-2.06-.94-.94-2.06-.94 2.06-2.06.94zm-11 1L8.5 8.5l.94-2.06 2.06-.94-2.06-.94L8.5 2.5l-.94 2.06-2.06.94zm10 10l.94 2.06.94-2.06 2.06-.94-2.06-.94-.94-2.06-.94 2.06-2.06.94z\"/><path d=\"M17.41 7.96l-1.37-1.37c-.4-.4-.92-.59-1.43-.59-.52 0-1.04.2-1.43.59L10.3 9.45l-7.72 7.72c-.78.78-.78 2.05 0 2.83L4 21.41c.39.39.9.59 1.41.59.51 0 1.02-.2 1.41-.59l7.78-7.78 2.81-2.81c.8-.78.8-2.07 0-2.86zM5.41 20L4 18.59l7.72-7.72 1.47 1.35L5.41 20z\"/>\n",
              "  </svg>\n",
              "      </button>\n",
              "      \n",
              "  <style>\n",
              "    .colab-df-container {\n",
              "      display:flex;\n",
              "      flex-wrap:wrap;\n",
              "      gap: 12px;\n",
              "    }\n",
              "\n",
              "    .colab-df-convert {\n",
              "      background-color: #E8F0FE;\n",
              "      border: none;\n",
              "      border-radius: 50%;\n",
              "      cursor: pointer;\n",
              "      display: none;\n",
              "      fill: #1967D2;\n",
              "      height: 32px;\n",
              "      padding: 0 0 0 0;\n",
              "      width: 32px;\n",
              "    }\n",
              "\n",
              "    .colab-df-convert:hover {\n",
              "      background-color: #E2EBFA;\n",
              "      box-shadow: 0px 1px 2px rgba(60, 64, 67, 0.3), 0px 1px 3px 1px rgba(60, 64, 67, 0.15);\n",
              "      fill: #174EA6;\n",
              "    }\n",
              "\n",
              "    [theme=dark] .colab-df-convert {\n",
              "      background-color: #3B4455;\n",
              "      fill: #D2E3FC;\n",
              "    }\n",
              "\n",
              "    [theme=dark] .colab-df-convert:hover {\n",
              "      background-color: #434B5C;\n",
              "      box-shadow: 0px 1px 3px 1px rgba(0, 0, 0, 0.15);\n",
              "      filter: drop-shadow(0px 1px 2px rgba(0, 0, 0, 0.3));\n",
              "      fill: #FFFFFF;\n",
              "    }\n",
              "  </style>\n",
              "\n",
              "      <script>\n",
              "        const buttonEl =\n",
              "          document.querySelector('#df-4462098b-2805-4754-8158-d83b49f0b99f button.colab-df-convert');\n",
              "        buttonEl.style.display =\n",
              "          google.colab.kernel.accessAllowed ? 'block' : 'none';\n",
              "\n",
              "        async function convertToInteractive(key) {\n",
              "          const element = document.querySelector('#df-4462098b-2805-4754-8158-d83b49f0b99f');\n",
              "          const dataTable =\n",
              "            await google.colab.kernel.invokeFunction('convertToInteractive',\n",
              "                                                     [key], {});\n",
              "          if (!dataTable) return;\n",
              "\n",
              "          const docLinkHtml = 'Like what you see? Visit the ' +\n",
              "            '<a target=\"_blank\" href=https://colab.research.google.com/notebooks/data_table.ipynb>data table notebook</a>'\n",
              "            + ' to learn more about interactive tables.';\n",
              "          element.innerHTML = '';\n",
              "          dataTable['output_type'] = 'display_data';\n",
              "          await google.colab.output.renderOutput(dataTable, element);\n",
              "          const docLink = document.createElement('div');\n",
              "          docLink.innerHTML = docLinkHtml;\n",
              "          element.appendChild(docLink);\n",
              "        }\n",
              "      </script>\n",
              "    </div>\n",
              "  </div>\n",
              "  "
            ],
            "text/plain": [
              "                                               tweet  ... length of char\n",
              "0  The temperature topped 100 degrees F (38 degre...  ...          32165\n",
              "1  I have been watching the continuing hysteria t...  ...          32564\n",
              "2  This report discusses selected actions taken b...  ...          32767\n",
              "3  Story by Celia Farber with research contributi...  ...          26296\n",
              "4  Just yesterday we predicted that it is only a ...  ...          24665\n",
              "\n",
              "[5 rows x 4 columns]"
            ]
          },
          "metadata": {},
          "execution_count": 26
        }
      ]
    },
    {
      "cell_type": "code",
      "source": [
        "(\n",
        "    valDataset\n",
        "    .withColumn('length of char', f.length('tweet'))\n",
        "    .withColumn('length of word', udf(f.col('tweet')))\n",
        "    .orderBy(f.col('length of char').desc(), f.col('length of word').desc())\n",
        "    .toPandas()\n",
        "    .head(5)\n",
        ")"
      ],
      "metadata": {
        "colab": {
          "base_uri": "https://localhost:8080/"
        },
        "id": "vwdaQCfGsMBb",
        "outputId": "88249733-ece4-4582-be56-e03e16949333"
      },
      "execution_count": null,
      "outputs": [
        {
          "output_type": "execute_result",
          "data": {
            "text/html": [
              "\n",
              "  <div id=\"df-a740902c-06cd-437f-9c66-548d2b973f76\">\n",
              "    <div class=\"colab-df-container\">\n",
              "      <div>\n",
              "<style scoped>\n",
              "    .dataframe tbody tr th:only-of-type {\n",
              "        vertical-align: middle;\n",
              "    }\n",
              "\n",
              "    .dataframe tbody tr th {\n",
              "        vertical-align: top;\n",
              "    }\n",
              "\n",
              "    .dataframe thead th {\n",
              "        text-align: right;\n",
              "    }\n",
              "</style>\n",
              "<table border=\"1\" class=\"dataframe\">\n",
              "  <thead>\n",
              "    <tr style=\"text-align: right;\">\n",
              "      <th></th>\n",
              "      <th>tweet</th>\n",
              "      <th>label</th>\n",
              "      <th>length of char</th>\n",
              "      <th>length of word</th>\n",
              "    </tr>\n",
              "  </thead>\n",
              "  <tbody>\n",
              "    <tr>\n",
              "      <th>0</th>\n",
              "      <td>Coronavirus 2019-nCoV, able to enter and infec...</td>\n",
              "      <td>fake</td>\n",
              "      <td>32725</td>\n",
              "      <td>4970</td>\n",
              "    </tr>\n",
              "    <tr>\n",
              "      <th>1</th>\n",
              "      <td>LatinFinance is making some of its most import...</td>\n",
              "      <td>fake</td>\n",
              "      <td>28794</td>\n",
              "      <td>4655</td>\n",
              "    </tr>\n",
              "    <tr>\n",
              "      <th>2</th>\n",
              "      <td>And sure enough, less than 24 hours later, in ...</td>\n",
              "      <td>fake</td>\n",
              "      <td>24455</td>\n",
              "      <td>4045</td>\n",
              "    </tr>\n",
              "    <tr>\n",
              "      <th>3</th>\n",
              "      <td>First Covid-19 hotspot in Delhi declared non-c...</td>\n",
              "      <td>fake</td>\n",
              "      <td>20353</td>\n",
              "      <td>3352</td>\n",
              "    </tr>\n",
              "    <tr>\n",
              "      <th>4</th>\n",
              "      <td>CMAAO Update 8 th February on Corona 2019 nCoV...</td>\n",
              "      <td>real</td>\n",
              "      <td>17842</td>\n",
              "      <td>2865</td>\n",
              "    </tr>\n",
              "  </tbody>\n",
              "</table>\n",
              "</div>\n",
              "      <button class=\"colab-df-convert\" onclick=\"convertToInteractive('df-a740902c-06cd-437f-9c66-548d2b973f76')\"\n",
              "              title=\"Convert this dataframe to an interactive table.\"\n",
              "              style=\"display:none;\">\n",
              "        \n",
              "  <svg xmlns=\"http://www.w3.org/2000/svg\" height=\"24px\"viewBox=\"0 0 24 24\"\n",
              "       width=\"24px\">\n",
              "    <path d=\"M0 0h24v24H0V0z\" fill=\"none\"/>\n",
              "    <path d=\"M18.56 5.44l.94 2.06.94-2.06 2.06-.94-2.06-.94-.94-2.06-.94 2.06-2.06.94zm-11 1L8.5 8.5l.94-2.06 2.06-.94-2.06-.94L8.5 2.5l-.94 2.06-2.06.94zm10 10l.94 2.06.94-2.06 2.06-.94-2.06-.94-.94-2.06-.94 2.06-2.06.94z\"/><path d=\"M17.41 7.96l-1.37-1.37c-.4-.4-.92-.59-1.43-.59-.52 0-1.04.2-1.43.59L10.3 9.45l-7.72 7.72c-.78.78-.78 2.05 0 2.83L4 21.41c.39.39.9.59 1.41.59.51 0 1.02-.2 1.41-.59l7.78-7.78 2.81-2.81c.8-.78.8-2.07 0-2.86zM5.41 20L4 18.59l7.72-7.72 1.47 1.35L5.41 20z\"/>\n",
              "  </svg>\n",
              "      </button>\n",
              "      \n",
              "  <style>\n",
              "    .colab-df-container {\n",
              "      display:flex;\n",
              "      flex-wrap:wrap;\n",
              "      gap: 12px;\n",
              "    }\n",
              "\n",
              "    .colab-df-convert {\n",
              "      background-color: #E8F0FE;\n",
              "      border: none;\n",
              "      border-radius: 50%;\n",
              "      cursor: pointer;\n",
              "      display: none;\n",
              "      fill: #1967D2;\n",
              "      height: 32px;\n",
              "      padding: 0 0 0 0;\n",
              "      width: 32px;\n",
              "    }\n",
              "\n",
              "    .colab-df-convert:hover {\n",
              "      background-color: #E2EBFA;\n",
              "      box-shadow: 0px 1px 2px rgba(60, 64, 67, 0.3), 0px 1px 3px 1px rgba(60, 64, 67, 0.15);\n",
              "      fill: #174EA6;\n",
              "    }\n",
              "\n",
              "    [theme=dark] .colab-df-convert {\n",
              "      background-color: #3B4455;\n",
              "      fill: #D2E3FC;\n",
              "    }\n",
              "\n",
              "    [theme=dark] .colab-df-convert:hover {\n",
              "      background-color: #434B5C;\n",
              "      box-shadow: 0px 1px 3px 1px rgba(0, 0, 0, 0.15);\n",
              "      filter: drop-shadow(0px 1px 2px rgba(0, 0, 0, 0.3));\n",
              "      fill: #FFFFFF;\n",
              "    }\n",
              "  </style>\n",
              "\n",
              "      <script>\n",
              "        const buttonEl =\n",
              "          document.querySelector('#df-a740902c-06cd-437f-9c66-548d2b973f76 button.colab-df-convert');\n",
              "        buttonEl.style.display =\n",
              "          google.colab.kernel.accessAllowed ? 'block' : 'none';\n",
              "\n",
              "        async function convertToInteractive(key) {\n",
              "          const element = document.querySelector('#df-a740902c-06cd-437f-9c66-548d2b973f76');\n",
              "          const dataTable =\n",
              "            await google.colab.kernel.invokeFunction('convertToInteractive',\n",
              "                                                     [key], {});\n",
              "          if (!dataTable) return;\n",
              "\n",
              "          const docLinkHtml = 'Like what you see? Visit the ' +\n",
              "            '<a target=\"_blank\" href=https://colab.research.google.com/notebooks/data_table.ipynb>data table notebook</a>'\n",
              "            + ' to learn more about interactive tables.';\n",
              "          element.innerHTML = '';\n",
              "          dataTable['output_type'] = 'display_data';\n",
              "          await google.colab.output.renderOutput(dataTable, element);\n",
              "          const docLink = document.createElement('div');\n",
              "          docLink.innerHTML = docLinkHtml;\n",
              "          element.appendChild(docLink);\n",
              "        }\n",
              "      </script>\n",
              "    </div>\n",
              "  </div>\n",
              "  "
            ],
            "text/plain": [
              "                                               tweet  ... length of word\n",
              "0  Coronavirus 2019-nCoV, able to enter and infec...  ...           4970\n",
              "1  LatinFinance is making some of its most import...  ...           4655\n",
              "2  And sure enough, less than 24 hours later, in ...  ...           4045\n",
              "3  First Covid-19 hotspot in Delhi declared non-c...  ...           3352\n",
              "4  CMAAO Update 8 th February on Corona 2019 nCoV...  ...           2865\n",
              "\n",
              "[5 rows x 4 columns]"
            ]
          },
          "metadata": {},
          "execution_count": 27
        }
      ]
    },
    {
      "cell_type": "code",
      "source": [
        "(\n",
        "    valDataset\n",
        "    .withColumn('length of char', f.length('tweet'))\n",
        "    .withColumn('length of word', udf(f.col('tweet')))\n",
        "    .orderBy(f.col('length of word').desc(), f.col('length of char').desc())\n",
        "    .toPandas()\n",
        "    .head(5)\n",
        ")"
      ],
      "metadata": {
        "colab": {
          "base_uri": "https://localhost:8080/"
        },
        "id": "HVcL-pDlsOX-",
        "outputId": "b447f648-e4cd-4c90-b4e9-36e5956e705c"
      },
      "execution_count": null,
      "outputs": [
        {
          "output_type": "execute_result",
          "data": {
            "text/html": [
              "\n",
              "  <div id=\"df-c60d6378-032d-47fe-bcf5-5982a44dd25e\">\n",
              "    <div class=\"colab-df-container\">\n",
              "      <div>\n",
              "<style scoped>\n",
              "    .dataframe tbody tr th:only-of-type {\n",
              "        vertical-align: middle;\n",
              "    }\n",
              "\n",
              "    .dataframe tbody tr th {\n",
              "        vertical-align: top;\n",
              "    }\n",
              "\n",
              "    .dataframe thead th {\n",
              "        text-align: right;\n",
              "    }\n",
              "</style>\n",
              "<table border=\"1\" class=\"dataframe\">\n",
              "  <thead>\n",
              "    <tr style=\"text-align: right;\">\n",
              "      <th></th>\n",
              "      <th>tweet</th>\n",
              "      <th>label</th>\n",
              "      <th>length of char</th>\n",
              "      <th>length of word</th>\n",
              "    </tr>\n",
              "  </thead>\n",
              "  <tbody>\n",
              "    <tr>\n",
              "      <th>0</th>\n",
              "      <td>Coronavirus 2019-nCoV, able to enter and infec...</td>\n",
              "      <td>fake</td>\n",
              "      <td>32725</td>\n",
              "      <td>4970</td>\n",
              "    </tr>\n",
              "    <tr>\n",
              "      <th>1</th>\n",
              "      <td>LatinFinance is making some of its most import...</td>\n",
              "      <td>fake</td>\n",
              "      <td>28794</td>\n",
              "      <td>4655</td>\n",
              "    </tr>\n",
              "    <tr>\n",
              "      <th>2</th>\n",
              "      <td>And sure enough, less than 24 hours later, in ...</td>\n",
              "      <td>fake</td>\n",
              "      <td>24455</td>\n",
              "      <td>4045</td>\n",
              "    </tr>\n",
              "    <tr>\n",
              "      <th>3</th>\n",
              "      <td>First Covid-19 hotspot in Delhi declared non-c...</td>\n",
              "      <td>fake</td>\n",
              "      <td>20353</td>\n",
              "      <td>3352</td>\n",
              "    </tr>\n",
              "    <tr>\n",
              "      <th>4</th>\n",
              "      <td>CMAAO Update 8 th February on Corona 2019 nCoV...</td>\n",
              "      <td>real</td>\n",
              "      <td>17842</td>\n",
              "      <td>2865</td>\n",
              "    </tr>\n",
              "  </tbody>\n",
              "</table>\n",
              "</div>\n",
              "      <button class=\"colab-df-convert\" onclick=\"convertToInteractive('df-c60d6378-032d-47fe-bcf5-5982a44dd25e')\"\n",
              "              title=\"Convert this dataframe to an interactive table.\"\n",
              "              style=\"display:none;\">\n",
              "        \n",
              "  <svg xmlns=\"http://www.w3.org/2000/svg\" height=\"24px\"viewBox=\"0 0 24 24\"\n",
              "       width=\"24px\">\n",
              "    <path d=\"M0 0h24v24H0V0z\" fill=\"none\"/>\n",
              "    <path d=\"M18.56 5.44l.94 2.06.94-2.06 2.06-.94-2.06-.94-.94-2.06-.94 2.06-2.06.94zm-11 1L8.5 8.5l.94-2.06 2.06-.94-2.06-.94L8.5 2.5l-.94 2.06-2.06.94zm10 10l.94 2.06.94-2.06 2.06-.94-2.06-.94-.94-2.06-.94 2.06-2.06.94z\"/><path d=\"M17.41 7.96l-1.37-1.37c-.4-.4-.92-.59-1.43-.59-.52 0-1.04.2-1.43.59L10.3 9.45l-7.72 7.72c-.78.78-.78 2.05 0 2.83L4 21.41c.39.39.9.59 1.41.59.51 0 1.02-.2 1.41-.59l7.78-7.78 2.81-2.81c.8-.78.8-2.07 0-2.86zM5.41 20L4 18.59l7.72-7.72 1.47 1.35L5.41 20z\"/>\n",
              "  </svg>\n",
              "      </button>\n",
              "      \n",
              "  <style>\n",
              "    .colab-df-container {\n",
              "      display:flex;\n",
              "      flex-wrap:wrap;\n",
              "      gap: 12px;\n",
              "    }\n",
              "\n",
              "    .colab-df-convert {\n",
              "      background-color: #E8F0FE;\n",
              "      border: none;\n",
              "      border-radius: 50%;\n",
              "      cursor: pointer;\n",
              "      display: none;\n",
              "      fill: #1967D2;\n",
              "      height: 32px;\n",
              "      padding: 0 0 0 0;\n",
              "      width: 32px;\n",
              "    }\n",
              "\n",
              "    .colab-df-convert:hover {\n",
              "      background-color: #E2EBFA;\n",
              "      box-shadow: 0px 1px 2px rgba(60, 64, 67, 0.3), 0px 1px 3px 1px rgba(60, 64, 67, 0.15);\n",
              "      fill: #174EA6;\n",
              "    }\n",
              "\n",
              "    [theme=dark] .colab-df-convert {\n",
              "      background-color: #3B4455;\n",
              "      fill: #D2E3FC;\n",
              "    }\n",
              "\n",
              "    [theme=dark] .colab-df-convert:hover {\n",
              "      background-color: #434B5C;\n",
              "      box-shadow: 0px 1px 3px 1px rgba(0, 0, 0, 0.15);\n",
              "      filter: drop-shadow(0px 1px 2px rgba(0, 0, 0, 0.3));\n",
              "      fill: #FFFFFF;\n",
              "    }\n",
              "  </style>\n",
              "\n",
              "      <script>\n",
              "        const buttonEl =\n",
              "          document.querySelector('#df-c60d6378-032d-47fe-bcf5-5982a44dd25e button.colab-df-convert');\n",
              "        buttonEl.style.display =\n",
              "          google.colab.kernel.accessAllowed ? 'block' : 'none';\n",
              "\n",
              "        async function convertToInteractive(key) {\n",
              "          const element = document.querySelector('#df-c60d6378-032d-47fe-bcf5-5982a44dd25e');\n",
              "          const dataTable =\n",
              "            await google.colab.kernel.invokeFunction('convertToInteractive',\n",
              "                                                     [key], {});\n",
              "          if (!dataTable) return;\n",
              "\n",
              "          const docLinkHtml = 'Like what you see? Visit the ' +\n",
              "            '<a target=\"_blank\" href=https://colab.research.google.com/notebooks/data_table.ipynb>data table notebook</a>'\n",
              "            + ' to learn more about interactive tables.';\n",
              "          element.innerHTML = '';\n",
              "          dataTable['output_type'] = 'display_data';\n",
              "          await google.colab.output.renderOutput(dataTable, element);\n",
              "          const docLink = document.createElement('div');\n",
              "          docLink.innerHTML = docLinkHtml;\n",
              "          element.appendChild(docLink);\n",
              "        }\n",
              "      </script>\n",
              "    </div>\n",
              "  </div>\n",
              "  "
            ],
            "text/plain": [
              "                                               tweet  ... length of word\n",
              "0  Coronavirus 2019-nCoV, able to enter and infec...  ...           4970\n",
              "1  LatinFinance is making some of its most import...  ...           4655\n",
              "2  And sure enough, less than 24 hours later, in ...  ...           4045\n",
              "3  First Covid-19 hotspot in Delhi declared non-c...  ...           3352\n",
              "4  CMAAO Update 8 th February on Corona 2019 nCoV...  ...           2865\n",
              "\n",
              "[5 rows x 4 columns]"
            ]
          },
          "metadata": {},
          "execution_count": 28
        }
      ]
    },
    {
      "cell_type": "code",
      "source": [
        "(\n",
        "    testDataset\n",
        "    .withColumn('length of char', f.length('tweet'))\n",
        "    .withColumn('length of word', udf(f.col('tweet')))\n",
        "    .orderBy(f.col('length of char').desc(), f.col('length of word').desc())\n",
        "    .toPandas()\n",
        "    .head(5)\n",
        ")"
      ],
      "metadata": {
        "colab": {
          "base_uri": "https://localhost:8080/"
        },
        "id": "hRanc-NWsQzy",
        "outputId": "e67d8416-4d58-4d37-dfec-cfed5da0875a"
      },
      "execution_count": null,
      "outputs": [
        {
          "output_type": "execute_result",
          "data": {
            "text/html": [
              "\n",
              "  <div id=\"df-a095d7df-0ef8-472c-a4b0-0a2c3cc78510\">\n",
              "    <div class=\"colab-df-container\">\n",
              "      <div>\n",
              "<style scoped>\n",
              "    .dataframe tbody tr th:only-of-type {\n",
              "        vertical-align: middle;\n",
              "    }\n",
              "\n",
              "    .dataframe tbody tr th {\n",
              "        vertical-align: top;\n",
              "    }\n",
              "\n",
              "    .dataframe thead th {\n",
              "        text-align: right;\n",
              "    }\n",
              "</style>\n",
              "<table border=\"1\" class=\"dataframe\">\n",
              "  <thead>\n",
              "    <tr style=\"text-align: right;\">\n",
              "      <th></th>\n",
              "      <th>tweet</th>\n",
              "      <th>label</th>\n",
              "      <th>length of char</th>\n",
              "      <th>length of word</th>\n",
              "    </tr>\n",
              "  </thead>\n",
              "  <tbody>\n",
              "    <tr>\n",
              "      <th>0</th>\n",
              "      <td>Another publication suggests that this coronav...</td>\n",
              "      <td>fake</td>\n",
              "      <td>32530</td>\n",
              "      <td>5241</td>\n",
              "    </tr>\n",
              "    <tr>\n",
              "      <th>1</th>\n",
              "      <td>Management of adult cardiac arrest in the COVI...</td>\n",
              "      <td>fake</td>\n",
              "      <td>23576</td>\n",
              "      <td>3474</td>\n",
              "    </tr>\n",
              "    <tr>\n",
              "      <th>2</th>\n",
              "      <td>1. Mr Speaker, Members. Many members of this h...</td>\n",
              "      <td>real</td>\n",
              "      <td>22091</td>\n",
              "      <td>3697</td>\n",
              "    </tr>\n",
              "    <tr>\n",
              "      <th>3</th>\n",
              "      <td>Kerala government declares coronavirus as a st...</td>\n",
              "      <td>real</td>\n",
              "      <td>18641</td>\n",
              "      <td>2958</td>\n",
              "    </tr>\n",
              "    <tr>\n",
              "      <th>4</th>\n",
              "      <td>In the wake of Ebola, NVD-68, and Zika, we sho...</td>\n",
              "      <td>real</td>\n",
              "      <td>17850</td>\n",
              "      <td>3087</td>\n",
              "    </tr>\n",
              "  </tbody>\n",
              "</table>\n",
              "</div>\n",
              "      <button class=\"colab-df-convert\" onclick=\"convertToInteractive('df-a095d7df-0ef8-472c-a4b0-0a2c3cc78510')\"\n",
              "              title=\"Convert this dataframe to an interactive table.\"\n",
              "              style=\"display:none;\">\n",
              "        \n",
              "  <svg xmlns=\"http://www.w3.org/2000/svg\" height=\"24px\"viewBox=\"0 0 24 24\"\n",
              "       width=\"24px\">\n",
              "    <path d=\"M0 0h24v24H0V0z\" fill=\"none\"/>\n",
              "    <path d=\"M18.56 5.44l.94 2.06.94-2.06 2.06-.94-2.06-.94-.94-2.06-.94 2.06-2.06.94zm-11 1L8.5 8.5l.94-2.06 2.06-.94-2.06-.94L8.5 2.5l-.94 2.06-2.06.94zm10 10l.94 2.06.94-2.06 2.06-.94-2.06-.94-.94-2.06-.94 2.06-2.06.94z\"/><path d=\"M17.41 7.96l-1.37-1.37c-.4-.4-.92-.59-1.43-.59-.52 0-1.04.2-1.43.59L10.3 9.45l-7.72 7.72c-.78.78-.78 2.05 0 2.83L4 21.41c.39.39.9.59 1.41.59.51 0 1.02-.2 1.41-.59l7.78-7.78 2.81-2.81c.8-.78.8-2.07 0-2.86zM5.41 20L4 18.59l7.72-7.72 1.47 1.35L5.41 20z\"/>\n",
              "  </svg>\n",
              "      </button>\n",
              "      \n",
              "  <style>\n",
              "    .colab-df-container {\n",
              "      display:flex;\n",
              "      flex-wrap:wrap;\n",
              "      gap: 12px;\n",
              "    }\n",
              "\n",
              "    .colab-df-convert {\n",
              "      background-color: #E8F0FE;\n",
              "      border: none;\n",
              "      border-radius: 50%;\n",
              "      cursor: pointer;\n",
              "      display: none;\n",
              "      fill: #1967D2;\n",
              "      height: 32px;\n",
              "      padding: 0 0 0 0;\n",
              "      width: 32px;\n",
              "    }\n",
              "\n",
              "    .colab-df-convert:hover {\n",
              "      background-color: #E2EBFA;\n",
              "      box-shadow: 0px 1px 2px rgba(60, 64, 67, 0.3), 0px 1px 3px 1px rgba(60, 64, 67, 0.15);\n",
              "      fill: #174EA6;\n",
              "    }\n",
              "\n",
              "    [theme=dark] .colab-df-convert {\n",
              "      background-color: #3B4455;\n",
              "      fill: #D2E3FC;\n",
              "    }\n",
              "\n",
              "    [theme=dark] .colab-df-convert:hover {\n",
              "      background-color: #434B5C;\n",
              "      box-shadow: 0px 1px 3px 1px rgba(0, 0, 0, 0.15);\n",
              "      filter: drop-shadow(0px 1px 2px rgba(0, 0, 0, 0.3));\n",
              "      fill: #FFFFFF;\n",
              "    }\n",
              "  </style>\n",
              "\n",
              "      <script>\n",
              "        const buttonEl =\n",
              "          document.querySelector('#df-a095d7df-0ef8-472c-a4b0-0a2c3cc78510 button.colab-df-convert');\n",
              "        buttonEl.style.display =\n",
              "          google.colab.kernel.accessAllowed ? 'block' : 'none';\n",
              "\n",
              "        async function convertToInteractive(key) {\n",
              "          const element = document.querySelector('#df-a095d7df-0ef8-472c-a4b0-0a2c3cc78510');\n",
              "          const dataTable =\n",
              "            await google.colab.kernel.invokeFunction('convertToInteractive',\n",
              "                                                     [key], {});\n",
              "          if (!dataTable) return;\n",
              "\n",
              "          const docLinkHtml = 'Like what you see? Visit the ' +\n",
              "            '<a target=\"_blank\" href=https://colab.research.google.com/notebooks/data_table.ipynb>data table notebook</a>'\n",
              "            + ' to learn more about interactive tables.';\n",
              "          element.innerHTML = '';\n",
              "          dataTable['output_type'] = 'display_data';\n",
              "          await google.colab.output.renderOutput(dataTable, element);\n",
              "          const docLink = document.createElement('div');\n",
              "          docLink.innerHTML = docLinkHtml;\n",
              "          element.appendChild(docLink);\n",
              "        }\n",
              "      </script>\n",
              "    </div>\n",
              "  </div>\n",
              "  "
            ],
            "text/plain": [
              "                                               tweet  ... length of word\n",
              "0  Another publication suggests that this coronav...  ...           5241\n",
              "1  Management of adult cardiac arrest in the COVI...  ...           3474\n",
              "2  1. Mr Speaker, Members. Many members of this h...  ...           3697\n",
              "3  Kerala government declares coronavirus as a st...  ...           2958\n",
              "4  In the wake of Ebola, NVD-68, and Zika, we sho...  ...           3087\n",
              "\n",
              "[5 rows x 4 columns]"
            ]
          },
          "metadata": {},
          "execution_count": 29
        }
      ]
    },
    {
      "cell_type": "code",
      "source": [
        "(\n",
        "   testDataset\n",
        "    .withColumn('length of char', f.length('tweet'))\n",
        "    .withColumn('length of word', udf(f.col('tweet')))\n",
        "    .orderBy(f.col('length of word').desc(), f.col('length of char').desc())\n",
        "    .toPandas()\n",
        "    .head(5)\n",
        ")"
      ],
      "metadata": {
        "colab": {
          "base_uri": "https://localhost:8080/"
        },
        "id": "HlVj3GjasUFX",
        "outputId": "4cb1ceea-bc91-4be1-fd3c-e85a58c44720"
      },
      "execution_count": null,
      "outputs": [
        {
          "output_type": "execute_result",
          "data": {
            "text/html": [
              "\n",
              "  <div id=\"df-d707b452-e924-44d8-ba44-2b0bb3d0dc50\">\n",
              "    <div class=\"colab-df-container\">\n",
              "      <div>\n",
              "<style scoped>\n",
              "    .dataframe tbody tr th:only-of-type {\n",
              "        vertical-align: middle;\n",
              "    }\n",
              "\n",
              "    .dataframe tbody tr th {\n",
              "        vertical-align: top;\n",
              "    }\n",
              "\n",
              "    .dataframe thead th {\n",
              "        text-align: right;\n",
              "    }\n",
              "</style>\n",
              "<table border=\"1\" class=\"dataframe\">\n",
              "  <thead>\n",
              "    <tr style=\"text-align: right;\">\n",
              "      <th></th>\n",
              "      <th>tweet</th>\n",
              "      <th>label</th>\n",
              "      <th>length of char</th>\n",
              "      <th>length of word</th>\n",
              "    </tr>\n",
              "  </thead>\n",
              "  <tbody>\n",
              "    <tr>\n",
              "      <th>0</th>\n",
              "      <td>Another publication suggests that this coronav...</td>\n",
              "      <td>fake</td>\n",
              "      <td>32530</td>\n",
              "      <td>5241</td>\n",
              "    </tr>\n",
              "    <tr>\n",
              "      <th>1</th>\n",
              "      <td>1. Mr Speaker, Members. Many members of this h...</td>\n",
              "      <td>real</td>\n",
              "      <td>22091</td>\n",
              "      <td>3697</td>\n",
              "    </tr>\n",
              "    <tr>\n",
              "      <th>2</th>\n",
              "      <td>Management of adult cardiac arrest in the COVI...</td>\n",
              "      <td>fake</td>\n",
              "      <td>23576</td>\n",
              "      <td>3474</td>\n",
              "    </tr>\n",
              "    <tr>\n",
              "      <th>3</th>\n",
              "      <td>In the wake of Ebola, NVD-68, and Zika, we sho...</td>\n",
              "      <td>real</td>\n",
              "      <td>17850</td>\n",
              "      <td>3087</td>\n",
              "    </tr>\n",
              "    <tr>\n",
              "      <th>4</th>\n",
              "      <td>Kerala government declares coronavirus as a st...</td>\n",
              "      <td>real</td>\n",
              "      <td>18641</td>\n",
              "      <td>2958</td>\n",
              "    </tr>\n",
              "  </tbody>\n",
              "</table>\n",
              "</div>\n",
              "      <button class=\"colab-df-convert\" onclick=\"convertToInteractive('df-d707b452-e924-44d8-ba44-2b0bb3d0dc50')\"\n",
              "              title=\"Convert this dataframe to an interactive table.\"\n",
              "              style=\"display:none;\">\n",
              "        \n",
              "  <svg xmlns=\"http://www.w3.org/2000/svg\" height=\"24px\"viewBox=\"0 0 24 24\"\n",
              "       width=\"24px\">\n",
              "    <path d=\"M0 0h24v24H0V0z\" fill=\"none\"/>\n",
              "    <path d=\"M18.56 5.44l.94 2.06.94-2.06 2.06-.94-2.06-.94-.94-2.06-.94 2.06-2.06.94zm-11 1L8.5 8.5l.94-2.06 2.06-.94-2.06-.94L8.5 2.5l-.94 2.06-2.06.94zm10 10l.94 2.06.94-2.06 2.06-.94-2.06-.94-.94-2.06-.94 2.06-2.06.94z\"/><path d=\"M17.41 7.96l-1.37-1.37c-.4-.4-.92-.59-1.43-.59-.52 0-1.04.2-1.43.59L10.3 9.45l-7.72 7.72c-.78.78-.78 2.05 0 2.83L4 21.41c.39.39.9.59 1.41.59.51 0 1.02-.2 1.41-.59l7.78-7.78 2.81-2.81c.8-.78.8-2.07 0-2.86zM5.41 20L4 18.59l7.72-7.72 1.47 1.35L5.41 20z\"/>\n",
              "  </svg>\n",
              "      </button>\n",
              "      \n",
              "  <style>\n",
              "    .colab-df-container {\n",
              "      display:flex;\n",
              "      flex-wrap:wrap;\n",
              "      gap: 12px;\n",
              "    }\n",
              "\n",
              "    .colab-df-convert {\n",
              "      background-color: #E8F0FE;\n",
              "      border: none;\n",
              "      border-radius: 50%;\n",
              "      cursor: pointer;\n",
              "      display: none;\n",
              "      fill: #1967D2;\n",
              "      height: 32px;\n",
              "      padding: 0 0 0 0;\n",
              "      width: 32px;\n",
              "    }\n",
              "\n",
              "    .colab-df-convert:hover {\n",
              "      background-color: #E2EBFA;\n",
              "      box-shadow: 0px 1px 2px rgba(60, 64, 67, 0.3), 0px 1px 3px 1px rgba(60, 64, 67, 0.15);\n",
              "      fill: #174EA6;\n",
              "    }\n",
              "\n",
              "    [theme=dark] .colab-df-convert {\n",
              "      background-color: #3B4455;\n",
              "      fill: #D2E3FC;\n",
              "    }\n",
              "\n",
              "    [theme=dark] .colab-df-convert:hover {\n",
              "      background-color: #434B5C;\n",
              "      box-shadow: 0px 1px 3px 1px rgba(0, 0, 0, 0.15);\n",
              "      filter: drop-shadow(0px 1px 2px rgba(0, 0, 0, 0.3));\n",
              "      fill: #FFFFFF;\n",
              "    }\n",
              "  </style>\n",
              "\n",
              "      <script>\n",
              "        const buttonEl =\n",
              "          document.querySelector('#df-d707b452-e924-44d8-ba44-2b0bb3d0dc50 button.colab-df-convert');\n",
              "        buttonEl.style.display =\n",
              "          google.colab.kernel.accessAllowed ? 'block' : 'none';\n",
              "\n",
              "        async function convertToInteractive(key) {\n",
              "          const element = document.querySelector('#df-d707b452-e924-44d8-ba44-2b0bb3d0dc50');\n",
              "          const dataTable =\n",
              "            await google.colab.kernel.invokeFunction('convertToInteractive',\n",
              "                                                     [key], {});\n",
              "          if (!dataTable) return;\n",
              "\n",
              "          const docLinkHtml = 'Like what you see? Visit the ' +\n",
              "            '<a target=\"_blank\" href=https://colab.research.google.com/notebooks/data_table.ipynb>data table notebook</a>'\n",
              "            + ' to learn more about interactive tables.';\n",
              "          element.innerHTML = '';\n",
              "          dataTable['output_type'] = 'display_data';\n",
              "          await google.colab.output.renderOutput(dataTable, element);\n",
              "          const docLink = document.createElement('div');\n",
              "          docLink.innerHTML = docLinkHtml;\n",
              "          element.appendChild(docLink);\n",
              "        }\n",
              "      </script>\n",
              "    </div>\n",
              "  </div>\n",
              "  "
            ],
            "text/plain": [
              "                                               tweet  ... length of word\n",
              "0  Another publication suggests that this coronav...  ...           5241\n",
              "1  1. Mr Speaker, Members. Many members of this h...  ...           3697\n",
              "2  Management of adult cardiac arrest in the COVI...  ...           3474\n",
              "3  In the wake of Ebola, NVD-68, and Zika, we sho...  ...           3087\n",
              "4  Kerala government declares coronavirus as a st...  ...           2958\n",
              "\n",
              "[5 rows x 4 columns]"
            ]
          },
          "metadata": {},
          "execution_count": 30
        }
      ]
    },
    {
      "cell_type": "markdown",
      "source": [
        "## Step 4"
      ],
      "metadata": {
        "id": "V5PMILsqTLtd"
      }
    },
    {
      "cell_type": "code",
      "source": [
        "trainDataset = (\n",
        "    trainDataset\n",
        "    .withColumn(\"tweet\", f.regexp_replace(f.col(\"tweet\"), \"[^a-zA-Z]\", \" \"))\n",
        "    .withColumn(\"tweet\", f.regexp_replace(f.col(\"tweet\"), \" +\", \" \"))\n",
        "    .withColumn(\"tweet\", f.trim(f.col(\"tweet\")))\n",
        "    .filter(\"tweet != ''\")\n",
        ")\n",
        "\n",
        "valDataset = (\n",
        "    valDataset\n",
        "    .withColumn(\"tweet\", f.regexp_replace(f.col(\"tweet\"), \"[^a-zA-Z]\", \" \"))\n",
        "    .withColumn(\"tweet\", f.regexp_replace(f.col(\"tweet\"), \" +\", \" \"))\n",
        "    .withColumn(\"tweet\", f.trim(f.col(\"tweet\")))\n",
        "    .filter(\"tweet != ''\")\n",
        ")\n",
        "\n",
        "testDataset = (\n",
        "    testDataset\n",
        "    .withColumn(\"tweet\", f.regexp_replace(f.col(\"tweet\"), \"[^a-zA-Z]\", \" \"))\n",
        "    .withColumn(\"tweet\", f.regexp_replace(f.col(\"tweet\"), \" +\", \" \"))\n",
        "    .withColumn(\"tweet\", f.trim(f.col(\"tweet\")))\n",
        "    .filter(\"tweet != ''\")\n",
        ")"
      ],
      "metadata": {
        "id": "R-PFh22oDDhe"
      },
      "execution_count": null,
      "outputs": []
    },
    {
      "cell_type": "markdown",
      "source": [
        "### Check Data"
      ],
      "metadata": {
        "id": "JWol8J0HD-Hz"
      }
    },
    {
      "cell_type": "code",
      "source": [
        "trainDataset.printSchema()\n",
        "valDataset.printSchema()\n",
        "testDataset.printSchema()\n",
        "print(trainDataset.count())\n",
        "print(valDataset.count())\n",
        "print(testDataset.count())"
      ],
      "metadata": {
        "colab": {
          "base_uri": "https://localhost:8080/"
        },
        "outputId": "80c465bd-41c6-4b24-dfe1-c50ed4ff4bf6",
        "id": "I2t5faUWD-H0"
      },
      "execution_count": null,
      "outputs": [
        {
          "output_type": "stream",
          "name": "stdout",
          "text": [
            "root\n",
            " |-- tweet: string (nullable = true)\n",
            " |-- label: string (nullable = true)\n",
            "\n",
            "root\n",
            " |-- tweet: string (nullable = true)\n",
            " |-- label: string (nullable = true)\n",
            "\n",
            "root\n",
            " |-- tweet: string (nullable = true)\n",
            " |-- label: string (nullable = true)\n",
            "\n",
            "15933\n",
            "3438\n",
            "4448\n"
          ]
        }
      ]
    },
    {
      "cell_type": "code",
      "source": [
        "udf = f.udf(lambda x: len(x.split()), IntegerType())\n",
        "(\n",
        "    trainDataset\n",
        "    .withColumn('length of char', f.length('tweet'))\n",
        "    .withColumn('length of word', udf(f.col('tweet')))\n",
        "    .orderBy(f.col('length of char').desc(), f.col('length of word').desc())\n",
        "    .toPandas()\n",
        "    .head(5)\n",
        ")"
      ],
      "metadata": {
        "colab": {
          "base_uri": "https://localhost:8080/"
        },
        "outputId": "7bc9d16f-bd64-44ea-e233-2579fafbbf01",
        "id": "El1N6B6bD-H0"
      },
      "execution_count": null,
      "outputs": [
        {
          "output_type": "execute_result",
          "data": {
            "text/html": [
              "\n",
              "  <div id=\"df-a7e3ee93-8a3f-4f2c-a5fd-4df8e90921a8\">\n",
              "    <div class=\"colab-df-container\">\n",
              "      <div>\n",
              "<style scoped>\n",
              "    .dataframe tbody tr th:only-of-type {\n",
              "        vertical-align: middle;\n",
              "    }\n",
              "\n",
              "    .dataframe tbody tr th {\n",
              "        vertical-align: top;\n",
              "    }\n",
              "\n",
              "    .dataframe thead th {\n",
              "        text-align: right;\n",
              "    }\n",
              "</style>\n",
              "<table border=\"1\" class=\"dataframe\">\n",
              "  <thead>\n",
              "    <tr style=\"text-align: right;\">\n",
              "      <th></th>\n",
              "      <th>tweet</th>\n",
              "      <th>label</th>\n",
              "      <th>length of char</th>\n",
              "      <th>length of word</th>\n",
              "    </tr>\n",
              "  </thead>\n",
              "  <tbody>\n",
              "    <tr>\n",
              "      <th>0</th>\n",
              "      <td>I have been watching the continuing hysteria t...</td>\n",
              "      <td>fake</td>\n",
              "      <td>31568</td>\n",
              "      <td>5173</td>\n",
              "    </tr>\n",
              "    <tr>\n",
              "      <th>1</th>\n",
              "      <td>This report discusses selected actions taken b...</td>\n",
              "      <td>real</td>\n",
              "      <td>30821</td>\n",
              "      <td>4755</td>\n",
              "    </tr>\n",
              "    <tr>\n",
              "      <th>2</th>\n",
              "      <td>The temperature topped degrees F degrees Celsi...</td>\n",
              "      <td>fake</td>\n",
              "      <td>30512</td>\n",
              "      <td>5500</td>\n",
              "    </tr>\n",
              "    <tr>\n",
              "      <th>3</th>\n",
              "      <td>Story by Celia Farber with research contributi...</td>\n",
              "      <td>fake</td>\n",
              "      <td>25209</td>\n",
              "      <td>4404</td>\n",
              "    </tr>\n",
              "    <tr>\n",
              "      <th>4</th>\n",
              "      <td>WUHAN CORONAVIRUS PANDEMIC BIOENGINEERED Who s...</td>\n",
              "      <td>fake</td>\n",
              "      <td>23233</td>\n",
              "      <td>3770</td>\n",
              "    </tr>\n",
              "  </tbody>\n",
              "</table>\n",
              "</div>\n",
              "      <button class=\"colab-df-convert\" onclick=\"convertToInteractive('df-a7e3ee93-8a3f-4f2c-a5fd-4df8e90921a8')\"\n",
              "              title=\"Convert this dataframe to an interactive table.\"\n",
              "              style=\"display:none;\">\n",
              "        \n",
              "  <svg xmlns=\"http://www.w3.org/2000/svg\" height=\"24px\"viewBox=\"0 0 24 24\"\n",
              "       width=\"24px\">\n",
              "    <path d=\"M0 0h24v24H0V0z\" fill=\"none\"/>\n",
              "    <path d=\"M18.56 5.44l.94 2.06.94-2.06 2.06-.94-2.06-.94-.94-2.06-.94 2.06-2.06.94zm-11 1L8.5 8.5l.94-2.06 2.06-.94-2.06-.94L8.5 2.5l-.94 2.06-2.06.94zm10 10l.94 2.06.94-2.06 2.06-.94-2.06-.94-.94-2.06-.94 2.06-2.06.94z\"/><path d=\"M17.41 7.96l-1.37-1.37c-.4-.4-.92-.59-1.43-.59-.52 0-1.04.2-1.43.59L10.3 9.45l-7.72 7.72c-.78.78-.78 2.05 0 2.83L4 21.41c.39.39.9.59 1.41.59.51 0 1.02-.2 1.41-.59l7.78-7.78 2.81-2.81c.8-.78.8-2.07 0-2.86zM5.41 20L4 18.59l7.72-7.72 1.47 1.35L5.41 20z\"/>\n",
              "  </svg>\n",
              "      </button>\n",
              "      \n",
              "  <style>\n",
              "    .colab-df-container {\n",
              "      display:flex;\n",
              "      flex-wrap:wrap;\n",
              "      gap: 12px;\n",
              "    }\n",
              "\n",
              "    .colab-df-convert {\n",
              "      background-color: #E8F0FE;\n",
              "      border: none;\n",
              "      border-radius: 50%;\n",
              "      cursor: pointer;\n",
              "      display: none;\n",
              "      fill: #1967D2;\n",
              "      height: 32px;\n",
              "      padding: 0 0 0 0;\n",
              "      width: 32px;\n",
              "    }\n",
              "\n",
              "    .colab-df-convert:hover {\n",
              "      background-color: #E2EBFA;\n",
              "      box-shadow: 0px 1px 2px rgba(60, 64, 67, 0.3), 0px 1px 3px 1px rgba(60, 64, 67, 0.15);\n",
              "      fill: #174EA6;\n",
              "    }\n",
              "\n",
              "    [theme=dark] .colab-df-convert {\n",
              "      background-color: #3B4455;\n",
              "      fill: #D2E3FC;\n",
              "    }\n",
              "\n",
              "    [theme=dark] .colab-df-convert:hover {\n",
              "      background-color: #434B5C;\n",
              "      box-shadow: 0px 1px 3px 1px rgba(0, 0, 0, 0.15);\n",
              "      filter: drop-shadow(0px 1px 2px rgba(0, 0, 0, 0.3));\n",
              "      fill: #FFFFFF;\n",
              "    }\n",
              "  </style>\n",
              "\n",
              "      <script>\n",
              "        const buttonEl =\n",
              "          document.querySelector('#df-a7e3ee93-8a3f-4f2c-a5fd-4df8e90921a8 button.colab-df-convert');\n",
              "        buttonEl.style.display =\n",
              "          google.colab.kernel.accessAllowed ? 'block' : 'none';\n",
              "\n",
              "        async function convertToInteractive(key) {\n",
              "          const element = document.querySelector('#df-a7e3ee93-8a3f-4f2c-a5fd-4df8e90921a8');\n",
              "          const dataTable =\n",
              "            await google.colab.kernel.invokeFunction('convertToInteractive',\n",
              "                                                     [key], {});\n",
              "          if (!dataTable) return;\n",
              "\n",
              "          const docLinkHtml = 'Like what you see? Visit the ' +\n",
              "            '<a target=\"_blank\" href=https://colab.research.google.com/notebooks/data_table.ipynb>data table notebook</a>'\n",
              "            + ' to learn more about interactive tables.';\n",
              "          element.innerHTML = '';\n",
              "          dataTable['output_type'] = 'display_data';\n",
              "          await google.colab.output.renderOutput(dataTable, element);\n",
              "          const docLink = document.createElement('div');\n",
              "          docLink.innerHTML = docLinkHtml;\n",
              "          element.appendChild(docLink);\n",
              "        }\n",
              "      </script>\n",
              "    </div>\n",
              "  </div>\n",
              "  "
            ],
            "text/plain": [
              "                                               tweet  ... length of word\n",
              "0  I have been watching the continuing hysteria t...  ...           5173\n",
              "1  This report discusses selected actions taken b...  ...           4755\n",
              "2  The temperature topped degrees F degrees Celsi...  ...           5500\n",
              "3  Story by Celia Farber with research contributi...  ...           4404\n",
              "4  WUHAN CORONAVIRUS PANDEMIC BIOENGINEERED Who s...  ...           3770\n",
              "\n",
              "[5 rows x 4 columns]"
            ]
          },
          "metadata": {},
          "execution_count": 33
        }
      ]
    },
    {
      "cell_type": "code",
      "source": [
        "(\n",
        "    trainDataset\n",
        "    .withColumn('length of word', udf(f.col('tweet')))\n",
        "    .withColumn('length of char', f.length('tweet'))\n",
        "    .orderBy(f.col('length of word').desc(), f.col('length of char').desc())\n",
        "    .toPandas()\n",
        "    .head(5)\n",
        ")"
      ],
      "metadata": {
        "colab": {
          "base_uri": "https://localhost:8080/"
        },
        "outputId": "680cf0ca-8e36-439f-f3a8-1c7f73a051d2",
        "id": "NPyShrsaD-H1"
      },
      "execution_count": null,
      "outputs": [
        {
          "output_type": "execute_result",
          "data": {
            "text/html": [
              "\n",
              "  <div id=\"df-d5955bef-5a9d-4fa8-87f1-8c941459c767\">\n",
              "    <div class=\"colab-df-container\">\n",
              "      <div>\n",
              "<style scoped>\n",
              "    .dataframe tbody tr th:only-of-type {\n",
              "        vertical-align: middle;\n",
              "    }\n",
              "\n",
              "    .dataframe tbody tr th {\n",
              "        vertical-align: top;\n",
              "    }\n",
              "\n",
              "    .dataframe thead th {\n",
              "        text-align: right;\n",
              "    }\n",
              "</style>\n",
              "<table border=\"1\" class=\"dataframe\">\n",
              "  <thead>\n",
              "    <tr style=\"text-align: right;\">\n",
              "      <th></th>\n",
              "      <th>tweet</th>\n",
              "      <th>label</th>\n",
              "      <th>length of word</th>\n",
              "      <th>length of char</th>\n",
              "    </tr>\n",
              "  </thead>\n",
              "  <tbody>\n",
              "    <tr>\n",
              "      <th>0</th>\n",
              "      <td>The temperature topped degrees F degrees Celsi...</td>\n",
              "      <td>fake</td>\n",
              "      <td>5500</td>\n",
              "      <td>30512</td>\n",
              "    </tr>\n",
              "    <tr>\n",
              "      <th>1</th>\n",
              "      <td>I have been watching the continuing hysteria t...</td>\n",
              "      <td>fake</td>\n",
              "      <td>5173</td>\n",
              "      <td>31568</td>\n",
              "    </tr>\n",
              "    <tr>\n",
              "      <th>2</th>\n",
              "      <td>This report discusses selected actions taken b...</td>\n",
              "      <td>real</td>\n",
              "      <td>4755</td>\n",
              "      <td>30821</td>\n",
              "    </tr>\n",
              "    <tr>\n",
              "      <th>3</th>\n",
              "      <td>Story by Celia Farber with research contributi...</td>\n",
              "      <td>fake</td>\n",
              "      <td>4404</td>\n",
              "      <td>25209</td>\n",
              "    </tr>\n",
              "    <tr>\n",
              "      <th>4</th>\n",
              "      <td>Here is the technique we use to heal unseen ne...</td>\n",
              "      <td>fake</td>\n",
              "      <td>4034</td>\n",
              "      <td>23054</td>\n",
              "    </tr>\n",
              "  </tbody>\n",
              "</table>\n",
              "</div>\n",
              "      <button class=\"colab-df-convert\" onclick=\"convertToInteractive('df-d5955bef-5a9d-4fa8-87f1-8c941459c767')\"\n",
              "              title=\"Convert this dataframe to an interactive table.\"\n",
              "              style=\"display:none;\">\n",
              "        \n",
              "  <svg xmlns=\"http://www.w3.org/2000/svg\" height=\"24px\"viewBox=\"0 0 24 24\"\n",
              "       width=\"24px\">\n",
              "    <path d=\"M0 0h24v24H0V0z\" fill=\"none\"/>\n",
              "    <path d=\"M18.56 5.44l.94 2.06.94-2.06 2.06-.94-2.06-.94-.94-2.06-.94 2.06-2.06.94zm-11 1L8.5 8.5l.94-2.06 2.06-.94-2.06-.94L8.5 2.5l-.94 2.06-2.06.94zm10 10l.94 2.06.94-2.06 2.06-.94-2.06-.94-.94-2.06-.94 2.06-2.06.94z\"/><path d=\"M17.41 7.96l-1.37-1.37c-.4-.4-.92-.59-1.43-.59-.52 0-1.04.2-1.43.59L10.3 9.45l-7.72 7.72c-.78.78-.78 2.05 0 2.83L4 21.41c.39.39.9.59 1.41.59.51 0 1.02-.2 1.41-.59l7.78-7.78 2.81-2.81c.8-.78.8-2.07 0-2.86zM5.41 20L4 18.59l7.72-7.72 1.47 1.35L5.41 20z\"/>\n",
              "  </svg>\n",
              "      </button>\n",
              "      \n",
              "  <style>\n",
              "    .colab-df-container {\n",
              "      display:flex;\n",
              "      flex-wrap:wrap;\n",
              "      gap: 12px;\n",
              "    }\n",
              "\n",
              "    .colab-df-convert {\n",
              "      background-color: #E8F0FE;\n",
              "      border: none;\n",
              "      border-radius: 50%;\n",
              "      cursor: pointer;\n",
              "      display: none;\n",
              "      fill: #1967D2;\n",
              "      height: 32px;\n",
              "      padding: 0 0 0 0;\n",
              "      width: 32px;\n",
              "    }\n",
              "\n",
              "    .colab-df-convert:hover {\n",
              "      background-color: #E2EBFA;\n",
              "      box-shadow: 0px 1px 2px rgba(60, 64, 67, 0.3), 0px 1px 3px 1px rgba(60, 64, 67, 0.15);\n",
              "      fill: #174EA6;\n",
              "    }\n",
              "\n",
              "    [theme=dark] .colab-df-convert {\n",
              "      background-color: #3B4455;\n",
              "      fill: #D2E3FC;\n",
              "    }\n",
              "\n",
              "    [theme=dark] .colab-df-convert:hover {\n",
              "      background-color: #434B5C;\n",
              "      box-shadow: 0px 1px 3px 1px rgba(0, 0, 0, 0.15);\n",
              "      filter: drop-shadow(0px 1px 2px rgba(0, 0, 0, 0.3));\n",
              "      fill: #FFFFFF;\n",
              "    }\n",
              "  </style>\n",
              "\n",
              "      <script>\n",
              "        const buttonEl =\n",
              "          document.querySelector('#df-d5955bef-5a9d-4fa8-87f1-8c941459c767 button.colab-df-convert');\n",
              "        buttonEl.style.display =\n",
              "          google.colab.kernel.accessAllowed ? 'block' : 'none';\n",
              "\n",
              "        async function convertToInteractive(key) {\n",
              "          const element = document.querySelector('#df-d5955bef-5a9d-4fa8-87f1-8c941459c767');\n",
              "          const dataTable =\n",
              "            await google.colab.kernel.invokeFunction('convertToInteractive',\n",
              "                                                     [key], {});\n",
              "          if (!dataTable) return;\n",
              "\n",
              "          const docLinkHtml = 'Like what you see? Visit the ' +\n",
              "            '<a target=\"_blank\" href=https://colab.research.google.com/notebooks/data_table.ipynb>data table notebook</a>'\n",
              "            + ' to learn more about interactive tables.';\n",
              "          element.innerHTML = '';\n",
              "          dataTable['output_type'] = 'display_data';\n",
              "          await google.colab.output.renderOutput(dataTable, element);\n",
              "          const docLink = document.createElement('div');\n",
              "          docLink.innerHTML = docLinkHtml;\n",
              "          element.appendChild(docLink);\n",
              "        }\n",
              "      </script>\n",
              "    </div>\n",
              "  </div>\n",
              "  "
            ],
            "text/plain": [
              "                                               tweet  ... length of char\n",
              "0  The temperature topped degrees F degrees Celsi...  ...          30512\n",
              "1  I have been watching the continuing hysteria t...  ...          31568\n",
              "2  This report discusses selected actions taken b...  ...          30821\n",
              "3  Story by Celia Farber with research contributi...  ...          25209\n",
              "4  Here is the technique we use to heal unseen ne...  ...          23054\n",
              "\n",
              "[5 rows x 4 columns]"
            ]
          },
          "metadata": {},
          "execution_count": 34
        }
      ]
    },
    {
      "cell_type": "code",
      "source": [
        "(\n",
        "    valDataset\n",
        "    .withColumn('length of char', f.length('tweet'))\n",
        "    .withColumn('length of word', udf(f.col('tweet')))\n",
        "    .orderBy(f.col('length of char').desc(), f.col('length of word').desc())\n",
        "    .toPandas()\n",
        "    .head(5)\n",
        ")"
      ],
      "metadata": {
        "colab": {
          "base_uri": "https://localhost:8080/"
        },
        "outputId": "fc9db117-da6c-49d5-d460-8f8b34255c02",
        "id": "lout-kftD-H1"
      },
      "execution_count": null,
      "outputs": [
        {
          "output_type": "execute_result",
          "data": {
            "text/html": [
              "\n",
              "  <div id=\"df-04f5814a-a2d1-40ce-9dbc-829795557e70\">\n",
              "    <div class=\"colab-df-container\">\n",
              "      <div>\n",
              "<style scoped>\n",
              "    .dataframe tbody tr th:only-of-type {\n",
              "        vertical-align: middle;\n",
              "    }\n",
              "\n",
              "    .dataframe tbody tr th {\n",
              "        vertical-align: top;\n",
              "    }\n",
              "\n",
              "    .dataframe thead th {\n",
              "        text-align: right;\n",
              "    }\n",
              "</style>\n",
              "<table border=\"1\" class=\"dataframe\">\n",
              "  <thead>\n",
              "    <tr style=\"text-align: right;\">\n",
              "      <th></th>\n",
              "      <th>tweet</th>\n",
              "      <th>label</th>\n",
              "      <th>length of char</th>\n",
              "      <th>length of word</th>\n",
              "    </tr>\n",
              "  </thead>\n",
              "  <tbody>\n",
              "    <tr>\n",
              "      <th>0</th>\n",
              "      <td>Coronavirus nCoV able to enter and infect huma...</td>\n",
              "      <td>fake</td>\n",
              "      <td>31316</td>\n",
              "      <td>5015</td>\n",
              "    </tr>\n",
              "    <tr>\n",
              "      <th>1</th>\n",
              "      <td>LatinFinance is making some of its most import...</td>\n",
              "      <td>fake</td>\n",
              "      <td>26765</td>\n",
              "      <td>4398</td>\n",
              "    </tr>\n",
              "    <tr>\n",
              "      <th>2</th>\n",
              "      <td>And sure enough less than hours later in an at...</td>\n",
              "      <td>fake</td>\n",
              "      <td>22883</td>\n",
              "      <td>3989</td>\n",
              "    </tr>\n",
              "    <tr>\n",
              "      <th>3</th>\n",
              "      <td>First Covid hotspot in Delhi declared non cont...</td>\n",
              "      <td>fake</td>\n",
              "      <td>18803</td>\n",
              "      <td>3210</td>\n",
              "    </tr>\n",
              "    <tr>\n",
              "      <th>4</th>\n",
              "      <td>CMAAO Update th February on Corona nCoV confir...</td>\n",
              "      <td>real</td>\n",
              "      <td>16464</td>\n",
              "      <td>2680</td>\n",
              "    </tr>\n",
              "  </tbody>\n",
              "</table>\n",
              "</div>\n",
              "      <button class=\"colab-df-convert\" onclick=\"convertToInteractive('df-04f5814a-a2d1-40ce-9dbc-829795557e70')\"\n",
              "              title=\"Convert this dataframe to an interactive table.\"\n",
              "              style=\"display:none;\">\n",
              "        \n",
              "  <svg xmlns=\"http://www.w3.org/2000/svg\" height=\"24px\"viewBox=\"0 0 24 24\"\n",
              "       width=\"24px\">\n",
              "    <path d=\"M0 0h24v24H0V0z\" fill=\"none\"/>\n",
              "    <path d=\"M18.56 5.44l.94 2.06.94-2.06 2.06-.94-2.06-.94-.94-2.06-.94 2.06-2.06.94zm-11 1L8.5 8.5l.94-2.06 2.06-.94-2.06-.94L8.5 2.5l-.94 2.06-2.06.94zm10 10l.94 2.06.94-2.06 2.06-.94-2.06-.94-.94-2.06-.94 2.06-2.06.94z\"/><path d=\"M17.41 7.96l-1.37-1.37c-.4-.4-.92-.59-1.43-.59-.52 0-1.04.2-1.43.59L10.3 9.45l-7.72 7.72c-.78.78-.78 2.05 0 2.83L4 21.41c.39.39.9.59 1.41.59.51 0 1.02-.2 1.41-.59l7.78-7.78 2.81-2.81c.8-.78.8-2.07 0-2.86zM5.41 20L4 18.59l7.72-7.72 1.47 1.35L5.41 20z\"/>\n",
              "  </svg>\n",
              "      </button>\n",
              "      \n",
              "  <style>\n",
              "    .colab-df-container {\n",
              "      display:flex;\n",
              "      flex-wrap:wrap;\n",
              "      gap: 12px;\n",
              "    }\n",
              "\n",
              "    .colab-df-convert {\n",
              "      background-color: #E8F0FE;\n",
              "      border: none;\n",
              "      border-radius: 50%;\n",
              "      cursor: pointer;\n",
              "      display: none;\n",
              "      fill: #1967D2;\n",
              "      height: 32px;\n",
              "      padding: 0 0 0 0;\n",
              "      width: 32px;\n",
              "    }\n",
              "\n",
              "    .colab-df-convert:hover {\n",
              "      background-color: #E2EBFA;\n",
              "      box-shadow: 0px 1px 2px rgba(60, 64, 67, 0.3), 0px 1px 3px 1px rgba(60, 64, 67, 0.15);\n",
              "      fill: #174EA6;\n",
              "    }\n",
              "\n",
              "    [theme=dark] .colab-df-convert {\n",
              "      background-color: #3B4455;\n",
              "      fill: #D2E3FC;\n",
              "    }\n",
              "\n",
              "    [theme=dark] .colab-df-convert:hover {\n",
              "      background-color: #434B5C;\n",
              "      box-shadow: 0px 1px 3px 1px rgba(0, 0, 0, 0.15);\n",
              "      filter: drop-shadow(0px 1px 2px rgba(0, 0, 0, 0.3));\n",
              "      fill: #FFFFFF;\n",
              "    }\n",
              "  </style>\n",
              "\n",
              "      <script>\n",
              "        const buttonEl =\n",
              "          document.querySelector('#df-04f5814a-a2d1-40ce-9dbc-829795557e70 button.colab-df-convert');\n",
              "        buttonEl.style.display =\n",
              "          google.colab.kernel.accessAllowed ? 'block' : 'none';\n",
              "\n",
              "        async function convertToInteractive(key) {\n",
              "          const element = document.querySelector('#df-04f5814a-a2d1-40ce-9dbc-829795557e70');\n",
              "          const dataTable =\n",
              "            await google.colab.kernel.invokeFunction('convertToInteractive',\n",
              "                                                     [key], {});\n",
              "          if (!dataTable) return;\n",
              "\n",
              "          const docLinkHtml = 'Like what you see? Visit the ' +\n",
              "            '<a target=\"_blank\" href=https://colab.research.google.com/notebooks/data_table.ipynb>data table notebook</a>'\n",
              "            + ' to learn more about interactive tables.';\n",
              "          element.innerHTML = '';\n",
              "          dataTable['output_type'] = 'display_data';\n",
              "          await google.colab.output.renderOutput(dataTable, element);\n",
              "          const docLink = document.createElement('div');\n",
              "          docLink.innerHTML = docLinkHtml;\n",
              "          element.appendChild(docLink);\n",
              "        }\n",
              "      </script>\n",
              "    </div>\n",
              "  </div>\n",
              "  "
            ],
            "text/plain": [
              "                                               tweet  ... length of word\n",
              "0  Coronavirus nCoV able to enter and infect huma...  ...           5015\n",
              "1  LatinFinance is making some of its most import...  ...           4398\n",
              "2  And sure enough less than hours later in an at...  ...           3989\n",
              "3  First Covid hotspot in Delhi declared non cont...  ...           3210\n",
              "4  CMAAO Update th February on Corona nCoV confir...  ...           2680\n",
              "\n",
              "[5 rows x 4 columns]"
            ]
          },
          "metadata": {},
          "execution_count": 35
        }
      ]
    },
    {
      "cell_type": "code",
      "source": [
        "(\n",
        "    valDataset\n",
        "    .withColumn('length of char', f.length('tweet'))\n",
        "    .withColumn('length of word', udf(f.col('tweet')))\n",
        "    .orderBy(f.col('length of word').desc(), f.col('length of char').desc())\n",
        "    .toPandas()\n",
        "    .head(5)\n",
        ")"
      ],
      "metadata": {
        "colab": {
          "base_uri": "https://localhost:8080/"
        },
        "outputId": "a077e613-c838-4f05-efa3-051c89e70a84",
        "id": "79hVAiilD-H2"
      },
      "execution_count": null,
      "outputs": [
        {
          "output_type": "execute_result",
          "data": {
            "text/html": [
              "\n",
              "  <div id=\"df-9c7ef6a9-3408-42b7-b939-ec71fb792639\">\n",
              "    <div class=\"colab-df-container\">\n",
              "      <div>\n",
              "<style scoped>\n",
              "    .dataframe tbody tr th:only-of-type {\n",
              "        vertical-align: middle;\n",
              "    }\n",
              "\n",
              "    .dataframe tbody tr th {\n",
              "        vertical-align: top;\n",
              "    }\n",
              "\n",
              "    .dataframe thead th {\n",
              "        text-align: right;\n",
              "    }\n",
              "</style>\n",
              "<table border=\"1\" class=\"dataframe\">\n",
              "  <thead>\n",
              "    <tr style=\"text-align: right;\">\n",
              "      <th></th>\n",
              "      <th>tweet</th>\n",
              "      <th>label</th>\n",
              "      <th>length of char</th>\n",
              "      <th>length of word</th>\n",
              "    </tr>\n",
              "  </thead>\n",
              "  <tbody>\n",
              "    <tr>\n",
              "      <th>0</th>\n",
              "      <td>Coronavirus nCoV able to enter and infect huma...</td>\n",
              "      <td>fake</td>\n",
              "      <td>31316</td>\n",
              "      <td>5015</td>\n",
              "    </tr>\n",
              "    <tr>\n",
              "      <th>1</th>\n",
              "      <td>LatinFinance is making some of its most import...</td>\n",
              "      <td>fake</td>\n",
              "      <td>26765</td>\n",
              "      <td>4398</td>\n",
              "    </tr>\n",
              "    <tr>\n",
              "      <th>2</th>\n",
              "      <td>And sure enough less than hours later in an at...</td>\n",
              "      <td>fake</td>\n",
              "      <td>22883</td>\n",
              "      <td>3989</td>\n",
              "    </tr>\n",
              "    <tr>\n",
              "      <th>3</th>\n",
              "      <td>First Covid hotspot in Delhi declared non cont...</td>\n",
              "      <td>fake</td>\n",
              "      <td>18803</td>\n",
              "      <td>3210</td>\n",
              "    </tr>\n",
              "    <tr>\n",
              "      <th>4</th>\n",
              "      <td>The latest business continuity news from aroun...</td>\n",
              "      <td>real</td>\n",
              "      <td>16121</td>\n",
              "      <td>2713</td>\n",
              "    </tr>\n",
              "  </tbody>\n",
              "</table>\n",
              "</div>\n",
              "      <button class=\"colab-df-convert\" onclick=\"convertToInteractive('df-9c7ef6a9-3408-42b7-b939-ec71fb792639')\"\n",
              "              title=\"Convert this dataframe to an interactive table.\"\n",
              "              style=\"display:none;\">\n",
              "        \n",
              "  <svg xmlns=\"http://www.w3.org/2000/svg\" height=\"24px\"viewBox=\"0 0 24 24\"\n",
              "       width=\"24px\">\n",
              "    <path d=\"M0 0h24v24H0V0z\" fill=\"none\"/>\n",
              "    <path d=\"M18.56 5.44l.94 2.06.94-2.06 2.06-.94-2.06-.94-.94-2.06-.94 2.06-2.06.94zm-11 1L8.5 8.5l.94-2.06 2.06-.94-2.06-.94L8.5 2.5l-.94 2.06-2.06.94zm10 10l.94 2.06.94-2.06 2.06-.94-2.06-.94-.94-2.06-.94 2.06-2.06.94z\"/><path d=\"M17.41 7.96l-1.37-1.37c-.4-.4-.92-.59-1.43-.59-.52 0-1.04.2-1.43.59L10.3 9.45l-7.72 7.72c-.78.78-.78 2.05 0 2.83L4 21.41c.39.39.9.59 1.41.59.51 0 1.02-.2 1.41-.59l7.78-7.78 2.81-2.81c.8-.78.8-2.07 0-2.86zM5.41 20L4 18.59l7.72-7.72 1.47 1.35L5.41 20z\"/>\n",
              "  </svg>\n",
              "      </button>\n",
              "      \n",
              "  <style>\n",
              "    .colab-df-container {\n",
              "      display:flex;\n",
              "      flex-wrap:wrap;\n",
              "      gap: 12px;\n",
              "    }\n",
              "\n",
              "    .colab-df-convert {\n",
              "      background-color: #E8F0FE;\n",
              "      border: none;\n",
              "      border-radius: 50%;\n",
              "      cursor: pointer;\n",
              "      display: none;\n",
              "      fill: #1967D2;\n",
              "      height: 32px;\n",
              "      padding: 0 0 0 0;\n",
              "      width: 32px;\n",
              "    }\n",
              "\n",
              "    .colab-df-convert:hover {\n",
              "      background-color: #E2EBFA;\n",
              "      box-shadow: 0px 1px 2px rgba(60, 64, 67, 0.3), 0px 1px 3px 1px rgba(60, 64, 67, 0.15);\n",
              "      fill: #174EA6;\n",
              "    }\n",
              "\n",
              "    [theme=dark] .colab-df-convert {\n",
              "      background-color: #3B4455;\n",
              "      fill: #D2E3FC;\n",
              "    }\n",
              "\n",
              "    [theme=dark] .colab-df-convert:hover {\n",
              "      background-color: #434B5C;\n",
              "      box-shadow: 0px 1px 3px 1px rgba(0, 0, 0, 0.15);\n",
              "      filter: drop-shadow(0px 1px 2px rgba(0, 0, 0, 0.3));\n",
              "      fill: #FFFFFF;\n",
              "    }\n",
              "  </style>\n",
              "\n",
              "      <script>\n",
              "        const buttonEl =\n",
              "          document.querySelector('#df-9c7ef6a9-3408-42b7-b939-ec71fb792639 button.colab-df-convert');\n",
              "        buttonEl.style.display =\n",
              "          google.colab.kernel.accessAllowed ? 'block' : 'none';\n",
              "\n",
              "        async function convertToInteractive(key) {\n",
              "          const element = document.querySelector('#df-9c7ef6a9-3408-42b7-b939-ec71fb792639');\n",
              "          const dataTable =\n",
              "            await google.colab.kernel.invokeFunction('convertToInteractive',\n",
              "                                                     [key], {});\n",
              "          if (!dataTable) return;\n",
              "\n",
              "          const docLinkHtml = 'Like what you see? Visit the ' +\n",
              "            '<a target=\"_blank\" href=https://colab.research.google.com/notebooks/data_table.ipynb>data table notebook</a>'\n",
              "            + ' to learn more about interactive tables.';\n",
              "          element.innerHTML = '';\n",
              "          dataTable['output_type'] = 'display_data';\n",
              "          await google.colab.output.renderOutput(dataTable, element);\n",
              "          const docLink = document.createElement('div');\n",
              "          docLink.innerHTML = docLinkHtml;\n",
              "          element.appendChild(docLink);\n",
              "        }\n",
              "      </script>\n",
              "    </div>\n",
              "  </div>\n",
              "  "
            ],
            "text/plain": [
              "                                               tweet  ... length of word\n",
              "0  Coronavirus nCoV able to enter and infect huma...  ...           5015\n",
              "1  LatinFinance is making some of its most import...  ...           4398\n",
              "2  And sure enough less than hours later in an at...  ...           3989\n",
              "3  First Covid hotspot in Delhi declared non cont...  ...           3210\n",
              "4  The latest business continuity news from aroun...  ...           2713\n",
              "\n",
              "[5 rows x 4 columns]"
            ]
          },
          "metadata": {},
          "execution_count": 36
        }
      ]
    },
    {
      "cell_type": "code",
      "source": [
        "(\n",
        "    testDataset\n",
        "    .withColumn('length of char', f.length('tweet'))\n",
        "    .withColumn('length of word', udf(f.col('tweet')))\n",
        "    .orderBy(f.col('length of char').desc(), f.col('length of word').desc())\n",
        "    .toPandas()\n",
        "    .head(5)\n",
        ")"
      ],
      "metadata": {
        "colab": {
          "base_uri": "https://localhost:8080/"
        },
        "outputId": "9c76e547-fbbe-4883-cce9-3cf3aeb450f2",
        "id": "8kFbTjJJD-H2"
      },
      "execution_count": null,
      "outputs": [
        {
          "output_type": "execute_result",
          "data": {
            "text/html": [
              "\n",
              "  <div id=\"df-7fea0763-df0b-49e4-a020-58134679bd64\">\n",
              "    <div class=\"colab-df-container\">\n",
              "      <div>\n",
              "<style scoped>\n",
              "    .dataframe tbody tr th:only-of-type {\n",
              "        vertical-align: middle;\n",
              "    }\n",
              "\n",
              "    .dataframe tbody tr th {\n",
              "        vertical-align: top;\n",
              "    }\n",
              "\n",
              "    .dataframe thead th {\n",
              "        text-align: right;\n",
              "    }\n",
              "</style>\n",
              "<table border=\"1\" class=\"dataframe\">\n",
              "  <thead>\n",
              "    <tr style=\"text-align: right;\">\n",
              "      <th></th>\n",
              "      <th>tweet</th>\n",
              "      <th>label</th>\n",
              "      <th>length of char</th>\n",
              "      <th>length of word</th>\n",
              "    </tr>\n",
              "  </thead>\n",
              "  <tbody>\n",
              "    <tr>\n",
              "      <th>0</th>\n",
              "      <td>Another publication suggests that this coronav...</td>\n",
              "      <td>fake</td>\n",
              "      <td>31383</td>\n",
              "      <td>5226</td>\n",
              "    </tr>\n",
              "    <tr>\n",
              "      <th>1</th>\n",
              "      <td>Management of adult cardiac arrest in the COVI...</td>\n",
              "      <td>fake</td>\n",
              "      <td>22809</td>\n",
              "      <td>3476</td>\n",
              "    </tr>\n",
              "    <tr>\n",
              "      <th>2</th>\n",
              "      <td>Mr Speaker Members Many members of this house ...</td>\n",
              "      <td>real</td>\n",
              "      <td>21303</td>\n",
              "      <td>3624</td>\n",
              "    </tr>\n",
              "    <tr>\n",
              "      <th>3</th>\n",
              "      <td>Kerala government declares coronavirus as a st...</td>\n",
              "      <td>real</td>\n",
              "      <td>17574</td>\n",
              "      <td>2898</td>\n",
              "    </tr>\n",
              "    <tr>\n",
              "      <th>4</th>\n",
              "      <td>In the wake of Ebola NVD and Zika we should ha...</td>\n",
              "      <td>real</td>\n",
              "      <td>17232</td>\n",
              "      <td>3130</td>\n",
              "    </tr>\n",
              "  </tbody>\n",
              "</table>\n",
              "</div>\n",
              "      <button class=\"colab-df-convert\" onclick=\"convertToInteractive('df-7fea0763-df0b-49e4-a020-58134679bd64')\"\n",
              "              title=\"Convert this dataframe to an interactive table.\"\n",
              "              style=\"display:none;\">\n",
              "        \n",
              "  <svg xmlns=\"http://www.w3.org/2000/svg\" height=\"24px\"viewBox=\"0 0 24 24\"\n",
              "       width=\"24px\">\n",
              "    <path d=\"M0 0h24v24H0V0z\" fill=\"none\"/>\n",
              "    <path d=\"M18.56 5.44l.94 2.06.94-2.06 2.06-.94-2.06-.94-.94-2.06-.94 2.06-2.06.94zm-11 1L8.5 8.5l.94-2.06 2.06-.94-2.06-.94L8.5 2.5l-.94 2.06-2.06.94zm10 10l.94 2.06.94-2.06 2.06-.94-2.06-.94-.94-2.06-.94 2.06-2.06.94z\"/><path d=\"M17.41 7.96l-1.37-1.37c-.4-.4-.92-.59-1.43-.59-.52 0-1.04.2-1.43.59L10.3 9.45l-7.72 7.72c-.78.78-.78 2.05 0 2.83L4 21.41c.39.39.9.59 1.41.59.51 0 1.02-.2 1.41-.59l7.78-7.78 2.81-2.81c.8-.78.8-2.07 0-2.86zM5.41 20L4 18.59l7.72-7.72 1.47 1.35L5.41 20z\"/>\n",
              "  </svg>\n",
              "      </button>\n",
              "      \n",
              "  <style>\n",
              "    .colab-df-container {\n",
              "      display:flex;\n",
              "      flex-wrap:wrap;\n",
              "      gap: 12px;\n",
              "    }\n",
              "\n",
              "    .colab-df-convert {\n",
              "      background-color: #E8F0FE;\n",
              "      border: none;\n",
              "      border-radius: 50%;\n",
              "      cursor: pointer;\n",
              "      display: none;\n",
              "      fill: #1967D2;\n",
              "      height: 32px;\n",
              "      padding: 0 0 0 0;\n",
              "      width: 32px;\n",
              "    }\n",
              "\n",
              "    .colab-df-convert:hover {\n",
              "      background-color: #E2EBFA;\n",
              "      box-shadow: 0px 1px 2px rgba(60, 64, 67, 0.3), 0px 1px 3px 1px rgba(60, 64, 67, 0.15);\n",
              "      fill: #174EA6;\n",
              "    }\n",
              "\n",
              "    [theme=dark] .colab-df-convert {\n",
              "      background-color: #3B4455;\n",
              "      fill: #D2E3FC;\n",
              "    }\n",
              "\n",
              "    [theme=dark] .colab-df-convert:hover {\n",
              "      background-color: #434B5C;\n",
              "      box-shadow: 0px 1px 3px 1px rgba(0, 0, 0, 0.15);\n",
              "      filter: drop-shadow(0px 1px 2px rgba(0, 0, 0, 0.3));\n",
              "      fill: #FFFFFF;\n",
              "    }\n",
              "  </style>\n",
              "\n",
              "      <script>\n",
              "        const buttonEl =\n",
              "          document.querySelector('#df-7fea0763-df0b-49e4-a020-58134679bd64 button.colab-df-convert');\n",
              "        buttonEl.style.display =\n",
              "          google.colab.kernel.accessAllowed ? 'block' : 'none';\n",
              "\n",
              "        async function convertToInteractive(key) {\n",
              "          const element = document.querySelector('#df-7fea0763-df0b-49e4-a020-58134679bd64');\n",
              "          const dataTable =\n",
              "            await google.colab.kernel.invokeFunction('convertToInteractive',\n",
              "                                                     [key], {});\n",
              "          if (!dataTable) return;\n",
              "\n",
              "          const docLinkHtml = 'Like what you see? Visit the ' +\n",
              "            '<a target=\"_blank\" href=https://colab.research.google.com/notebooks/data_table.ipynb>data table notebook</a>'\n",
              "            + ' to learn more about interactive tables.';\n",
              "          element.innerHTML = '';\n",
              "          dataTable['output_type'] = 'display_data';\n",
              "          await google.colab.output.renderOutput(dataTable, element);\n",
              "          const docLink = document.createElement('div');\n",
              "          docLink.innerHTML = docLinkHtml;\n",
              "          element.appendChild(docLink);\n",
              "        }\n",
              "      </script>\n",
              "    </div>\n",
              "  </div>\n",
              "  "
            ],
            "text/plain": [
              "                                               tweet  ... length of word\n",
              "0  Another publication suggests that this coronav...  ...           5226\n",
              "1  Management of adult cardiac arrest in the COVI...  ...           3476\n",
              "2  Mr Speaker Members Many members of this house ...  ...           3624\n",
              "3  Kerala government declares coronavirus as a st...  ...           2898\n",
              "4  In the wake of Ebola NVD and Zika we should ha...  ...           3130\n",
              "\n",
              "[5 rows x 4 columns]"
            ]
          },
          "metadata": {},
          "execution_count": 37
        }
      ]
    },
    {
      "cell_type": "code",
      "source": [
        "(\n",
        "   testDataset\n",
        "    .withColumn('length of char', f.length('tweet'))\n",
        "    .withColumn('length of word', udf(f.col('tweet')))\n",
        "    .orderBy(f.col('length of word').desc(), f.col('length of char').desc())\n",
        "    .toPandas()\n",
        "    .head(5)\n",
        ")"
      ],
      "metadata": {
        "colab": {
          "base_uri": "https://localhost:8080/"
        },
        "outputId": "be122db8-434e-4eba-87c3-c1eee97bc17f",
        "id": "rdugrOPwD-H2"
      },
      "execution_count": null,
      "outputs": [
        {
          "output_type": "execute_result",
          "data": {
            "text/html": [
              "\n",
              "  <div id=\"df-2905dc48-0909-4773-b2f1-b5ef3ee2a443\">\n",
              "    <div class=\"colab-df-container\">\n",
              "      <div>\n",
              "<style scoped>\n",
              "    .dataframe tbody tr th:only-of-type {\n",
              "        vertical-align: middle;\n",
              "    }\n",
              "\n",
              "    .dataframe tbody tr th {\n",
              "        vertical-align: top;\n",
              "    }\n",
              "\n",
              "    .dataframe thead th {\n",
              "        text-align: right;\n",
              "    }\n",
              "</style>\n",
              "<table border=\"1\" class=\"dataframe\">\n",
              "  <thead>\n",
              "    <tr style=\"text-align: right;\">\n",
              "      <th></th>\n",
              "      <th>tweet</th>\n",
              "      <th>label</th>\n",
              "      <th>length of char</th>\n",
              "      <th>length of word</th>\n",
              "    </tr>\n",
              "  </thead>\n",
              "  <tbody>\n",
              "    <tr>\n",
              "      <th>0</th>\n",
              "      <td>Another publication suggests that this coronav...</td>\n",
              "      <td>fake</td>\n",
              "      <td>31383</td>\n",
              "      <td>5226</td>\n",
              "    </tr>\n",
              "    <tr>\n",
              "      <th>1</th>\n",
              "      <td>Mr Speaker Members Many members of this house ...</td>\n",
              "      <td>real</td>\n",
              "      <td>21303</td>\n",
              "      <td>3624</td>\n",
              "    </tr>\n",
              "    <tr>\n",
              "      <th>2</th>\n",
              "      <td>Management of adult cardiac arrest in the COVI...</td>\n",
              "      <td>fake</td>\n",
              "      <td>22809</td>\n",
              "      <td>3476</td>\n",
              "    </tr>\n",
              "    <tr>\n",
              "      <th>3</th>\n",
              "      <td>In the wake of Ebola NVD and Zika we should ha...</td>\n",
              "      <td>real</td>\n",
              "      <td>17232</td>\n",
              "      <td>3130</td>\n",
              "    </tr>\n",
              "    <tr>\n",
              "      <th>4</th>\n",
              "      <td>Kerala government declares coronavirus as a st...</td>\n",
              "      <td>real</td>\n",
              "      <td>17574</td>\n",
              "      <td>2898</td>\n",
              "    </tr>\n",
              "  </tbody>\n",
              "</table>\n",
              "</div>\n",
              "      <button class=\"colab-df-convert\" onclick=\"convertToInteractive('df-2905dc48-0909-4773-b2f1-b5ef3ee2a443')\"\n",
              "              title=\"Convert this dataframe to an interactive table.\"\n",
              "              style=\"display:none;\">\n",
              "        \n",
              "  <svg xmlns=\"http://www.w3.org/2000/svg\" height=\"24px\"viewBox=\"0 0 24 24\"\n",
              "       width=\"24px\">\n",
              "    <path d=\"M0 0h24v24H0V0z\" fill=\"none\"/>\n",
              "    <path d=\"M18.56 5.44l.94 2.06.94-2.06 2.06-.94-2.06-.94-.94-2.06-.94 2.06-2.06.94zm-11 1L8.5 8.5l.94-2.06 2.06-.94-2.06-.94L8.5 2.5l-.94 2.06-2.06.94zm10 10l.94 2.06.94-2.06 2.06-.94-2.06-.94-.94-2.06-.94 2.06-2.06.94z\"/><path d=\"M17.41 7.96l-1.37-1.37c-.4-.4-.92-.59-1.43-.59-.52 0-1.04.2-1.43.59L10.3 9.45l-7.72 7.72c-.78.78-.78 2.05 0 2.83L4 21.41c.39.39.9.59 1.41.59.51 0 1.02-.2 1.41-.59l7.78-7.78 2.81-2.81c.8-.78.8-2.07 0-2.86zM5.41 20L4 18.59l7.72-7.72 1.47 1.35L5.41 20z\"/>\n",
              "  </svg>\n",
              "      </button>\n",
              "      \n",
              "  <style>\n",
              "    .colab-df-container {\n",
              "      display:flex;\n",
              "      flex-wrap:wrap;\n",
              "      gap: 12px;\n",
              "    }\n",
              "\n",
              "    .colab-df-convert {\n",
              "      background-color: #E8F0FE;\n",
              "      border: none;\n",
              "      border-radius: 50%;\n",
              "      cursor: pointer;\n",
              "      display: none;\n",
              "      fill: #1967D2;\n",
              "      height: 32px;\n",
              "      padding: 0 0 0 0;\n",
              "      width: 32px;\n",
              "    }\n",
              "\n",
              "    .colab-df-convert:hover {\n",
              "      background-color: #E2EBFA;\n",
              "      box-shadow: 0px 1px 2px rgba(60, 64, 67, 0.3), 0px 1px 3px 1px rgba(60, 64, 67, 0.15);\n",
              "      fill: #174EA6;\n",
              "    }\n",
              "\n",
              "    [theme=dark] .colab-df-convert {\n",
              "      background-color: #3B4455;\n",
              "      fill: #D2E3FC;\n",
              "    }\n",
              "\n",
              "    [theme=dark] .colab-df-convert:hover {\n",
              "      background-color: #434B5C;\n",
              "      box-shadow: 0px 1px 3px 1px rgba(0, 0, 0, 0.15);\n",
              "      filter: drop-shadow(0px 1px 2px rgba(0, 0, 0, 0.3));\n",
              "      fill: #FFFFFF;\n",
              "    }\n",
              "  </style>\n",
              "\n",
              "      <script>\n",
              "        const buttonEl =\n",
              "          document.querySelector('#df-2905dc48-0909-4773-b2f1-b5ef3ee2a443 button.colab-df-convert');\n",
              "        buttonEl.style.display =\n",
              "          google.colab.kernel.accessAllowed ? 'block' : 'none';\n",
              "\n",
              "        async function convertToInteractive(key) {\n",
              "          const element = document.querySelector('#df-2905dc48-0909-4773-b2f1-b5ef3ee2a443');\n",
              "          const dataTable =\n",
              "            await google.colab.kernel.invokeFunction('convertToInteractive',\n",
              "                                                     [key], {});\n",
              "          if (!dataTable) return;\n",
              "\n",
              "          const docLinkHtml = 'Like what you see? Visit the ' +\n",
              "            '<a target=\"_blank\" href=https://colab.research.google.com/notebooks/data_table.ipynb>data table notebook</a>'\n",
              "            + ' to learn more about interactive tables.';\n",
              "          element.innerHTML = '';\n",
              "          dataTable['output_type'] = 'display_data';\n",
              "          await google.colab.output.renderOutput(dataTable, element);\n",
              "          const docLink = document.createElement('div');\n",
              "          docLink.innerHTML = docLinkHtml;\n",
              "          element.appendChild(docLink);\n",
              "        }\n",
              "      </script>\n",
              "    </div>\n",
              "  </div>\n",
              "  "
            ],
            "text/plain": [
              "                                               tweet  ... length of word\n",
              "0  Another publication suggests that this coronav...  ...           5226\n",
              "1  Mr Speaker Members Many members of this house ...  ...           3624\n",
              "2  Management of adult cardiac arrest in the COVI...  ...           3476\n",
              "3  In the wake of Ebola NVD and Zika we should ha...  ...           3130\n",
              "4  Kerala government declares coronavirus as a st...  ...           2898\n",
              "\n",
              "[5 rows x 4 columns]"
            ]
          },
          "metadata": {},
          "execution_count": 38
        }
      ]
    },
    {
      "cell_type": "markdown",
      "source": [
        "### Set up"
      ],
      "metadata": {
        "id": "3Iq71cB6EAXi"
      }
    },
    {
      "cell_type": "code",
      "source": [
        "batch_size = 64\n",
        "epochs = 100\n",
        "lr = 5e-3\n",
        "dropout = 0.5"
      ],
      "metadata": {
        "id": "CXUDJYFJbZek"
      },
      "execution_count": null,
      "outputs": []
    },
    {
      "cell_type": "markdown",
      "source": [
        "## Step 5"
      ],
      "metadata": {
        "id": "m-ciTllKHezJ"
      }
    },
    {
      "cell_type": "code",
      "source": [
        "document_assembler = DocumentAssembler() \\\n",
        "    .setInputCol(\"tweet\") \\\n",
        "    .setOutputCol(\"document\")\n",
        "\n",
        "# convert document to array of tokens\n",
        "tokenizer = Tokenizer() \\\n",
        "  .setInputCols([\"document\"]) \\\n",
        "  .setOutputCol(\"token\")\n",
        " \n",
        "# clean tokens \n",
        "normalizer = Normalizer() \\\n",
        "    .setInputCols([\"token\"]) \\\n",
        "    .setOutputCol(\"token\")\n",
        "\n",
        "# remove stopwords\n",
        "stopwords_cleaner = StopWordsCleaner()\\\n",
        "      .setInputCols(\"token\")\\\n",
        "      .setOutputCol(\"token\")\\\n",
        "      .setCaseSensitive(False)\n",
        "\n",
        "lemma = Lemmatizer() \\\n",
        "    .setInputCols([\"token\"]) \\\n",
        "    .setOutputCol(\"token\") \\\n",
        "    .setDictionary(\"/content/AntBNC_lemmas_ver_001.txt\", \"->\", \"\\t\")    \n",
        "\n",
        "custom_embeddings = WordEmbeddings()\\\n",
        "    .setInputCols([\"document\", \"token\"])\\\n",
        "    .setOutputCol(\"embeddings\")\\\n",
        "    .setStoragePath('/content/data/glove.840B.300d.txt', \"TEXT\")\\\n",
        "    .setDimension(300)\n",
        "\n",
        "tokenAssembler = TokenAssembler() \\\n",
        "    .setInputCols([\"document\", \"token\"]) \\\n",
        "    .setOutputCol(\"document\")    \n",
        "\n",
        "# convert labels (string) to integers. Easy to process compared to string.\n",
        "label_stringIdx = StringIndexer(\n",
        "    inputCol = \"label\", \n",
        "    outputCol = \"category\"\n",
        ")\n",
        "\n",
        "embeddingsSentence = SentenceEmbeddings() \\\n",
        "    .setInputCols([\"document\", \"embeddings\"]) \\\n",
        "    .setOutputCol(\"embeddings\") \\\n",
        "    .setPoolingStrategy(\"AVERAGE\")\n",
        "\n",
        "docClassifier = ClassifierDLApproach() \\\n",
        "    .setInputCols(\"embeddings\") \\\n",
        "    .setOutputCol(\"prediction\") \\\n",
        "    .setLabelColumn(\"category\") \\\n",
        "    .setBatchSize(batch_size) \\\n",
        "    .setMaxEpochs(epochs) \\\n",
        "    .setLr(lr) \\\n",
        "    .setDropout(dropout)\n",
        "\n",
        "# define the nlp pipeline\n",
        "pipeline = Pipeline(\n",
        "    stages=[document_assembler, \n",
        "            tokenizer,  \n",
        "            normalizer,\n",
        "            stopwords_cleaner, \n",
        "            lemma, \n",
        "            custom_embeddings,\n",
        "            tokenAssembler,\n",
        "            embeddingsSentence,\n",
        "            label_stringIdx,\n",
        "            docClassifier,])"
      ],
      "metadata": {
        "id": "hdXGK48iq-0J"
      },
      "execution_count": null,
      "outputs": []
    },
    {
      "cell_type": "code",
      "source": [
        "%%time\n",
        "pipelineModel = pipeline.fit(trainDataset)"
      ],
      "metadata": {
        "id": "RCfsdv0IbwjD",
        "colab": {
          "base_uri": "https://localhost:8080/"
        },
        "outputId": "fbe39990-577e-491a-99ec-b700634bd985"
      },
      "execution_count": null,
      "outputs": [
        {
          "output_type": "stream",
          "name": "stdout",
          "text": [
            "CPU times: user 3.17 s, sys: 374 ms, total: 3.54 s\n",
            "Wall time: 13min 26s\n"
          ]
        }
      ]
    },
    {
      "cell_type": "code",
      "source": [
        "print(pipelineModel.stages[8].labels)\n",
        "\n",
        "label_to_stringIdx = IndexToString(\n",
        "    inputCol=\"prediction\", \n",
        "    outputCol=\"text_prediction\",\n",
        "    labels=pipelineModel.stages[8].labels\n",
        ")"
      ],
      "metadata": {
        "id": "qXDDaJK6GsjI",
        "colab": {
          "base_uri": "https://localhost:8080/"
        },
        "outputId": "ca9dfc2c-ab49-42d3-ba12-9d7a5b872827"
      },
      "execution_count": null,
      "outputs": [
        {
          "output_type": "stream",
          "name": "stdout",
          "text": [
            "['real', 'fake']\n"
          ]
        }
      ]
    },
    {
      "cell_type": "markdown",
      "source": [
        "## Step 6"
      ],
      "metadata": {
        "id": "sAwP89WbTPkN"
      }
    },
    {
      "cell_type": "code",
      "source": [
        "def Validation(model, dataset):\n",
        "  DF = model.transform(dataset).withColumn('prediction', f.col(\"prediction.result\"))\n",
        "  DF = DF.select(\n",
        "    'category',\n",
        "    f.col('document.result').alias('document'),\n",
        "    'prediction'\n",
        "  )\n",
        "  DF.show(5)\n",
        "\n",
        "  udf = f.udf(lambda x: float(x[0]), DoubleType())\n",
        "\n",
        "  DF = DF.withColumn('prediction', udf(f.col('prediction')))\n",
        "\n",
        "  evaluator = MulticlassClassificationEvaluator(labelCol='category', metricName='accuracy')\n",
        "  accuracy = evaluator.evaluate(DF)\n",
        "  print(accuracy)"
      ],
      "metadata": {
        "id": "tLL7NPGmksAk"
      },
      "execution_count": null,
      "outputs": []
    },
    {
      "cell_type": "code",
      "source": [
        "%%time\n",
        "Validation(pipelineModel, trainDataset)"
      ],
      "metadata": {
        "id": "-an-aTr5lsdy",
        "colab": {
          "base_uri": "https://localhost:8080/"
        },
        "outputId": "5b70ad5e-4682-4bfe-f0db-45f7fc417853"
      },
      "execution_count": null,
      "outputs": [
        {
          "output_type": "stream",
          "name": "stdout",
          "text": [
            "+--------+--------------------+----------+\n",
            "|category|            document|prediction|\n",
            "+--------+--------------------+----------+\n",
            "|     0.0|[CDC currently re...|     [0.0]|\n",
            "|     0.0|[States report de...|     [0.0]|\n",
            "|     1.0|[Politically Corr...|     [1.0]|\n",
            "|     0.0|[IndiaFightsCoron...|     [0.0]|\n",
            "|     0.0|[Populous state g...|     [0.0]|\n",
            "+--------+--------------------+----------+\n",
            "only showing top 5 rows\n",
            "\n",
            "0.9219858156028369\n",
            "CPU times: user 1.04 s, sys: 114 ms, total: 1.16 s\n",
            "Wall time: 4min 7s\n"
          ]
        }
      ]
    },
    {
      "cell_type": "code",
      "source": [
        "%%time\n",
        "Validation(pipelineModel, valDataset)"
      ],
      "metadata": {
        "id": "KfOFT-rOm5P-",
        "colab": {
          "base_uri": "https://localhost:8080/"
        },
        "outputId": "91afa6c4-d7b0-4ca1-cbfc-8fed53929ed4"
      },
      "execution_count": null,
      "outputs": [
        {
          "output_type": "stream",
          "name": "stdout",
          "text": [
            "+--------+--------------------+----------+\n",
            "|category|            document|prediction|\n",
            "+--------+--------------------+----------+\n",
            "|     1.0|[Chinese convert ...|     [1.0]|\n",
            "|     1.0|[people Diamond P...|     [0.0]|\n",
            "|     1.0|[COVID Caused Bac...|     [1.0]|\n",
            "|     1.0|[Mike Pence RNC s...|     [1.0]|\n",
            "|     0.0|[Sky EdConwaySky ...|     [0.0]|\n",
            "+--------+--------------------+----------+\n",
            "only showing top 5 rows\n",
            "\n",
            "0.8318789994182665\n",
            "CPU times: user 248 ms, sys: 33.3 ms, total: 281 ms\n",
            "Wall time: 45.3 s\n"
          ]
        }
      ]
    },
    {
      "cell_type": "code",
      "source": [
        "%%time\n",
        "Validation(pipelineModel, testDataset)"
      ],
      "metadata": {
        "id": "rzBww2PNJriv",
        "colab": {
          "base_uri": "https://localhost:8080/"
        },
        "outputId": "14b8a487-c625-4a30-c29e-22887acef1c8"
      },
      "execution_count": null,
      "outputs": [
        {
          "output_type": "stream",
          "name": "stdout",
          "text": [
            "+--------+--------------------+----------+\n",
            "|category|            document|prediction|\n",
            "+--------+--------------------+----------+\n",
            "|     0.0|[daily update pub...|     [0.0]|\n",
            "|     1.0|[Alfalfa cure COVID]|     [1.0]|\n",
            "|     1.0|[President Trump ...|     [1.0]|\n",
            "|     0.0|[States report de...|     [0.0]|\n",
            "|     0.0|[sixth time globa...|     [0.0]|\n",
            "+--------+--------------------+----------+\n",
            "only showing top 5 rows\n",
            "\n",
            "0.8030575539568345\n",
            "CPU times: user 249 ms, sys: 26.8 ms, total: 276 ms\n",
            "Wall time: 43.4 s\n"
          ]
        }
      ]
    },
    {
      "cell_type": "markdown",
      "source": [
        "## Step 7"
      ],
      "metadata": {
        "id": "doTp3tunTkYH"
      }
    },
    {
      "cell_type": "code",
      "source": [
        "# testDF = pipelineModel.transform(testDataset).withColumn('prediction', f.col(\"prediction.result\"))\n",
        "# testDF.show(5)"
      ],
      "metadata": {
        "id": "HaMqZOMr36I5"
      },
      "execution_count": null,
      "outputs": []
    },
    {
      "cell_type": "code",
      "source": [
        "# udf = f.udf(lambda x: float(x[0]), DoubleType())\n",
        "# testDF = testDF.withColumn('prediction', udf(f.col('prediction')))\n",
        "# testDF = label_to_stringIdx.transform(testDF)\n",
        "# testDF.select('id', 'tweet', 'text_prediction').show(5, truncate=False)"
      ],
      "metadata": {
        "id": "hVxYmt_YRgAr"
      },
      "execution_count": null,
      "outputs": []
    },
    {
      "cell_type": "markdown",
      "source": [
        "## Step 8"
      ],
      "metadata": {
        "id": "2DE3cok8wW4g"
      }
    },
    {
      "cell_type": "markdown",
      "source": [
        "### Save model"
      ],
      "metadata": {
        "id": "7tTYgtZoTgun"
      }
    },
    {
      "cell_type": "code",
      "source": [
        "pipelineModel.write().overwrite().save('FakeNewsCovidDL')"
      ],
      "metadata": {
        "id": "NPNE4snHwZIO"
      },
      "execution_count": null,
      "outputs": []
    },
    {
      "cell_type": "code",
      "source": [
        "!cp -av '/content/FakeNewsCovidDL' '/content/gdrive/MyDrive/Colab Notebooks/BigData/models/'"
      ],
      "metadata": {
        "id": "lb66_tW2yvjW",
        "colab": {
          "base_uri": "https://localhost:8080/"
        },
        "outputId": "ddd03545-a1a2-4189-8b34-463ac006804e"
      },
      "execution_count": null,
      "outputs": [
        {
          "output_type": "stream",
          "name": "stdout",
          "text": [
            "'/content/FakeNewsCovidDL' -> '/content/gdrive/MyDrive/Colab Notebooks/BigData/models/FakeNewsCovidDL'\n",
            "'/content/FakeNewsCovidDL/metadata' -> '/content/gdrive/MyDrive/Colab Notebooks/BigData/models/FakeNewsCovidDL/metadata'\n",
            "'/content/FakeNewsCovidDL/metadata/_SUCCESS' -> '/content/gdrive/MyDrive/Colab Notebooks/BigData/models/FakeNewsCovidDL/metadata/_SUCCESS'\n",
            "'/content/FakeNewsCovidDL/metadata/._SUCCESS.crc' -> '/content/gdrive/MyDrive/Colab Notebooks/BigData/models/FakeNewsCovidDL/metadata/._SUCCESS.crc'\n",
            "'/content/FakeNewsCovidDL/metadata/part-00000' -> '/content/gdrive/MyDrive/Colab Notebooks/BigData/models/FakeNewsCovidDL/metadata/part-00000'\n",
            "'/content/FakeNewsCovidDL/metadata/.part-00000.crc' -> '/content/gdrive/MyDrive/Colab Notebooks/BigData/models/FakeNewsCovidDL/metadata/.part-00000.crc'\n",
            "'/content/FakeNewsCovidDL/stages' -> '/content/gdrive/MyDrive/Colab Notebooks/BigData/models/FakeNewsCovidDL/stages'\n",
            "'/content/FakeNewsCovidDL/stages/00_DocumentAssembler_9b25fcefa138' -> '/content/gdrive/MyDrive/Colab Notebooks/BigData/models/FakeNewsCovidDL/stages/00_DocumentAssembler_9b25fcefa138'\n",
            "'/content/FakeNewsCovidDL/stages/00_DocumentAssembler_9b25fcefa138/metadata' -> '/content/gdrive/MyDrive/Colab Notebooks/BigData/models/FakeNewsCovidDL/stages/00_DocumentAssembler_9b25fcefa138/metadata'\n",
            "'/content/FakeNewsCovidDL/stages/00_DocumentAssembler_9b25fcefa138/metadata/_SUCCESS' -> '/content/gdrive/MyDrive/Colab Notebooks/BigData/models/FakeNewsCovidDL/stages/00_DocumentAssembler_9b25fcefa138/metadata/_SUCCESS'\n",
            "'/content/FakeNewsCovidDL/stages/00_DocumentAssembler_9b25fcefa138/metadata/._SUCCESS.crc' -> '/content/gdrive/MyDrive/Colab Notebooks/BigData/models/FakeNewsCovidDL/stages/00_DocumentAssembler_9b25fcefa138/metadata/._SUCCESS.crc'\n",
            "'/content/FakeNewsCovidDL/stages/00_DocumentAssembler_9b25fcefa138/metadata/part-00000' -> '/content/gdrive/MyDrive/Colab Notebooks/BigData/models/FakeNewsCovidDL/stages/00_DocumentAssembler_9b25fcefa138/metadata/part-00000'\n",
            "'/content/FakeNewsCovidDL/stages/00_DocumentAssembler_9b25fcefa138/metadata/.part-00000.crc' -> '/content/gdrive/MyDrive/Colab Notebooks/BigData/models/FakeNewsCovidDL/stages/00_DocumentAssembler_9b25fcefa138/metadata/.part-00000.crc'\n",
            "'/content/FakeNewsCovidDL/stages/01_REGEX_TOKENIZER_e13f3e8c3b5f' -> '/content/gdrive/MyDrive/Colab Notebooks/BigData/models/FakeNewsCovidDL/stages/01_REGEX_TOKENIZER_e13f3e8c3b5f'\n",
            "'/content/FakeNewsCovidDL/stages/01_REGEX_TOKENIZER_e13f3e8c3b5f/metadata' -> '/content/gdrive/MyDrive/Colab Notebooks/BigData/models/FakeNewsCovidDL/stages/01_REGEX_TOKENIZER_e13f3e8c3b5f/metadata'\n",
            "'/content/FakeNewsCovidDL/stages/01_REGEX_TOKENIZER_e13f3e8c3b5f/metadata/_SUCCESS' -> '/content/gdrive/MyDrive/Colab Notebooks/BigData/models/FakeNewsCovidDL/stages/01_REGEX_TOKENIZER_e13f3e8c3b5f/metadata/_SUCCESS'\n",
            "'/content/FakeNewsCovidDL/stages/01_REGEX_TOKENIZER_e13f3e8c3b5f/metadata/._SUCCESS.crc' -> '/content/gdrive/MyDrive/Colab Notebooks/BigData/models/FakeNewsCovidDL/stages/01_REGEX_TOKENIZER_e13f3e8c3b5f/metadata/._SUCCESS.crc'\n",
            "'/content/FakeNewsCovidDL/stages/01_REGEX_TOKENIZER_e13f3e8c3b5f/metadata/part-00000' -> '/content/gdrive/MyDrive/Colab Notebooks/BigData/models/FakeNewsCovidDL/stages/01_REGEX_TOKENIZER_e13f3e8c3b5f/metadata/part-00000'\n",
            "'/content/FakeNewsCovidDL/stages/01_REGEX_TOKENIZER_e13f3e8c3b5f/metadata/.part-00000.crc' -> '/content/gdrive/MyDrive/Colab Notebooks/BigData/models/FakeNewsCovidDL/stages/01_REGEX_TOKENIZER_e13f3e8c3b5f/metadata/.part-00000.crc'\n",
            "'/content/FakeNewsCovidDL/stages/01_REGEX_TOKENIZER_e13f3e8c3b5f/fields' -> '/content/gdrive/MyDrive/Colab Notebooks/BigData/models/FakeNewsCovidDL/stages/01_REGEX_TOKENIZER_e13f3e8c3b5f/fields'\n",
            "'/content/FakeNewsCovidDL/stages/01_REGEX_TOKENIZER_e13f3e8c3b5f/fields/rules' -> '/content/gdrive/MyDrive/Colab Notebooks/BigData/models/FakeNewsCovidDL/stages/01_REGEX_TOKENIZER_e13f3e8c3b5f/fields/rules'\n",
            "'/content/FakeNewsCovidDL/stages/01_REGEX_TOKENIZER_e13f3e8c3b5f/fields/rules/_SUCCESS' -> '/content/gdrive/MyDrive/Colab Notebooks/BigData/models/FakeNewsCovidDL/stages/01_REGEX_TOKENIZER_e13f3e8c3b5f/fields/rules/_SUCCESS'\n",
            "'/content/FakeNewsCovidDL/stages/01_REGEX_TOKENIZER_e13f3e8c3b5f/fields/rules/._SUCCESS.crc' -> '/content/gdrive/MyDrive/Colab Notebooks/BigData/models/FakeNewsCovidDL/stages/01_REGEX_TOKENIZER_e13f3e8c3b5f/fields/rules/._SUCCESS.crc'\n",
            "'/content/FakeNewsCovidDL/stages/01_REGEX_TOKENIZER_e13f3e8c3b5f/fields/rules/part-00001' -> '/content/gdrive/MyDrive/Colab Notebooks/BigData/models/FakeNewsCovidDL/stages/01_REGEX_TOKENIZER_e13f3e8c3b5f/fields/rules/part-00001'\n",
            "'/content/FakeNewsCovidDL/stages/01_REGEX_TOKENIZER_e13f3e8c3b5f/fields/rules/.part-00001.crc' -> '/content/gdrive/MyDrive/Colab Notebooks/BigData/models/FakeNewsCovidDL/stages/01_REGEX_TOKENIZER_e13f3e8c3b5f/fields/rules/.part-00001.crc'\n",
            "'/content/FakeNewsCovidDL/stages/01_REGEX_TOKENIZER_e13f3e8c3b5f/fields/rules/part-00000' -> '/content/gdrive/MyDrive/Colab Notebooks/BigData/models/FakeNewsCovidDL/stages/01_REGEX_TOKENIZER_e13f3e8c3b5f/fields/rules/part-00000'\n",
            "'/content/FakeNewsCovidDL/stages/01_REGEX_TOKENIZER_e13f3e8c3b5f/fields/rules/.part-00000.crc' -> '/content/gdrive/MyDrive/Colab Notebooks/BigData/models/FakeNewsCovidDL/stages/01_REGEX_TOKENIZER_e13f3e8c3b5f/fields/rules/.part-00000.crc'\n",
            "'/content/FakeNewsCovidDL/stages/02_NORMALIZER_7f45eeea022b' -> '/content/gdrive/MyDrive/Colab Notebooks/BigData/models/FakeNewsCovidDL/stages/02_NORMALIZER_7f45eeea022b'\n",
            "'/content/FakeNewsCovidDL/stages/02_NORMALIZER_7f45eeea022b/metadata' -> '/content/gdrive/MyDrive/Colab Notebooks/BigData/models/FakeNewsCovidDL/stages/02_NORMALIZER_7f45eeea022b/metadata'\n",
            "'/content/FakeNewsCovidDL/stages/02_NORMALIZER_7f45eeea022b/metadata/_SUCCESS' -> '/content/gdrive/MyDrive/Colab Notebooks/BigData/models/FakeNewsCovidDL/stages/02_NORMALIZER_7f45eeea022b/metadata/_SUCCESS'\n",
            "'/content/FakeNewsCovidDL/stages/02_NORMALIZER_7f45eeea022b/metadata/._SUCCESS.crc' -> '/content/gdrive/MyDrive/Colab Notebooks/BigData/models/FakeNewsCovidDL/stages/02_NORMALIZER_7f45eeea022b/metadata/._SUCCESS.crc'\n",
            "'/content/FakeNewsCovidDL/stages/02_NORMALIZER_7f45eeea022b/metadata/part-00000' -> '/content/gdrive/MyDrive/Colab Notebooks/BigData/models/FakeNewsCovidDL/stages/02_NORMALIZER_7f45eeea022b/metadata/part-00000'\n",
            "'/content/FakeNewsCovidDL/stages/02_NORMALIZER_7f45eeea022b/metadata/.part-00000.crc' -> '/content/gdrive/MyDrive/Colab Notebooks/BigData/models/FakeNewsCovidDL/stages/02_NORMALIZER_7f45eeea022b/metadata/.part-00000.crc'\n",
            "'/content/FakeNewsCovidDL/stages/02_NORMALIZER_7f45eeea022b/fields' -> '/content/gdrive/MyDrive/Colab Notebooks/BigData/models/FakeNewsCovidDL/stages/02_NORMALIZER_7f45eeea022b/fields'\n",
            "'/content/FakeNewsCovidDL/stages/02_NORMALIZER_7f45eeea022b/fields/slangDict' -> '/content/gdrive/MyDrive/Colab Notebooks/BigData/models/FakeNewsCovidDL/stages/02_NORMALIZER_7f45eeea022b/fields/slangDict'\n",
            "'/content/FakeNewsCovidDL/stages/02_NORMALIZER_7f45eeea022b/fields/slangDict/_SUCCESS' -> '/content/gdrive/MyDrive/Colab Notebooks/BigData/models/FakeNewsCovidDL/stages/02_NORMALIZER_7f45eeea022b/fields/slangDict/_SUCCESS'\n",
            "'/content/FakeNewsCovidDL/stages/02_NORMALIZER_7f45eeea022b/fields/slangDict/._SUCCESS.crc' -> '/content/gdrive/MyDrive/Colab Notebooks/BigData/models/FakeNewsCovidDL/stages/02_NORMALIZER_7f45eeea022b/fields/slangDict/._SUCCESS.crc'\n",
            "'/content/FakeNewsCovidDL/stages/02_NORMALIZER_7f45eeea022b/fields/slangDict/part-00000' -> '/content/gdrive/MyDrive/Colab Notebooks/BigData/models/FakeNewsCovidDL/stages/02_NORMALIZER_7f45eeea022b/fields/slangDict/part-00000'\n",
            "'/content/FakeNewsCovidDL/stages/02_NORMALIZER_7f45eeea022b/fields/slangDict/part-00001' -> '/content/gdrive/MyDrive/Colab Notebooks/BigData/models/FakeNewsCovidDL/stages/02_NORMALIZER_7f45eeea022b/fields/slangDict/part-00001'\n",
            "'/content/FakeNewsCovidDL/stages/02_NORMALIZER_7f45eeea022b/fields/slangDict/.part-00000.crc' -> '/content/gdrive/MyDrive/Colab Notebooks/BigData/models/FakeNewsCovidDL/stages/02_NORMALIZER_7f45eeea022b/fields/slangDict/.part-00000.crc'\n",
            "'/content/FakeNewsCovidDL/stages/02_NORMALIZER_7f45eeea022b/fields/slangDict/.part-00001.crc' -> '/content/gdrive/MyDrive/Colab Notebooks/BigData/models/FakeNewsCovidDL/stages/02_NORMALIZER_7f45eeea022b/fields/slangDict/.part-00001.crc'\n",
            "'/content/FakeNewsCovidDL/stages/03_StopWordsCleaner_9284ba85398f' -> '/content/gdrive/MyDrive/Colab Notebooks/BigData/models/FakeNewsCovidDL/stages/03_StopWordsCleaner_9284ba85398f'\n",
            "'/content/FakeNewsCovidDL/stages/03_StopWordsCleaner_9284ba85398f/metadata' -> '/content/gdrive/MyDrive/Colab Notebooks/BigData/models/FakeNewsCovidDL/stages/03_StopWordsCleaner_9284ba85398f/metadata'\n",
            "'/content/FakeNewsCovidDL/stages/03_StopWordsCleaner_9284ba85398f/metadata/_SUCCESS' -> '/content/gdrive/MyDrive/Colab Notebooks/BigData/models/FakeNewsCovidDL/stages/03_StopWordsCleaner_9284ba85398f/metadata/_SUCCESS'\n",
            "'/content/FakeNewsCovidDL/stages/03_StopWordsCleaner_9284ba85398f/metadata/._SUCCESS.crc' -> '/content/gdrive/MyDrive/Colab Notebooks/BigData/models/FakeNewsCovidDL/stages/03_StopWordsCleaner_9284ba85398f/metadata/._SUCCESS.crc'\n",
            "'/content/FakeNewsCovidDL/stages/03_StopWordsCleaner_9284ba85398f/metadata/part-00000' -> '/content/gdrive/MyDrive/Colab Notebooks/BigData/models/FakeNewsCovidDL/stages/03_StopWordsCleaner_9284ba85398f/metadata/part-00000'\n",
            "'/content/FakeNewsCovidDL/stages/03_StopWordsCleaner_9284ba85398f/metadata/.part-00000.crc' -> '/content/gdrive/MyDrive/Colab Notebooks/BigData/models/FakeNewsCovidDL/stages/03_StopWordsCleaner_9284ba85398f/metadata/.part-00000.crc'\n",
            "'/content/FakeNewsCovidDL/stages/04_LEMMATIZER_c7bd023e7766' -> '/content/gdrive/MyDrive/Colab Notebooks/BigData/models/FakeNewsCovidDL/stages/04_LEMMATIZER_c7bd023e7766'\n",
            "'/content/FakeNewsCovidDL/stages/04_LEMMATIZER_c7bd023e7766/metadata' -> '/content/gdrive/MyDrive/Colab Notebooks/BigData/models/FakeNewsCovidDL/stages/04_LEMMATIZER_c7bd023e7766/metadata'\n",
            "'/content/FakeNewsCovidDL/stages/04_LEMMATIZER_c7bd023e7766/metadata/_SUCCESS' -> '/content/gdrive/MyDrive/Colab Notebooks/BigData/models/FakeNewsCovidDL/stages/04_LEMMATIZER_c7bd023e7766/metadata/_SUCCESS'\n",
            "'/content/FakeNewsCovidDL/stages/04_LEMMATIZER_c7bd023e7766/metadata/._SUCCESS.crc' -> '/content/gdrive/MyDrive/Colab Notebooks/BigData/models/FakeNewsCovidDL/stages/04_LEMMATIZER_c7bd023e7766/metadata/._SUCCESS.crc'\n",
            "'/content/FakeNewsCovidDL/stages/04_LEMMATIZER_c7bd023e7766/metadata/part-00000' -> '/content/gdrive/MyDrive/Colab Notebooks/BigData/models/FakeNewsCovidDL/stages/04_LEMMATIZER_c7bd023e7766/metadata/part-00000'\n",
            "'/content/FakeNewsCovidDL/stages/04_LEMMATIZER_c7bd023e7766/metadata/.part-00000.crc' -> '/content/gdrive/MyDrive/Colab Notebooks/BigData/models/FakeNewsCovidDL/stages/04_LEMMATIZER_c7bd023e7766/metadata/.part-00000.crc'\n",
            "'/content/FakeNewsCovidDL/stages/04_LEMMATIZER_c7bd023e7766/fields' -> '/content/gdrive/MyDrive/Colab Notebooks/BigData/models/FakeNewsCovidDL/stages/04_LEMMATIZER_c7bd023e7766/fields'\n",
            "'/content/FakeNewsCovidDL/stages/04_LEMMATIZER_c7bd023e7766/fields/lemmaDict' -> '/content/gdrive/MyDrive/Colab Notebooks/BigData/models/FakeNewsCovidDL/stages/04_LEMMATIZER_c7bd023e7766/fields/lemmaDict'\n",
            "'/content/FakeNewsCovidDL/stages/04_LEMMATIZER_c7bd023e7766/fields/lemmaDict/_SUCCESS' -> '/content/gdrive/MyDrive/Colab Notebooks/BigData/models/FakeNewsCovidDL/stages/04_LEMMATIZER_c7bd023e7766/fields/lemmaDict/_SUCCESS'\n",
            "'/content/FakeNewsCovidDL/stages/04_LEMMATIZER_c7bd023e7766/fields/lemmaDict/._SUCCESS.crc' -> '/content/gdrive/MyDrive/Colab Notebooks/BigData/models/FakeNewsCovidDL/stages/04_LEMMATIZER_c7bd023e7766/fields/lemmaDict/._SUCCESS.crc'\n",
            "'/content/FakeNewsCovidDL/stages/04_LEMMATIZER_c7bd023e7766/fields/lemmaDict/part-00001' -> '/content/gdrive/MyDrive/Colab Notebooks/BigData/models/FakeNewsCovidDL/stages/04_LEMMATIZER_c7bd023e7766/fields/lemmaDict/part-00001'\n",
            "'/content/FakeNewsCovidDL/stages/04_LEMMATIZER_c7bd023e7766/fields/lemmaDict/.part-00001.crc' -> '/content/gdrive/MyDrive/Colab Notebooks/BigData/models/FakeNewsCovidDL/stages/04_LEMMATIZER_c7bd023e7766/fields/lemmaDict/.part-00001.crc'\n",
            "'/content/FakeNewsCovidDL/stages/04_LEMMATIZER_c7bd023e7766/fields/lemmaDict/part-00000' -> '/content/gdrive/MyDrive/Colab Notebooks/BigData/models/FakeNewsCovidDL/stages/04_LEMMATIZER_c7bd023e7766/fields/lemmaDict/part-00000'\n",
            "'/content/FakeNewsCovidDL/stages/04_LEMMATIZER_c7bd023e7766/fields/lemmaDict/.part-00000.crc' -> '/content/gdrive/MyDrive/Colab Notebooks/BigData/models/FakeNewsCovidDL/stages/04_LEMMATIZER_c7bd023e7766/fields/lemmaDict/.part-00000.crc'\n",
            "'/content/FakeNewsCovidDL/stages/05_WORD_EMBEDDINGS_MODEL_1155c38d85be' -> '/content/gdrive/MyDrive/Colab Notebooks/BigData/models/FakeNewsCovidDL/stages/05_WORD_EMBEDDINGS_MODEL_1155c38d85be'\n",
            "'/content/FakeNewsCovidDL/stages/05_WORD_EMBEDDINGS_MODEL_1155c38d85be/metadata' -> '/content/gdrive/MyDrive/Colab Notebooks/BigData/models/FakeNewsCovidDL/stages/05_WORD_EMBEDDINGS_MODEL_1155c38d85be/metadata'\n",
            "'/content/FakeNewsCovidDL/stages/05_WORD_EMBEDDINGS_MODEL_1155c38d85be/metadata/_SUCCESS' -> '/content/gdrive/MyDrive/Colab Notebooks/BigData/models/FakeNewsCovidDL/stages/05_WORD_EMBEDDINGS_MODEL_1155c38d85be/metadata/_SUCCESS'\n",
            "'/content/FakeNewsCovidDL/stages/05_WORD_EMBEDDINGS_MODEL_1155c38d85be/metadata/._SUCCESS.crc' -> '/content/gdrive/MyDrive/Colab Notebooks/BigData/models/FakeNewsCovidDL/stages/05_WORD_EMBEDDINGS_MODEL_1155c38d85be/metadata/._SUCCESS.crc'\n",
            "'/content/FakeNewsCovidDL/stages/05_WORD_EMBEDDINGS_MODEL_1155c38d85be/metadata/part-00000' -> '/content/gdrive/MyDrive/Colab Notebooks/BigData/models/FakeNewsCovidDL/stages/05_WORD_EMBEDDINGS_MODEL_1155c38d85be/metadata/part-00000'\n",
            "'/content/FakeNewsCovidDL/stages/05_WORD_EMBEDDINGS_MODEL_1155c38d85be/metadata/.part-00000.crc' -> '/content/gdrive/MyDrive/Colab Notebooks/BigData/models/FakeNewsCovidDL/stages/05_WORD_EMBEDDINGS_MODEL_1155c38d85be/metadata/.part-00000.crc'\n",
            "'/content/FakeNewsCovidDL/stages/05_WORD_EMBEDDINGS_MODEL_1155c38d85be/storage' -> '/content/gdrive/MyDrive/Colab Notebooks/BigData/models/FakeNewsCovidDL/stages/05_WORD_EMBEDDINGS_MODEL_1155c38d85be/storage'\n",
            "'/content/FakeNewsCovidDL/stages/05_WORD_EMBEDDINGS_MODEL_1155c38d85be/storage/EMBEDDINGS_WordEmbeddings_63e7a53eddbf' -> '/content/gdrive/MyDrive/Colab Notebooks/BigData/models/FakeNewsCovidDL/stages/05_WORD_EMBEDDINGS_MODEL_1155c38d85be/storage/EMBEDDINGS_WordEmbeddings_63e7a53eddbf'\n",
            "'/content/FakeNewsCovidDL/stages/05_WORD_EMBEDDINGS_MODEL_1155c38d85be/storage/EMBEDDINGS_WordEmbeddings_63e7a53eddbf/000446.sst' -> '/content/gdrive/MyDrive/Colab Notebooks/BigData/models/FakeNewsCovidDL/stages/05_WORD_EMBEDDINGS_MODEL_1155c38d85be/storage/EMBEDDINGS_WordEmbeddings_63e7a53eddbf/000446.sst'\n",
            "'/content/FakeNewsCovidDL/stages/05_WORD_EMBEDDINGS_MODEL_1155c38d85be/storage/EMBEDDINGS_WordEmbeddings_63e7a53eddbf/000402.sst' -> '/content/gdrive/MyDrive/Colab Notebooks/BigData/models/FakeNewsCovidDL/stages/05_WORD_EMBEDDINGS_MODEL_1155c38d85be/storage/EMBEDDINGS_WordEmbeddings_63e7a53eddbf/000402.sst'\n",
            "'/content/FakeNewsCovidDL/stages/05_WORD_EMBEDDINGS_MODEL_1155c38d85be/storage/EMBEDDINGS_WordEmbeddings_63e7a53eddbf/000424.sst' -> '/content/gdrive/MyDrive/Colab Notebooks/BigData/models/FakeNewsCovidDL/stages/05_WORD_EMBEDDINGS_MODEL_1155c38d85be/storage/EMBEDDINGS_WordEmbeddings_63e7a53eddbf/000424.sst'\n",
            "'/content/FakeNewsCovidDL/stages/05_WORD_EMBEDDINGS_MODEL_1155c38d85be/storage/EMBEDDINGS_WordEmbeddings_63e7a53eddbf/000457.sst' -> '/content/gdrive/MyDrive/Colab Notebooks/BigData/models/FakeNewsCovidDL/stages/05_WORD_EMBEDDINGS_MODEL_1155c38d85be/storage/EMBEDDINGS_WordEmbeddings_63e7a53eddbf/000457.sst'\n",
            "'/content/FakeNewsCovidDL/stages/05_WORD_EMBEDDINGS_MODEL_1155c38d85be/storage/EMBEDDINGS_WordEmbeddings_63e7a53eddbf/000474.sst' -> '/content/gdrive/MyDrive/Colab Notebooks/BigData/models/FakeNewsCovidDL/stages/05_WORD_EMBEDDINGS_MODEL_1155c38d85be/storage/EMBEDDINGS_WordEmbeddings_63e7a53eddbf/000474.sst'\n",
            "'/content/FakeNewsCovidDL/stages/05_WORD_EMBEDDINGS_MODEL_1155c38d85be/storage/EMBEDDINGS_WordEmbeddings_63e7a53eddbf/000450.sst' -> '/content/gdrive/MyDrive/Colab Notebooks/BigData/models/FakeNewsCovidDL/stages/05_WORD_EMBEDDINGS_MODEL_1155c38d85be/storage/EMBEDDINGS_WordEmbeddings_63e7a53eddbf/000450.sst'\n",
            "'/content/FakeNewsCovidDL/stages/05_WORD_EMBEDDINGS_MODEL_1155c38d85be/storage/EMBEDDINGS_WordEmbeddings_63e7a53eddbf/000479.sst' -> '/content/gdrive/MyDrive/Colab Notebooks/BigData/models/FakeNewsCovidDL/stages/05_WORD_EMBEDDINGS_MODEL_1155c38d85be/storage/EMBEDDINGS_WordEmbeddings_63e7a53eddbf/000479.sst'\n",
            "'/content/FakeNewsCovidDL/stages/05_WORD_EMBEDDINGS_MODEL_1155c38d85be/storage/EMBEDDINGS_WordEmbeddings_63e7a53eddbf/000426.sst' -> '/content/gdrive/MyDrive/Colab Notebooks/BigData/models/FakeNewsCovidDL/stages/05_WORD_EMBEDDINGS_MODEL_1155c38d85be/storage/EMBEDDINGS_WordEmbeddings_63e7a53eddbf/000426.sst'\n",
            "'/content/FakeNewsCovidDL/stages/05_WORD_EMBEDDINGS_MODEL_1155c38d85be/storage/EMBEDDINGS_WordEmbeddings_63e7a53eddbf/000483.sst' -> '/content/gdrive/MyDrive/Colab Notebooks/BigData/models/FakeNewsCovidDL/stages/05_WORD_EMBEDDINGS_MODEL_1155c38d85be/storage/EMBEDDINGS_WordEmbeddings_63e7a53eddbf/000483.sst'\n",
            "'/content/FakeNewsCovidDL/stages/05_WORD_EMBEDDINGS_MODEL_1155c38d85be/storage/EMBEDDINGS_WordEmbeddings_63e7a53eddbf/000447.sst' -> '/content/gdrive/MyDrive/Colab Notebooks/BigData/models/FakeNewsCovidDL/stages/05_WORD_EMBEDDINGS_MODEL_1155c38d85be/storage/EMBEDDINGS_WordEmbeddings_63e7a53eddbf/000447.sst'\n",
            "'/content/FakeNewsCovidDL/stages/05_WORD_EMBEDDINGS_MODEL_1155c38d85be/storage/EMBEDDINGS_WordEmbeddings_63e7a53eddbf/000480.sst' -> '/content/gdrive/MyDrive/Colab Notebooks/BigData/models/FakeNewsCovidDL/stages/05_WORD_EMBEDDINGS_MODEL_1155c38d85be/storage/EMBEDDINGS_WordEmbeddings_63e7a53eddbf/000480.sst'\n",
            "'/content/FakeNewsCovidDL/stages/05_WORD_EMBEDDINGS_MODEL_1155c38d85be/storage/EMBEDDINGS_WordEmbeddings_63e7a53eddbf/000443.sst' -> '/content/gdrive/MyDrive/Colab Notebooks/BigData/models/FakeNewsCovidDL/stages/05_WORD_EMBEDDINGS_MODEL_1155c38d85be/storage/EMBEDDINGS_WordEmbeddings_63e7a53eddbf/000443.sst'\n",
            "'/content/FakeNewsCovidDL/stages/05_WORD_EMBEDDINGS_MODEL_1155c38d85be/storage/EMBEDDINGS_WordEmbeddings_63e7a53eddbf/000403.sst' -> '/content/gdrive/MyDrive/Colab Notebooks/BigData/models/FakeNewsCovidDL/stages/05_WORD_EMBEDDINGS_MODEL_1155c38d85be/storage/EMBEDDINGS_WordEmbeddings_63e7a53eddbf/000403.sst'\n",
            "'/content/FakeNewsCovidDL/stages/05_WORD_EMBEDDINGS_MODEL_1155c38d85be/storage/EMBEDDINGS_WordEmbeddings_63e7a53eddbf/000469.sst' -> '/content/gdrive/MyDrive/Colab Notebooks/BigData/models/FakeNewsCovidDL/stages/05_WORD_EMBEDDINGS_MODEL_1155c38d85be/storage/EMBEDDINGS_WordEmbeddings_63e7a53eddbf/000469.sst'\n",
            "'/content/FakeNewsCovidDL/stages/05_WORD_EMBEDDINGS_MODEL_1155c38d85be/storage/EMBEDDINGS_WordEmbeddings_63e7a53eddbf/LOCK' -> '/content/gdrive/MyDrive/Colab Notebooks/BigData/models/FakeNewsCovidDL/stages/05_WORD_EMBEDDINGS_MODEL_1155c38d85be/storage/EMBEDDINGS_WordEmbeddings_63e7a53eddbf/LOCK'\n",
            "'/content/FakeNewsCovidDL/stages/05_WORD_EMBEDDINGS_MODEL_1155c38d85be/storage/EMBEDDINGS_WordEmbeddings_63e7a53eddbf/000453.sst' -> '/content/gdrive/MyDrive/Colab Notebooks/BigData/models/FakeNewsCovidDL/stages/05_WORD_EMBEDDINGS_MODEL_1155c38d85be/storage/EMBEDDINGS_WordEmbeddings_63e7a53eddbf/000453.sst'\n",
            "'/content/FakeNewsCovidDL/stages/05_WORD_EMBEDDINGS_MODEL_1155c38d85be/storage/EMBEDDINGS_WordEmbeddings_63e7a53eddbf/000454.sst' -> '/content/gdrive/MyDrive/Colab Notebooks/BigData/models/FakeNewsCovidDL/stages/05_WORD_EMBEDDINGS_MODEL_1155c38d85be/storage/EMBEDDINGS_WordEmbeddings_63e7a53eddbf/000454.sst'\n",
            "'/content/FakeNewsCovidDL/stages/05_WORD_EMBEDDINGS_MODEL_1155c38d85be/storage/EMBEDDINGS_WordEmbeddings_63e7a53eddbf/OPTIONS-000005' -> '/content/gdrive/MyDrive/Colab Notebooks/BigData/models/FakeNewsCovidDL/stages/05_WORD_EMBEDDINGS_MODEL_1155c38d85be/storage/EMBEDDINGS_WordEmbeddings_63e7a53eddbf/OPTIONS-000005'\n",
            "'/content/FakeNewsCovidDL/stages/05_WORD_EMBEDDINGS_MODEL_1155c38d85be/storage/EMBEDDINGS_WordEmbeddings_63e7a53eddbf/000470.sst' -> '/content/gdrive/MyDrive/Colab Notebooks/BigData/models/FakeNewsCovidDL/stages/05_WORD_EMBEDDINGS_MODEL_1155c38d85be/storage/EMBEDDINGS_WordEmbeddings_63e7a53eddbf/000470.sst'\n",
            "'/content/FakeNewsCovidDL/stages/05_WORD_EMBEDDINGS_MODEL_1155c38d85be/storage/EMBEDDINGS_WordEmbeddings_63e7a53eddbf/000451.sst' -> '/content/gdrive/MyDrive/Colab Notebooks/BigData/models/FakeNewsCovidDL/stages/05_WORD_EMBEDDINGS_MODEL_1155c38d85be/storage/EMBEDDINGS_WordEmbeddings_63e7a53eddbf/000451.sst'\n",
            "'/content/FakeNewsCovidDL/stages/05_WORD_EMBEDDINGS_MODEL_1155c38d85be/storage/EMBEDDINGS_WordEmbeddings_63e7a53eddbf/000423.sst' -> '/content/gdrive/MyDrive/Colab Notebooks/BigData/models/FakeNewsCovidDL/stages/05_WORD_EMBEDDINGS_MODEL_1155c38d85be/storage/EMBEDDINGS_WordEmbeddings_63e7a53eddbf/000423.sst'\n",
            "'/content/FakeNewsCovidDL/stages/05_WORD_EMBEDDINGS_MODEL_1155c38d85be/storage/EMBEDDINGS_WordEmbeddings_63e7a53eddbf/000363.sst' -> '/content/gdrive/MyDrive/Colab Notebooks/BigData/models/FakeNewsCovidDL/stages/05_WORD_EMBEDDINGS_MODEL_1155c38d85be/storage/EMBEDDINGS_WordEmbeddings_63e7a53eddbf/000363.sst'\n",
            "'/content/FakeNewsCovidDL/stages/05_WORD_EMBEDDINGS_MODEL_1155c38d85be/storage/EMBEDDINGS_WordEmbeddings_63e7a53eddbf/000412.sst' -> '/content/gdrive/MyDrive/Colab Notebooks/BigData/models/FakeNewsCovidDL/stages/05_WORD_EMBEDDINGS_MODEL_1155c38d85be/storage/EMBEDDINGS_WordEmbeddings_63e7a53eddbf/000412.sst'\n",
            "'/content/FakeNewsCovidDL/stages/05_WORD_EMBEDDINGS_MODEL_1155c38d85be/storage/EMBEDDINGS_WordEmbeddings_63e7a53eddbf/000362.sst' -> '/content/gdrive/MyDrive/Colab Notebooks/BigData/models/FakeNewsCovidDL/stages/05_WORD_EMBEDDINGS_MODEL_1155c38d85be/storage/EMBEDDINGS_WordEmbeddings_63e7a53eddbf/000362.sst'\n",
            "'/content/FakeNewsCovidDL/stages/05_WORD_EMBEDDINGS_MODEL_1155c38d85be/storage/EMBEDDINGS_WordEmbeddings_63e7a53eddbf/000296.sst' -> '/content/gdrive/MyDrive/Colab Notebooks/BigData/models/FakeNewsCovidDL/stages/05_WORD_EMBEDDINGS_MODEL_1155c38d85be/storage/EMBEDDINGS_WordEmbeddings_63e7a53eddbf/000296.sst'\n",
            "'/content/FakeNewsCovidDL/stages/05_WORD_EMBEDDINGS_MODEL_1155c38d85be/storage/EMBEDDINGS_WordEmbeddings_63e7a53eddbf/000430.sst' -> '/content/gdrive/MyDrive/Colab Notebooks/BigData/models/FakeNewsCovidDL/stages/05_WORD_EMBEDDINGS_MODEL_1155c38d85be/storage/EMBEDDINGS_WordEmbeddings_63e7a53eddbf/000430.sst'\n",
            "'/content/FakeNewsCovidDL/stages/05_WORD_EMBEDDINGS_MODEL_1155c38d85be/storage/EMBEDDINGS_WordEmbeddings_63e7a53eddbf/000399.sst' -> '/content/gdrive/MyDrive/Colab Notebooks/BigData/models/FakeNewsCovidDL/stages/05_WORD_EMBEDDINGS_MODEL_1155c38d85be/storage/EMBEDDINGS_WordEmbeddings_63e7a53eddbf/000399.sst'\n",
            "'/content/FakeNewsCovidDL/stages/05_WORD_EMBEDDINGS_MODEL_1155c38d85be/storage/EMBEDDINGS_WordEmbeddings_63e7a53eddbf/000468.sst' -> '/content/gdrive/MyDrive/Colab Notebooks/BigData/models/FakeNewsCovidDL/stages/05_WORD_EMBEDDINGS_MODEL_1155c38d85be/storage/EMBEDDINGS_WordEmbeddings_63e7a53eddbf/000468.sst'\n",
            "'/content/FakeNewsCovidDL/stages/05_WORD_EMBEDDINGS_MODEL_1155c38d85be/storage/EMBEDDINGS_WordEmbeddings_63e7a53eddbf/000471.sst' -> '/content/gdrive/MyDrive/Colab Notebooks/BigData/models/FakeNewsCovidDL/stages/05_WORD_EMBEDDINGS_MODEL_1155c38d85be/storage/EMBEDDINGS_WordEmbeddings_63e7a53eddbf/000471.sst'\n",
            "'/content/FakeNewsCovidDL/stages/05_WORD_EMBEDDINGS_MODEL_1155c38d85be/storage/EMBEDDINGS_WordEmbeddings_63e7a53eddbf/000482.sst' -> '/content/gdrive/MyDrive/Colab Notebooks/BigData/models/FakeNewsCovidDL/stages/05_WORD_EMBEDDINGS_MODEL_1155c38d85be/storage/EMBEDDINGS_WordEmbeddings_63e7a53eddbf/000482.sst'\n",
            "'/content/FakeNewsCovidDL/stages/05_WORD_EMBEDDINGS_MODEL_1155c38d85be/storage/EMBEDDINGS_WordEmbeddings_63e7a53eddbf/000427.sst' -> '/content/gdrive/MyDrive/Colab Notebooks/BigData/models/FakeNewsCovidDL/stages/05_WORD_EMBEDDINGS_MODEL_1155c38d85be/storage/EMBEDDINGS_WordEmbeddings_63e7a53eddbf/000427.sst'\n",
            "'/content/FakeNewsCovidDL/stages/05_WORD_EMBEDDINGS_MODEL_1155c38d85be/storage/EMBEDDINGS_WordEmbeddings_63e7a53eddbf/000409.sst' -> '/content/gdrive/MyDrive/Colab Notebooks/BigData/models/FakeNewsCovidDL/stages/05_WORD_EMBEDDINGS_MODEL_1155c38d85be/storage/EMBEDDINGS_WordEmbeddings_63e7a53eddbf/000409.sst'\n",
            "'/content/FakeNewsCovidDL/stages/05_WORD_EMBEDDINGS_MODEL_1155c38d85be/storage/EMBEDDINGS_WordEmbeddings_63e7a53eddbf/000485.log' -> '/content/gdrive/MyDrive/Colab Notebooks/BigData/models/FakeNewsCovidDL/stages/05_WORD_EMBEDDINGS_MODEL_1155c38d85be/storage/EMBEDDINGS_WordEmbeddings_63e7a53eddbf/000485.log'\n",
            "'/content/FakeNewsCovidDL/stages/05_WORD_EMBEDDINGS_MODEL_1155c38d85be/storage/EMBEDDINGS_WordEmbeddings_63e7a53eddbf/000486.sst' -> '/content/gdrive/MyDrive/Colab Notebooks/BigData/models/FakeNewsCovidDL/stages/05_WORD_EMBEDDINGS_MODEL_1155c38d85be/storage/EMBEDDINGS_WordEmbeddings_63e7a53eddbf/000486.sst'\n",
            "'/content/FakeNewsCovidDL/stages/05_WORD_EMBEDDINGS_MODEL_1155c38d85be/storage/EMBEDDINGS_WordEmbeddings_63e7a53eddbf/000400.sst' -> '/content/gdrive/MyDrive/Colab Notebooks/BigData/models/FakeNewsCovidDL/stages/05_WORD_EMBEDDINGS_MODEL_1155c38d85be/storage/EMBEDDINGS_WordEmbeddings_63e7a53eddbf/000400.sst'\n",
            "'/content/FakeNewsCovidDL/stages/05_WORD_EMBEDDINGS_MODEL_1155c38d85be/storage/EMBEDDINGS_WordEmbeddings_63e7a53eddbf/IDENTITY' -> '/content/gdrive/MyDrive/Colab Notebooks/BigData/models/FakeNewsCovidDL/stages/05_WORD_EMBEDDINGS_MODEL_1155c38d85be/storage/EMBEDDINGS_WordEmbeddings_63e7a53eddbf/IDENTITY'\n",
            "'/content/FakeNewsCovidDL/stages/05_WORD_EMBEDDINGS_MODEL_1155c38d85be/storage/EMBEDDINGS_WordEmbeddings_63e7a53eddbf/000481.sst' -> '/content/gdrive/MyDrive/Colab Notebooks/BigData/models/FakeNewsCovidDL/stages/05_WORD_EMBEDDINGS_MODEL_1155c38d85be/storage/EMBEDDINGS_WordEmbeddings_63e7a53eddbf/000481.sst'\n",
            "'/content/FakeNewsCovidDL/stages/05_WORD_EMBEDDINGS_MODEL_1155c38d85be/storage/EMBEDDINGS_WordEmbeddings_63e7a53eddbf/000487.sst' -> '/content/gdrive/MyDrive/Colab Notebooks/BigData/models/FakeNewsCovidDL/stages/05_WORD_EMBEDDINGS_MODEL_1155c38d85be/storage/EMBEDDINGS_WordEmbeddings_63e7a53eddbf/000487.sst'\n",
            "'/content/FakeNewsCovidDL/stages/05_WORD_EMBEDDINGS_MODEL_1155c38d85be/storage/EMBEDDINGS_WordEmbeddings_63e7a53eddbf/000401.sst' -> '/content/gdrive/MyDrive/Colab Notebooks/BigData/models/FakeNewsCovidDL/stages/05_WORD_EMBEDDINGS_MODEL_1155c38d85be/storage/EMBEDDINGS_WordEmbeddings_63e7a53eddbf/000401.sst'\n",
            "'/content/FakeNewsCovidDL/stages/05_WORD_EMBEDDINGS_MODEL_1155c38d85be/storage/EMBEDDINGS_WordEmbeddings_63e7a53eddbf/000345.sst' -> '/content/gdrive/MyDrive/Colab Notebooks/BigData/models/FakeNewsCovidDL/stages/05_WORD_EMBEDDINGS_MODEL_1155c38d85be/storage/EMBEDDINGS_WordEmbeddings_63e7a53eddbf/000345.sst'\n",
            "'/content/FakeNewsCovidDL/stages/05_WORD_EMBEDDINGS_MODEL_1155c38d85be/storage/EMBEDDINGS_WordEmbeddings_63e7a53eddbf/000444.sst' -> '/content/gdrive/MyDrive/Colab Notebooks/BigData/models/FakeNewsCovidDL/stages/05_WORD_EMBEDDINGS_MODEL_1155c38d85be/storage/EMBEDDINGS_WordEmbeddings_63e7a53eddbf/000444.sst'\n",
            "'/content/FakeNewsCovidDL/stages/05_WORD_EMBEDDINGS_MODEL_1155c38d85be/storage/EMBEDDINGS_WordEmbeddings_63e7a53eddbf/000425.sst' -> '/content/gdrive/MyDrive/Colab Notebooks/BigData/models/FakeNewsCovidDL/stages/05_WORD_EMBEDDINGS_MODEL_1155c38d85be/storage/EMBEDDINGS_WordEmbeddings_63e7a53eddbf/000425.sst'\n",
            "'/content/FakeNewsCovidDL/stages/05_WORD_EMBEDDINGS_MODEL_1155c38d85be/storage/EMBEDDINGS_WordEmbeddings_63e7a53eddbf/CURRENT' -> '/content/gdrive/MyDrive/Colab Notebooks/BigData/models/FakeNewsCovidDL/stages/05_WORD_EMBEDDINGS_MODEL_1155c38d85be/storage/EMBEDDINGS_WordEmbeddings_63e7a53eddbf/CURRENT'\n",
            "'/content/FakeNewsCovidDL/stages/05_WORD_EMBEDDINGS_MODEL_1155c38d85be/storage/EMBEDDINGS_WordEmbeddings_63e7a53eddbf/MANIFEST-000008' -> '/content/gdrive/MyDrive/Colab Notebooks/BigData/models/FakeNewsCovidDL/stages/05_WORD_EMBEDDINGS_MODEL_1155c38d85be/storage/EMBEDDINGS_WordEmbeddings_63e7a53eddbf/MANIFEST-000008'\n",
            "'/content/FakeNewsCovidDL/stages/05_WORD_EMBEDDINGS_MODEL_1155c38d85be/storage/EMBEDDINGS_WordEmbeddings_63e7a53eddbf/000380.sst' -> '/content/gdrive/MyDrive/Colab Notebooks/BigData/models/FakeNewsCovidDL/stages/05_WORD_EMBEDDINGS_MODEL_1155c38d85be/storage/EMBEDDINGS_WordEmbeddings_63e7a53eddbf/000380.sst'\n",
            "'/content/FakeNewsCovidDL/stages/05_WORD_EMBEDDINGS_MODEL_1155c38d85be/storage/EMBEDDINGS_WordEmbeddings_63e7a53eddbf/000484.sst' -> '/content/gdrive/MyDrive/Colab Notebooks/BigData/models/FakeNewsCovidDL/stages/05_WORD_EMBEDDINGS_MODEL_1155c38d85be/storage/EMBEDDINGS_WordEmbeddings_63e7a53eddbf/000484.sst'\n",
            "'/content/FakeNewsCovidDL/stages/05_WORD_EMBEDDINGS_MODEL_1155c38d85be/storage/EMBEDDINGS_WordEmbeddings_63e7a53eddbf/000452.sst' -> '/content/gdrive/MyDrive/Colab Notebooks/BigData/models/FakeNewsCovidDL/stages/05_WORD_EMBEDDINGS_MODEL_1155c38d85be/storage/EMBEDDINGS_WordEmbeddings_63e7a53eddbf/000452.sst'\n",
            "'/content/FakeNewsCovidDL/stages/05_WORD_EMBEDDINGS_MODEL_1155c38d85be/storage/EMBEDDINGS_WordEmbeddings_63e7a53eddbf/000445.sst' -> '/content/gdrive/MyDrive/Colab Notebooks/BigData/models/FakeNewsCovidDL/stages/05_WORD_EMBEDDINGS_MODEL_1155c38d85be/storage/EMBEDDINGS_WordEmbeddings_63e7a53eddbf/000445.sst'\n",
            "'/content/FakeNewsCovidDL/stages/05_WORD_EMBEDDINGS_MODEL_1155c38d85be/storage/EMBEDDINGS_WordEmbeddings_63e7a53eddbf/000379.sst' -> '/content/gdrive/MyDrive/Colab Notebooks/BigData/models/FakeNewsCovidDL/stages/05_WORD_EMBEDDINGS_MODEL_1155c38d85be/storage/EMBEDDINGS_WordEmbeddings_63e7a53eddbf/000379.sst'\n",
            "'/content/FakeNewsCovidDL/stages/06_TokenAssembler_0a3204446332' -> '/content/gdrive/MyDrive/Colab Notebooks/BigData/models/FakeNewsCovidDL/stages/06_TokenAssembler_0a3204446332'\n",
            "'/content/FakeNewsCovidDL/stages/06_TokenAssembler_0a3204446332/metadata' -> '/content/gdrive/MyDrive/Colab Notebooks/BigData/models/FakeNewsCovidDL/stages/06_TokenAssembler_0a3204446332/metadata'\n",
            "'/content/FakeNewsCovidDL/stages/06_TokenAssembler_0a3204446332/metadata/_SUCCESS' -> '/content/gdrive/MyDrive/Colab Notebooks/BigData/models/FakeNewsCovidDL/stages/06_TokenAssembler_0a3204446332/metadata/_SUCCESS'\n",
            "'/content/FakeNewsCovidDL/stages/06_TokenAssembler_0a3204446332/metadata/._SUCCESS.crc' -> '/content/gdrive/MyDrive/Colab Notebooks/BigData/models/FakeNewsCovidDL/stages/06_TokenAssembler_0a3204446332/metadata/._SUCCESS.crc'\n",
            "'/content/FakeNewsCovidDL/stages/06_TokenAssembler_0a3204446332/metadata/part-00000' -> '/content/gdrive/MyDrive/Colab Notebooks/BigData/models/FakeNewsCovidDL/stages/06_TokenAssembler_0a3204446332/metadata/part-00000'\n",
            "'/content/FakeNewsCovidDL/stages/06_TokenAssembler_0a3204446332/metadata/.part-00000.crc' -> '/content/gdrive/MyDrive/Colab Notebooks/BigData/models/FakeNewsCovidDL/stages/06_TokenAssembler_0a3204446332/metadata/.part-00000.crc'\n",
            "'/content/FakeNewsCovidDL/stages/07_SentenceEmbeddings_c78956e6a430' -> '/content/gdrive/MyDrive/Colab Notebooks/BigData/models/FakeNewsCovidDL/stages/07_SentenceEmbeddings_c78956e6a430'\n",
            "'/content/FakeNewsCovidDL/stages/07_SentenceEmbeddings_c78956e6a430/metadata' -> '/content/gdrive/MyDrive/Colab Notebooks/BigData/models/FakeNewsCovidDL/stages/07_SentenceEmbeddings_c78956e6a430/metadata'\n",
            "'/content/FakeNewsCovidDL/stages/07_SentenceEmbeddings_c78956e6a430/metadata/_SUCCESS' -> '/content/gdrive/MyDrive/Colab Notebooks/BigData/models/FakeNewsCovidDL/stages/07_SentenceEmbeddings_c78956e6a430/metadata/_SUCCESS'\n",
            "'/content/FakeNewsCovidDL/stages/07_SentenceEmbeddings_c78956e6a430/metadata/._SUCCESS.crc' -> '/content/gdrive/MyDrive/Colab Notebooks/BigData/models/FakeNewsCovidDL/stages/07_SentenceEmbeddings_c78956e6a430/metadata/._SUCCESS.crc'\n",
            "'/content/FakeNewsCovidDL/stages/07_SentenceEmbeddings_c78956e6a430/metadata/part-00000' -> '/content/gdrive/MyDrive/Colab Notebooks/BigData/models/FakeNewsCovidDL/stages/07_SentenceEmbeddings_c78956e6a430/metadata/part-00000'\n",
            "'/content/FakeNewsCovidDL/stages/07_SentenceEmbeddings_c78956e6a430/metadata/.part-00000.crc' -> '/content/gdrive/MyDrive/Colab Notebooks/BigData/models/FakeNewsCovidDL/stages/07_SentenceEmbeddings_c78956e6a430/metadata/.part-00000.crc'\n",
            "'/content/FakeNewsCovidDL/stages/08_StringIndexer_1aa921fc489d' -> '/content/gdrive/MyDrive/Colab Notebooks/BigData/models/FakeNewsCovidDL/stages/08_StringIndexer_1aa921fc489d'\n",
            "'/content/FakeNewsCovidDL/stages/08_StringIndexer_1aa921fc489d/metadata' -> '/content/gdrive/MyDrive/Colab Notebooks/BigData/models/FakeNewsCovidDL/stages/08_StringIndexer_1aa921fc489d/metadata'\n",
            "'/content/FakeNewsCovidDL/stages/08_StringIndexer_1aa921fc489d/metadata/_SUCCESS' -> '/content/gdrive/MyDrive/Colab Notebooks/BigData/models/FakeNewsCovidDL/stages/08_StringIndexer_1aa921fc489d/metadata/_SUCCESS'\n",
            "'/content/FakeNewsCovidDL/stages/08_StringIndexer_1aa921fc489d/metadata/._SUCCESS.crc' -> '/content/gdrive/MyDrive/Colab Notebooks/BigData/models/FakeNewsCovidDL/stages/08_StringIndexer_1aa921fc489d/metadata/._SUCCESS.crc'\n",
            "'/content/FakeNewsCovidDL/stages/08_StringIndexer_1aa921fc489d/metadata/part-00000' -> '/content/gdrive/MyDrive/Colab Notebooks/BigData/models/FakeNewsCovidDL/stages/08_StringIndexer_1aa921fc489d/metadata/part-00000'\n",
            "'/content/FakeNewsCovidDL/stages/08_StringIndexer_1aa921fc489d/metadata/.part-00000.crc' -> '/content/gdrive/MyDrive/Colab Notebooks/BigData/models/FakeNewsCovidDL/stages/08_StringIndexer_1aa921fc489d/metadata/.part-00000.crc'\n",
            "'/content/FakeNewsCovidDL/stages/08_StringIndexer_1aa921fc489d/data' -> '/content/gdrive/MyDrive/Colab Notebooks/BigData/models/FakeNewsCovidDL/stages/08_StringIndexer_1aa921fc489d/data'\n",
            "'/content/FakeNewsCovidDL/stages/08_StringIndexer_1aa921fc489d/data/_SUCCESS' -> '/content/gdrive/MyDrive/Colab Notebooks/BigData/models/FakeNewsCovidDL/stages/08_StringIndexer_1aa921fc489d/data/_SUCCESS'\n",
            "'/content/FakeNewsCovidDL/stages/08_StringIndexer_1aa921fc489d/data/._SUCCESS.crc' -> '/content/gdrive/MyDrive/Colab Notebooks/BigData/models/FakeNewsCovidDL/stages/08_StringIndexer_1aa921fc489d/data/._SUCCESS.crc'\n",
            "'/content/FakeNewsCovidDL/stages/08_StringIndexer_1aa921fc489d/data/part-00000-dc3b4d91-44b7-4bfe-a830-e0aab94c784b-c000.snappy.parquet' -> '/content/gdrive/MyDrive/Colab Notebooks/BigData/models/FakeNewsCovidDL/stages/08_StringIndexer_1aa921fc489d/data/part-00000-dc3b4d91-44b7-4bfe-a830-e0aab94c784b-c000.snappy.parquet'\n",
            "'/content/FakeNewsCovidDL/stages/08_StringIndexer_1aa921fc489d/data/.part-00000-dc3b4d91-44b7-4bfe-a830-e0aab94c784b-c000.snappy.parquet.crc' -> '/content/gdrive/MyDrive/Colab Notebooks/BigData/models/FakeNewsCovidDL/stages/08_StringIndexer_1aa921fc489d/data/.part-00000-dc3b4d91-44b7-4bfe-a830-e0aab94c784b-c000.snappy.parquet.crc'\n",
            "'/content/FakeNewsCovidDL/stages/09_ClassifierDLModel_efc678f95bb7' -> '/content/gdrive/MyDrive/Colab Notebooks/BigData/models/FakeNewsCovidDL/stages/09_ClassifierDLModel_efc678f95bb7'\n",
            "'/content/FakeNewsCovidDL/stages/09_ClassifierDLModel_efc678f95bb7/metadata' -> '/content/gdrive/MyDrive/Colab Notebooks/BigData/models/FakeNewsCovidDL/stages/09_ClassifierDLModel_efc678f95bb7/metadata'\n",
            "'/content/FakeNewsCovidDL/stages/09_ClassifierDLModel_efc678f95bb7/metadata/_SUCCESS' -> '/content/gdrive/MyDrive/Colab Notebooks/BigData/models/FakeNewsCovidDL/stages/09_ClassifierDLModel_efc678f95bb7/metadata/_SUCCESS'\n",
            "'/content/FakeNewsCovidDL/stages/09_ClassifierDLModel_efc678f95bb7/metadata/._SUCCESS.crc' -> '/content/gdrive/MyDrive/Colab Notebooks/BigData/models/FakeNewsCovidDL/stages/09_ClassifierDLModel_efc678f95bb7/metadata/._SUCCESS.crc'\n",
            "'/content/FakeNewsCovidDL/stages/09_ClassifierDLModel_efc678f95bb7/metadata/part-00000' -> '/content/gdrive/MyDrive/Colab Notebooks/BigData/models/FakeNewsCovidDL/stages/09_ClassifierDLModel_efc678f95bb7/metadata/part-00000'\n",
            "'/content/FakeNewsCovidDL/stages/09_ClassifierDLModel_efc678f95bb7/metadata/.part-00000.crc' -> '/content/gdrive/MyDrive/Colab Notebooks/BigData/models/FakeNewsCovidDL/stages/09_ClassifierDLModel_efc678f95bb7/metadata/.part-00000.crc'\n",
            "'/content/FakeNewsCovidDL/stages/09_ClassifierDLModel_efc678f95bb7/fields' -> '/content/gdrive/MyDrive/Colab Notebooks/BigData/models/FakeNewsCovidDL/stages/09_ClassifierDLModel_efc678f95bb7/fields'\n",
            "'/content/FakeNewsCovidDL/stages/09_ClassifierDLModel_efc678f95bb7/fields/datasetParams' -> '/content/gdrive/MyDrive/Colab Notebooks/BigData/models/FakeNewsCovidDL/stages/09_ClassifierDLModel_efc678f95bb7/fields/datasetParams'\n",
            "'/content/FakeNewsCovidDL/stages/09_ClassifierDLModel_efc678f95bb7/fields/datasetParams/_SUCCESS' -> '/content/gdrive/MyDrive/Colab Notebooks/BigData/models/FakeNewsCovidDL/stages/09_ClassifierDLModel_efc678f95bb7/fields/datasetParams/_SUCCESS'\n",
            "'/content/FakeNewsCovidDL/stages/09_ClassifierDLModel_efc678f95bb7/fields/datasetParams/._SUCCESS.crc' -> '/content/gdrive/MyDrive/Colab Notebooks/BigData/models/FakeNewsCovidDL/stages/09_ClassifierDLModel_efc678f95bb7/fields/datasetParams/._SUCCESS.crc'\n",
            "'/content/FakeNewsCovidDL/stages/09_ClassifierDLModel_efc678f95bb7/fields/datasetParams/part-00000' -> '/content/gdrive/MyDrive/Colab Notebooks/BigData/models/FakeNewsCovidDL/stages/09_ClassifierDLModel_efc678f95bb7/fields/datasetParams/part-00000'\n",
            "'/content/FakeNewsCovidDL/stages/09_ClassifierDLModel_efc678f95bb7/fields/datasetParams/part-00001' -> '/content/gdrive/MyDrive/Colab Notebooks/BigData/models/FakeNewsCovidDL/stages/09_ClassifierDLModel_efc678f95bb7/fields/datasetParams/part-00001'\n",
            "'/content/FakeNewsCovidDL/stages/09_ClassifierDLModel_efc678f95bb7/fields/datasetParams/.part-00001.crc' -> '/content/gdrive/MyDrive/Colab Notebooks/BigData/models/FakeNewsCovidDL/stages/09_ClassifierDLModel_efc678f95bb7/fields/datasetParams/.part-00001.crc'\n",
            "'/content/FakeNewsCovidDL/stages/09_ClassifierDLModel_efc678f95bb7/fields/datasetParams/.part-00000.crc' -> '/content/gdrive/MyDrive/Colab Notebooks/BigData/models/FakeNewsCovidDL/stages/09_ClassifierDLModel_efc678f95bb7/fields/datasetParams/.part-00000.crc'\n",
            "'/content/FakeNewsCovidDL/stages/09_ClassifierDLModel_efc678f95bb7/classifierdl_tensorflow' -> '/content/gdrive/MyDrive/Colab Notebooks/BigData/models/FakeNewsCovidDL/stages/09_ClassifierDLModel_efc678f95bb7/classifierdl_tensorflow'\n",
            "'/content/FakeNewsCovidDL/stages/09_ClassifierDLModel_efc678f95bb7/.classifierdl_tensorflow.crc' -> '/content/gdrive/MyDrive/Colab Notebooks/BigData/models/FakeNewsCovidDL/stages/09_ClassifierDLModel_efc678f95bb7/.classifierdl_tensorflow.crc'\n"
          ]
        }
      ]
    },
    {
      "cell_type": "code",
      "source": [
        "!rm -rf '/content/FakeNewsCovidDL'"
      ],
      "metadata": {
        "id": "PjSSRR8u0jrc"
      },
      "execution_count": null,
      "outputs": []
    },
    {
      "cell_type": "markdown",
      "source": [
        "### Load model"
      ],
      "metadata": {
        "id": "-GTNT5_qTjiR"
      }
    },
    {
      "cell_type": "code",
      "source": [
        "!cp -av '/content/gdrive/MyDrive/Colab Notebooks/BigData/models/FakeNewsCovidDL' '/content/models'"
      ],
      "metadata": {
        "id": "bqUJY4zE0qF-"
      },
      "execution_count": null,
      "outputs": []
    },
    {
      "cell_type": "code",
      "source": [
        "# from pyspark.ml.pipeline import PipelineModel\n",
        "# model = PipelineModel.read().load('/content/gdrive/MyDrive/Colab Notebooks/BigData/models/SparkFakeNewsCovid')\n",
        "model = PipelineModel.read().load('/content/models')"
      ],
      "metadata": {
        "id": "VNj0dTABw1U2"
      },
      "execution_count": null,
      "outputs": []
    },
    {
      "cell_type": "code",
      "source": [
        "%%time\n",
        "Validation(model, trainDataset)"
      ],
      "metadata": {
        "id": "M0r2MAF61R44",
        "colab": {
          "base_uri": "https://localhost:8080/"
        },
        "outputId": "956e7a05-bfda-47d0-c5e6-3bc3cf9106fc"
      },
      "execution_count": null,
      "outputs": [
        {
          "output_type": "stream",
          "name": "stdout",
          "text": [
            "+--------+--------------------+----------+\n",
            "|category|            document|prediction|\n",
            "+--------+--------------------+----------+\n",
            "|     0.0|[CDC currently re...|     [0.0]|\n",
            "|     0.0|[States report de...|     [0.0]|\n",
            "|     1.0|[Politically Corr...|     [1.0]|\n",
            "|     0.0|[IndiaFightsCoron...|     [0.0]|\n",
            "|     0.0|[Populous state g...|     [0.0]|\n",
            "+--------+--------------------+----------+\n",
            "only showing top 5 rows\n",
            "\n",
            "0.9219858156028369\n",
            "CPU times: user 1.12 s, sys: 117 ms, total: 1.24 s\n",
            "Wall time: 4min 23s\n"
          ]
        }
      ]
    },
    {
      "cell_type": "code",
      "source": [
        "%%time\n",
        "Validation(model, valDataset)"
      ],
      "metadata": {
        "id": "g-r2IVn0wdom",
        "colab": {
          "base_uri": "https://localhost:8080/"
        },
        "outputId": "1e3ececa-efe8-4df5-d7fe-03a81a623fd9"
      },
      "execution_count": null,
      "outputs": [
        {
          "output_type": "stream",
          "name": "stdout",
          "text": [
            "+--------+--------------------+----------+\n",
            "|category|            document|prediction|\n",
            "+--------+--------------------+----------+\n",
            "|     1.0|[Chinese convert ...|     [1.0]|\n",
            "|     1.0|[people Diamond P...|     [0.0]|\n",
            "|     1.0|[COVID Caused Bac...|     [1.0]|\n",
            "|     1.0|[Mike Pence RNC s...|     [1.0]|\n",
            "|     0.0|[Sky EdConwaySky ...|     [0.0]|\n",
            "+--------+--------------------+----------+\n",
            "only showing top 5 rows\n",
            "\n",
            "0.8318789994182665\n",
            "CPU times: user 250 ms, sys: 22 ms, total: 272 ms\n",
            "Wall time: 44.6 s\n"
          ]
        }
      ]
    },
    {
      "cell_type": "code",
      "source": [
        "%%time\n",
        "Validation(model, testDataset)"
      ],
      "metadata": {
        "id": "oVypl7Eum52a",
        "colab": {
          "base_uri": "https://localhost:8080/"
        },
        "outputId": "d5a1bb31-9bc8-45f5-d996-ddcc57c8dc6a"
      },
      "execution_count": null,
      "outputs": [
        {
          "output_type": "stream",
          "name": "stdout",
          "text": [
            "+--------+--------------------+----------+\n",
            "|category|            document|prediction|\n",
            "+--------+--------------------+----------+\n",
            "|     0.0|[daily update pub...|     [0.0]|\n",
            "|     1.0|[Alfalfa cure COVID]|     [1.0]|\n",
            "|     1.0|[President Trump ...|     [1.0]|\n",
            "|     0.0|[States report de...|     [0.0]|\n",
            "|     0.0|[sixth time globa...|     [0.0]|\n",
            "+--------+--------------------+----------+\n",
            "only showing top 5 rows\n",
            "\n",
            "0.8030575539568345\n",
            "CPU times: user 253 ms, sys: 22.9 ms, total: 276 ms\n",
            "Wall time: 43.3 s\n"
          ]
        }
      ]
    },
    {
      "cell_type": "code",
      "source": [
        "print(model.stages[8].labels)\n",
        "\n",
        "label_to_stringIdx = IndexToString(\n",
        "    inputCol=\"prediction\", \n",
        "    outputCol=\"text_prediction\",\n",
        "    labels=model.stages[8].labels\n",
        ")"
      ],
      "metadata": {
        "colab": {
          "base_uri": "https://localhost:8080/"
        },
        "id": "_siCaE68QL8j",
        "outputId": "e85b5d1f-1f3a-4d0f-9e28-a300169d3c70"
      },
      "execution_count": null,
      "outputs": [
        {
          "output_type": "stream",
          "name": "stdout",
          "text": [
            "['real', 'fake']\n"
          ]
        }
      ]
    },
    {
      "cell_type": "code",
      "source": [
        "data = [('Protect yourself and others from COVID when using public transport by practicing social distancing, avoiding touching surfaces, and practicing hand hygiene',),]\n",
        "df = spark.createDataFrame(data=data, schema='tweet string')\n",
        "df.show(truncate=False)"
      ],
      "metadata": {
        "colab": {
          "base_uri": "https://localhost:8080/"
        },
        "id": "lHbWf2EkQJAb",
        "outputId": "a6cf5a74-df48-4655-cc76-b2c195618d6f"
      },
      "execution_count": null,
      "outputs": [
        {
          "output_type": "stream",
          "name": "stdout",
          "text": [
            "+-----------------------------------------------------------------------------------------------------------------------------------------------------------+\n",
            "|tweet                                                                                                                                                      |\n",
            "+-----------------------------------------------------------------------------------------------------------------------------------------------------------+\n",
            "|Protect yourself and others from COVID when using public transport by practicing social distancing, avoiding touching surfaces, and practicing hand hygiene|\n",
            "+-----------------------------------------------------------------------------------------------------------------------------------------------------------+\n",
            "\n"
          ]
        }
      ]
    },
    {
      "cell_type": "code",
      "source": [
        "(\n",
        "    label_to_stringIdx\n",
        "    .transform(\n",
        "        model\n",
        "        .transform(df)\n",
        "        .withColumn(\n",
        "            'prediction', \n",
        "            f.col('prediction.result')[0]\n",
        "        )\n",
        "        .withColumn(\n",
        "            'prediction', \n",
        "            f.col('prediction')\n",
        "            .cast(DoubleType())\n",
        "        )\n",
        "    )\n",
        "    .show()\n",
        ")"
      ],
      "metadata": {
        "colab": {
          "base_uri": "https://localhost:8080/"
        },
        "id": "FyCB9GkUQNUi",
        "outputId": "ffe06e21-735d-4866-cdf9-d48f0cbaf6b5"
      },
      "execution_count": null,
      "outputs": [
        {
          "output_type": "stream",
          "name": "stdout",
          "text": [
            "+--------------------+--------------------+--------------------+--------------------+----------+---------------+\n",
            "|               tweet|            document|               token|          embeddings|prediction|text_prediction|\n",
            "+--------------------+--------------------+--------------------+--------------------+----------+---------------+\n",
            "|Protect yourself ...|[[document, 0, 10...|[[token, 0, 6, Pr...|[[sentence_embedd...|       0.0|           real|\n",
            "+--------------------+--------------------+--------------------+--------------------+----------+---------------+\n",
            "\n"
          ]
        }
      ]
    },
    {
      "cell_type": "code",
      "source": [
        "data = [('Covid is good',),]\n",
        "df = spark.createDataFrame(data=data, schema='tweet string')\n",
        "df.show(truncate=False)"
      ],
      "metadata": {
        "colab": {
          "base_uri": "https://localhost:8080/"
        },
        "id": "rnwifqsBQPGL",
        "outputId": "4fd14886-a6b0-4505-c886-09d83de65def"
      },
      "execution_count": null,
      "outputs": [
        {
          "output_type": "stream",
          "name": "stdout",
          "text": [
            "+-------------+\n",
            "|tweet        |\n",
            "+-------------+\n",
            "|Covid is good|\n",
            "+-------------+\n",
            "\n"
          ]
        }
      ]
    },
    {
      "cell_type": "code",
      "source": [
        "(\n",
        "    label_to_stringIdx\n",
        "    .transform(\n",
        "        model\n",
        "        .transform(df)\n",
        "        .withColumn(\n",
        "            'prediction', \n",
        "            f.col('prediction.result')[0]\n",
        "        )\n",
        "        .withColumn(\n",
        "            'prediction', \n",
        "            f.col('prediction')\n",
        "            .cast(DoubleType())\n",
        "        )\n",
        "    )\n",
        "    .show()\n",
        ")"
      ],
      "metadata": {
        "colab": {
          "base_uri": "https://localhost:8080/"
        },
        "id": "hDCpeqjcQQqC",
        "outputId": "cc6e7bc1-4a6f-44c9-afc3-0b8e5d781e6f"
      },
      "execution_count": null,
      "outputs": [
        {
          "output_type": "stream",
          "name": "stdout",
          "text": [
            "+-------------+--------------------+--------------------+--------------------+----------+---------------+\n",
            "|        tweet|            document|               token|          embeddings|prediction|text_prediction|\n",
            "+-------------+--------------------+--------------------+--------------------+----------+---------------+\n",
            "|Covid is good|[[document, 0, 9,...|[[token, 0, 4, Co...|[[sentence_embedd...|       1.0|           fake|\n",
            "+-------------+--------------------+--------------------+--------------------+----------+---------------+\n",
            "\n"
          ]
        }
      ]
    },
    {
      "cell_type": "code",
      "source": [
        "data = [('Covid is good and bad',),]\n",
        "df = spark.createDataFrame(data=data, schema='tweet string')\n",
        "df.show(truncate=False)"
      ],
      "metadata": {
        "id": "L2km5l8aQSIC",
        "colab": {
          "base_uri": "https://localhost:8080/"
        },
        "outputId": "1addffa9-80bd-4455-f88f-dd86caaa5009"
      },
      "execution_count": null,
      "outputs": [
        {
          "output_type": "stream",
          "name": "stdout",
          "text": [
            "+---------------------+\n",
            "|tweet                |\n",
            "+---------------------+\n",
            "|Covid is good and bad|\n",
            "+---------------------+\n",
            "\n"
          ]
        }
      ]
    },
    {
      "cell_type": "code",
      "source": [
        "(\n",
        "    label_to_stringIdx\n",
        "    .transform(\n",
        "        model\n",
        "        .transform(df)\n",
        "        .withColumn(\n",
        "            'prediction', \n",
        "            f.col('prediction.result')[0]\n",
        "        )\n",
        "        .withColumn(\n",
        "            'prediction', \n",
        "            f.col('prediction')\n",
        "            .cast(DoubleType())\n",
        "        )\n",
        "    )\n",
        "    .show()\n",
        ")"
      ],
      "metadata": {
        "colab": {
          "base_uri": "https://localhost:8080/"
        },
        "id": "CvV9Fq6AU4jB",
        "outputId": "fc16340d-673d-4697-8e6a-c3fbe56c47ab"
      },
      "execution_count": null,
      "outputs": [
        {
          "output_type": "stream",
          "name": "stdout",
          "text": [
            "+--------------------+--------------------+--------------------+--------------------+----------+---------------+\n",
            "|               tweet|            document|               token|          embeddings|prediction|text_prediction|\n",
            "+--------------------+--------------------+--------------------+--------------------+----------+---------------+\n",
            "|Covid is good and...|[[document, 0, 13...|[[token, 0, 4, Co...|[[sentence_embedd...|       1.0|           fake|\n",
            "+--------------------+--------------------+--------------------+--------------------+----------+---------------+\n",
            "\n"
          ]
        }
      ]
    },
    {
      "cell_type": "code",
      "source": [
        ""
      ],
      "metadata": {
        "id": "XguYkbMiU6Em"
      },
      "execution_count": null,
      "outputs": []
    }
  ]
}